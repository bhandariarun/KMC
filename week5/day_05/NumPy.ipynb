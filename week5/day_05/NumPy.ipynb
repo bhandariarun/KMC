{
 "cells": [
  {
   "cell_type": "markdown",
   "id": "0199e96a",
   "metadata": {},
   "source": [
    "# NumPy\n",
    "<li>NumPy stands for <b>Numerical Python</b>.</li>\n",
    "<li>NumPy is the fundamental packages for scientific computing in Python.</li>\n",
    "<li>It is a Python library which provides support for large, multi-dimensional arrays and matrices.</li>\n",
    "<li>It also provides support for a large collection of high-level mathematical functions to operate on these arrays and matrices.</li>\n"
   ]
  },
  {
   "cell_type": "markdown",
   "id": "ab7a9df5",
   "metadata": {},
   "source": [
    "## Importance Of NumPy In Python\n",
    "\n",
    "<li>support for wide variety of mathematical operation on arrays and matrices.</li>\n",
    "<li>provides various functions for searching, sorting, performing statistical operations and other basic linear algebric operations.</li>"
   ]
  },
  {
   "cell_type": "markdown",
   "id": "45482246",
   "metadata": {},
   "source": [
    "## Installation Of NumPy\n",
    "<li>Go to your terminal, open and activate your virtual environment and then use the following commands for installing numpy.</li>\n",
    "<code>\n",
    "    pip install numpy\n",
    "</code>\n",
    "\n",
    "\n",
    "## Importing NumPy\n",
    "<li>We need to import numpy if we want to create any numpy arrays and perform any operations on them.</li>\n",
    "<li>We can import numpy package using the following command:</li>\n",
    "<code>\n",
    "import numpy as np\n",
    "</code>"
   ]
  },
  {
   "cell_type": "code",
   "execution_count": 2,
   "id": "28cfc943",
   "metadata": {},
   "outputs": [],
   "source": [
    "import numpy as np"
   ]
  },
  {
   "cell_type": "markdown",
   "id": "394ce9f6",
   "metadata": {},
   "source": [
    "## Creating Numpy Arrays.\n",
    "\n",
    "<li>We can create a numpy array by using the function np.array()</li>\n",
    "<li>Inside the np.array() method, we pass a list of items or a list of list of items.</li>"
   ]
  },
  {
   "cell_type": "code",
   "execution_count": 2,
   "id": "5d288649",
   "metadata": {},
   "outputs": [],
   "source": [
    "numpy_array = np.array([1,2,3,4])"
   ]
  },
  {
   "cell_type": "code",
   "execution_count": 3,
   "id": "05924cbb",
   "metadata": {},
   "outputs": [
    {
     "name": "stdout",
     "output_type": "stream",
     "text": [
      "[1 2 3 4]\n"
     ]
    }
   ],
   "source": [
    "print(numpy_array)"
   ]
  },
  {
   "cell_type": "code",
   "execution_count": 5,
   "id": "07283936",
   "metadata": {},
   "outputs": [
    {
     "name": "stdout",
     "output_type": "stream",
     "text": [
      "<class 'numpy.ndarray'>\n"
     ]
    }
   ],
   "source": [
    "print(type(numpy_array))"
   ]
  },
  {
   "cell_type": "code",
   "execution_count": 4,
   "id": "af8437ba",
   "metadata": {},
   "outputs": [
    {
     "name": "stdout",
     "output_type": "stream",
     "text": [
      "[1, 2, 3, 4]\n"
     ]
    }
   ],
   "source": [
    "a = [1,2,3,4]\n",
    "print(a)"
   ]
  },
  {
   "cell_type": "code",
   "execution_count": 6,
   "id": "c8abd25a",
   "metadata": {},
   "outputs": [
    {
     "name": "stdout",
     "output_type": "stream",
     "text": [
      "<class 'list'>\n"
     ]
    }
   ],
   "source": [
    "print(type(a))"
   ]
  },
  {
   "cell_type": "code",
   "execution_count": 7,
   "id": "75a9797e",
   "metadata": {},
   "outputs": [],
   "source": [
    "list_of_list = [['Ram', 'Thapa', 22], ['Shyam', 'Thapa', 32]]"
   ]
  },
  {
   "cell_type": "code",
   "execution_count": 8,
   "id": "b9b089a5",
   "metadata": {},
   "outputs": [
    {
     "name": "stdout",
     "output_type": "stream",
     "text": [
      "[['Ram' 'Thapa' '22']\n",
      " ['Shyam' 'Thapa' '32']]\n"
     ]
    }
   ],
   "source": [
    "twod_array = np.array(list_of_list)\n",
    "print(twod_array)"
   ]
  },
  {
   "cell_type": "code",
   "execution_count": 9,
   "id": "f9feb046",
   "metadata": {},
   "outputs": [
    {
     "name": "stdout",
     "output_type": "stream",
     "text": [
      "<class 'numpy.ndarray'>\n"
     ]
    }
   ],
   "source": [
    "print(type(twod_array))"
   ]
  },
  {
   "cell_type": "markdown",
   "id": "31589521",
   "metadata": {},
   "source": [
    "### Question\n",
    "\n",
    "<li>Import numpy, and assign it to the alias np.</li>\n",
    "<li>Create a NumPy ndarray from the list [10, 20, 30]. Assign the result to the variable data_ndarray</li>"
   ]
  },
  {
   "cell_type": "code",
   "execution_count": 1,
   "id": "f5dd789a",
   "metadata": {},
   "outputs": [],
   "source": [
    "import numpy as np"
   ]
  },
  {
   "cell_type": "code",
   "execution_count": 11,
   "id": "a3c45015",
   "metadata": {},
   "outputs": [],
   "source": [
    "data_ndarray = np.array([10,20,30])"
   ]
  },
  {
   "cell_type": "code",
   "execution_count": 12,
   "id": "1ca0f3f4",
   "metadata": {},
   "outputs": [
    {
     "name": "stdout",
     "output_type": "stream",
     "text": [
      "[10 20 30]\n"
     ]
    }
   ],
   "source": [
    "print(data_ndarray)"
   ]
  },
  {
   "cell_type": "code",
   "execution_count": 13,
   "id": "9411c626",
   "metadata": {},
   "outputs": [
    {
     "name": "stdout",
     "output_type": "stream",
     "text": [
      "<class 'numpy.ndarray'>\n"
     ]
    }
   ],
   "source": [
    "print(type(data_ndarray))"
   ]
  },
  {
   "cell_type": "code",
   "execution_count": 12,
   "id": "a18866e0",
   "metadata": {},
   "outputs": [],
   "source": []
  },
  {
   "cell_type": "markdown",
   "id": "eae753b2",
   "metadata": {},
   "source": [
    "## NumPy Vs Python Lists\n",
    "<li>Importing module</li>\n",
    "<li>Numerical Operations.</li>\n",
    "<li>consumes less memory.</li>\n",
    "<li>fast as compared to the python itselt.</li>\n",
    "<li>convenient to use.</li>"
   ]
  },
  {
   "cell_type": "markdown",
   "id": "061ee673",
   "metadata": {},
   "source": [
    "## Comparing Numpy With Python Lists\n",
    "\n",
    "<li><b>Size/Memory:</b>Numpy array takes less space than that of Python lists.</li>\n",
    "<li><b>Speed/Performance:</b>It takes less time in Numpy array to compute the same task than that of Python lists.</li>"
   ]
  },
  {
   "cell_type": "markdown",
   "id": "5fd598bc",
   "metadata": {},
   "source": [
    "### Memory Comparision Between NumPy & Python Lists\n",
    "<li>For doing the memory comparision, we have getsizeof() function which can be imported from sys library.</li>\n",
    "<li>We can create a list and numpy array containing the same elements and check their size and compare them.</li>\n"
   ]
  },
  {
   "cell_type": "code",
   "execution_count": 14,
   "id": "f31c11fc",
   "metadata": {},
   "outputs": [],
   "source": [
    "from sys import getsizeof"
   ]
  },
  {
   "cell_type": "code",
   "execution_count": 25,
   "id": "9ee1c6a6",
   "metadata": {},
   "outputs": [
    {
     "name": "stdout",
     "output_type": "stream",
     "text": [
      "8697456\n"
     ]
    }
   ],
   "source": [
    "x_list = [i for i in range(1000000)]\n",
    "size_xlist = getsizeof(x_list)\n",
    "print(size_xlist)"
   ]
  },
  {
   "cell_type": "code",
   "execution_count": 26,
   "id": "dcb87815",
   "metadata": {},
   "outputs": [
    {
     "name": "stdout",
     "output_type": "stream",
     "text": [
      "4000112\n"
     ]
    }
   ],
   "source": [
    "x_array = np.array(x_list)\n",
    "size_xarray = getsizeof(x_array)\n",
    "print(size_xarray)"
   ]
  },
  {
   "cell_type": "code",
   "execution_count": 29,
   "id": "e843563c",
   "metadata": {},
   "outputs": [
    {
     "name": "stdout",
     "output_type": "stream",
     "text": [
      "NumPy array takes 2.1743031195126536 times less space than that of Python list\n"
     ]
    }
   ],
   "source": [
    "print(\"NumPy array takes {} times less space than that of Python list\".format(size_xlist / size_xarray))"
   ]
  },
  {
   "cell_type": "markdown",
   "id": "9eac8a1e",
   "metadata": {},
   "source": [
    "### Speed Comparision Between NumPy Array & Python List\n",
    "<li>For doing the speed comparision, we have to perform same operation with Python list and NumPy arrays.</li>\n",
    "<li>We can calculate the time taken by each operation and then compare their speed or performance.</li>\n",
    "<li>For doing this, we have a time module(library) from which we can calculate the start_time using time.process_time().</li>\n",
    "<li>Similarly, we can also calculate the end_time using the same time.process_time().</li>\n",
    "<li>Here start_time means time before performing operation and end_time mens time after performing operation.</li>\n",
    "<li>This way, we can calculate the time taken by the operation by using end_time - start_time formula.</li>\n",
    "<li>Finally, we can compare both times and see which is faster.</li>"
   ]
  },
  {
   "cell_type": "code",
   "execution_count": 30,
   "id": "39f7d30b",
   "metadata": {},
   "outputs": [],
   "source": [
    "first_list = [i for i in range(1, 100000000)]"
   ]
  },
  {
   "cell_type": "code",
   "execution_count": 31,
   "id": "29f8d07f",
   "metadata": {},
   "outputs": [
    {
     "name": "stdout",
     "output_type": "stream",
     "text": [
      "<class 'list'>\n"
     ]
    }
   ],
   "source": [
    "print(type(first_list))"
   ]
  },
  {
   "cell_type": "code",
   "execution_count": 32,
   "id": "056f3d7d",
   "metadata": {},
   "outputs": [],
   "source": [
    "first_ndarray = np.array(first_list)"
   ]
  },
  {
   "cell_type": "code",
   "execution_count": 33,
   "id": "7e77c080",
   "metadata": {},
   "outputs": [
    {
     "name": "stdout",
     "output_type": "stream",
     "text": [
      "<class 'numpy.ndarray'>\n"
     ]
    }
   ],
   "source": [
    "print(type(first_ndarray))"
   ]
  },
  {
   "cell_type": "code",
   "execution_count": 34,
   "id": "b3a82fe7",
   "metadata": {},
   "outputs": [],
   "source": [
    "import time"
   ]
  },
  {
   "cell_type": "code",
   "execution_count": 35,
   "id": "782f1fb2",
   "metadata": {},
   "outputs": [
    {
     "name": "stdout",
     "output_type": "stream",
     "text": [
      "1.7313156000000163\n"
     ]
    }
   ],
   "source": [
    "start_time = time.perf_counter()\n",
    "sum_first_list = sum(first_list)\n",
    "end_time = time.perf_counter()\n",
    "list_processing_time = end_time - start_time\n",
    "print(list_processing_time)"
   ]
  },
  {
   "cell_type": "code",
   "execution_count": 36,
   "id": "0f548268",
   "metadata": {},
   "outputs": [
    {
     "name": "stdout",
     "output_type": "stream",
     "text": [
      "0.05772589999992306\n"
     ]
    }
   ],
   "source": [
    "start_time = time.perf_counter()\n",
    "sum_first_array = np.sum(first_ndarray)\n",
    "end_time = time.perf_counter()\n",
    "ndarray_processing_time = end_time - start_time\n",
    "print(ndarray_processing_time)"
   ]
  },
  {
   "cell_type": "code",
   "execution_count": 37,
   "id": "a60dc096",
   "metadata": {},
   "outputs": [
    {
     "name": "stdout",
     "output_type": "stream",
     "text": [
      "Operations On NumPy is 29.992007054066267 time faster than that of Python list\n"
     ]
    }
   ],
   "source": [
    "print(\"Operations On NumPy is {} time faster than that of Python list\".format(list_processing_time/ndarray_processing_time))"
   ]
  },
  {
   "cell_type": "markdown",
   "id": "29e20289",
   "metadata": {},
   "source": [
    "## Dimensions In Arrays\n",
    "<li>You can get the number of dimensions, shape (length of each dimension), and size (number of all elements) of the NumPy array with ndim, shape, and size attributes of numpy.ndarray.</li>\n",
    "<li>The built-in function len() returns the size of the first dimension.</li>\n",
    "<li>Number of dimensions of the NumPy array: ndim</li>\n",
    "<li>Shape of the NumPy array: shape</li>\n",
    "<li>Size of the NumPy array: size</li>\n",
    "<li>Size of the first dimension of the NumPy array: len()</li>\n",
    "\n",
    "<ol>\n",
    "    <li><b>One Dimensional Arrays:</b> If an array has only one dimension then it is one dimensional array.</li>\n",
    "    <li><b>Two Dimensional Arrays:</b> If an array has two dimensions along x and y axis then it is two dimensional arrays.</li>\n",
    "    <li><b>Three Dimensional Arrays:</b> If an array has three dimensions along x, y and z axis then it is three dimensional arrays.</li>\n",
    "    <li><b>Higher(N) Dimensional Arrays:</b> If an array has more than three dimensions then such arrays are called n-dimensional  or higher dimensional arrays.</li>\n",
    "</ol>"
   ]
  },
  {
   "cell_type": "code",
   "execution_count": 38,
   "id": "995decd6",
   "metadata": {},
   "outputs": [],
   "source": [
    "onedarray = np.array([1,2,3,4])"
   ]
  },
  {
   "cell_type": "code",
   "execution_count": 39,
   "id": "95c14653",
   "metadata": {},
   "outputs": [
    {
     "data": {
      "text/plain": [
       "1"
      ]
     },
     "execution_count": 39,
     "metadata": {},
     "output_type": "execute_result"
    }
   ],
   "source": [
    "onedarray.ndim"
   ]
  },
  {
   "cell_type": "code",
   "execution_count": 45,
   "id": "b3187dc8",
   "metadata": {},
   "outputs": [
    {
     "data": {
      "text/plain": [
       "(4,)"
      ]
     },
     "execution_count": 45,
     "metadata": {},
     "output_type": "execute_result"
    }
   ],
   "source": [
    "onedarray.shape"
   ]
  },
  {
   "cell_type": "code",
   "execution_count": 47,
   "id": "7f2906b8",
   "metadata": {},
   "outputs": [
    {
     "data": {
      "text/plain": [
       "4"
      ]
     },
     "execution_count": 47,
     "metadata": {},
     "output_type": "execute_result"
    }
   ],
   "source": [
    "onedarray.size"
   ]
  },
  {
   "cell_type": "code",
   "execution_count": 46,
   "id": "6139d51d",
   "metadata": {},
   "outputs": [
    {
     "data": {
      "text/plain": [
       "4"
      ]
     },
     "execution_count": 46,
     "metadata": {},
     "output_type": "execute_result"
    }
   ],
   "source": [
    "len(onedarray)"
   ]
  },
  {
   "cell_type": "code",
   "execution_count": 48,
   "id": "9be38575",
   "metadata": {},
   "outputs": [],
   "source": [
    "twodarray = np.array([[1,2,3,4], [5,6,7,8]])"
   ]
  },
  {
   "cell_type": "code",
   "execution_count": 49,
   "id": "bb16f2ed",
   "metadata": {},
   "outputs": [
    {
     "name": "stdout",
     "output_type": "stream",
     "text": [
      "[[1 2 3 4]\n",
      " [5 6 7 8]]\n"
     ]
    }
   ],
   "source": [
    "print(twodarray)"
   ]
  },
  {
   "cell_type": "code",
   "execution_count": 50,
   "id": "d01e462d",
   "metadata": {},
   "outputs": [
    {
     "data": {
      "text/plain": [
       "2"
      ]
     },
     "execution_count": 50,
     "metadata": {},
     "output_type": "execute_result"
    }
   ],
   "source": [
    "twodarray.ndim"
   ]
  },
  {
   "cell_type": "code",
   "execution_count": 51,
   "id": "688bc5ae",
   "metadata": {},
   "outputs": [
    {
     "data": {
      "text/plain": [
       "8"
      ]
     },
     "execution_count": 51,
     "metadata": {},
     "output_type": "execute_result"
    }
   ],
   "source": [
    "twodarray.size"
   ]
  },
  {
   "cell_type": "code",
   "execution_count": 52,
   "id": "24b7f263",
   "metadata": {},
   "outputs": [
    {
     "data": {
      "text/plain": [
       "(2, 4)"
      ]
     },
     "execution_count": 52,
     "metadata": {},
     "output_type": "execute_result"
    }
   ],
   "source": [
    "twodarray.shape"
   ]
  },
  {
   "cell_type": "code",
   "execution_count": 53,
   "id": "8114d520",
   "metadata": {},
   "outputs": [
    {
     "data": {
      "text/plain": [
       "2"
      ]
     },
     "execution_count": 53,
     "metadata": {},
     "output_type": "execute_result"
    }
   ],
   "source": [
    "len(twodarray)"
   ]
  },
  {
   "cell_type": "code",
   "execution_count": 54,
   "id": "ccd43ce2",
   "metadata": {},
   "outputs": [],
   "source": [
    "threedarray = np.array([[[1, 2, 3], [4, 5, 6]]])"
   ]
  },
  {
   "cell_type": "code",
   "execution_count": 55,
   "id": "7a1fb8a7",
   "metadata": {},
   "outputs": [
    {
     "data": {
      "text/plain": [
       "3"
      ]
     },
     "execution_count": 55,
     "metadata": {},
     "output_type": "execute_result"
    }
   ],
   "source": [
    "threedarray.ndim"
   ]
  },
  {
   "cell_type": "code",
   "execution_count": 56,
   "id": "ffde50b7",
   "metadata": {},
   "outputs": [
    {
     "data": {
      "text/plain": [
       "(1, 2, 3)"
      ]
     },
     "execution_count": 56,
     "metadata": {},
     "output_type": "execute_result"
    }
   ],
   "source": [
    "threedarray.shape"
   ]
  },
  {
   "cell_type": "code",
   "execution_count": 57,
   "id": "beedf626",
   "metadata": {},
   "outputs": [
    {
     "data": {
      "text/plain": [
       "6"
      ]
     },
     "execution_count": 57,
     "metadata": {},
     "output_type": "execute_result"
    }
   ],
   "source": [
    "threedarray.size"
   ]
  },
  {
   "cell_type": "code",
   "execution_count": 58,
   "id": "8b6a908e",
   "metadata": {},
   "outputs": [
    {
     "data": {
      "text/plain": [
       "1"
      ]
     },
     "execution_count": 58,
     "metadata": {},
     "output_type": "execute_result"
    }
   ],
   "source": [
    "len(threedarray)"
   ]
  },
  {
   "cell_type": "code",
   "execution_count": 59,
   "id": "6ceefb96",
   "metadata": {},
   "outputs": [],
   "source": [
    "threedarray2 = np.array([[[1,2,3], [4,5,6]], [[9,8,7], [6,5,4]]])"
   ]
  },
  {
   "cell_type": "code",
   "execution_count": 62,
   "id": "88ce18d0",
   "metadata": {},
   "outputs": [
    {
     "name": "stdout",
     "output_type": "stream",
     "text": [
      "[[[1 2 3]\n",
      "  [4 5 6]]\n",
      "\n",
      " [[9 8 7]\n",
      "  [6 5 4]]]\n"
     ]
    }
   ],
   "source": [
    "print(threedarray2)"
   ]
  },
  {
   "cell_type": "code",
   "execution_count": 60,
   "id": "204a66e4",
   "metadata": {},
   "outputs": [
    {
     "data": {
      "text/plain": [
       "3"
      ]
     },
     "execution_count": 60,
     "metadata": {},
     "output_type": "execute_result"
    }
   ],
   "source": [
    "threedarray2.ndim"
   ]
  },
  {
   "cell_type": "code",
   "execution_count": 61,
   "id": "ef3452fd",
   "metadata": {},
   "outputs": [
    {
     "data": {
      "text/plain": [
       "(2, 2, 3)"
      ]
     },
     "execution_count": 61,
     "metadata": {},
     "output_type": "execute_result"
    }
   ],
   "source": [
    "threedarray2.shape"
   ]
  },
  {
   "cell_type": "code",
   "execution_count": 63,
   "id": "664a3fbf",
   "metadata": {},
   "outputs": [
    {
     "data": {
      "text/plain": [
       "12"
      ]
     },
     "execution_count": 63,
     "metadata": {},
     "output_type": "execute_result"
    }
   ],
   "source": [
    "threedarray2.size"
   ]
  },
  {
   "cell_type": "code",
   "execution_count": 64,
   "id": "7a2102af",
   "metadata": {},
   "outputs": [
    {
     "data": {
      "text/plain": [
       "2"
      ]
     },
     "execution_count": 64,
     "metadata": {},
     "output_type": "execute_result"
    }
   ],
   "source": [
    "len(threedarray2)"
   ]
  },
  {
   "cell_type": "code",
   "execution_count": 67,
   "id": "a5183d7c",
   "metadata": {},
   "outputs": [],
   "source": [
    "fourdarray = np.array([[[[1,2,3,4], [4,3,2,1]]], [[[5,6,7,8], [8,7,6,5]]]])"
   ]
  },
  {
   "cell_type": "code",
   "execution_count": 71,
   "id": "8823cb69",
   "metadata": {},
   "outputs": [
    {
     "name": "stdout",
     "output_type": "stream",
     "text": [
      "[[[[1 2 3 4]\n",
      "   [4 3 2 1]]]\n",
      "\n",
      "\n",
      " [[[5 6 7 8]\n",
      "   [8 7 6 5]]]]\n"
     ]
    }
   ],
   "source": [
    "print(fourdarray)"
   ]
  },
  {
   "cell_type": "code",
   "execution_count": 72,
   "id": "9bf71678",
   "metadata": {},
   "outputs": [
    {
     "data": {
      "text/plain": [
       "4"
      ]
     },
     "execution_count": 72,
     "metadata": {},
     "output_type": "execute_result"
    }
   ],
   "source": [
    "fourdarray.ndim"
   ]
  },
  {
   "cell_type": "code",
   "execution_count": 73,
   "id": "172a31dd",
   "metadata": {},
   "outputs": [
    {
     "data": {
      "text/plain": [
       "(2, 1, 2, 4)"
      ]
     },
     "execution_count": 73,
     "metadata": {},
     "output_type": "execute_result"
    }
   ],
   "source": [
    "fourdarray.shape"
   ]
  },
  {
   "cell_type": "code",
   "execution_count": 74,
   "id": "e4177dbc",
   "metadata": {},
   "outputs": [
    {
     "data": {
      "text/plain": [
       "16"
      ]
     },
     "execution_count": 74,
     "metadata": {},
     "output_type": "execute_result"
    }
   ],
   "source": [
    "fourdarray.size"
   ]
  },
  {
   "cell_type": "code",
   "execution_count": 75,
   "id": "439e55eb",
   "metadata": {},
   "outputs": [
    {
     "data": {
      "text/plain": [
       "2"
      ]
     },
     "execution_count": 75,
     "metadata": {},
     "output_type": "execute_result"
    }
   ],
   "source": [
    "len(fourdarray)"
   ]
  },
  {
   "cell_type": "code",
   "execution_count": 76,
   "id": "638add3d",
   "metadata": {},
   "outputs": [],
   "source": [
    "fivedarray = np.array([1,2,3,4], ndmin = 5)"
   ]
  },
  {
   "cell_type": "code",
   "execution_count": 77,
   "id": "b500687a",
   "metadata": {},
   "outputs": [
    {
     "data": {
      "text/plain": [
       "array([[[[[1, 2, 3, 4]]]]])"
      ]
     },
     "execution_count": 77,
     "metadata": {},
     "output_type": "execute_result"
    }
   ],
   "source": [
    "fivedarray"
   ]
  },
  {
   "cell_type": "code",
   "execution_count": 79,
   "id": "d4b81910",
   "metadata": {},
   "outputs": [
    {
     "data": {
      "text/plain": [
       "5"
      ]
     },
     "execution_count": 79,
     "metadata": {},
     "output_type": "execute_result"
    }
   ],
   "source": [
    "fivedarray.ndim"
   ]
  },
  {
   "cell_type": "code",
   "execution_count": 80,
   "id": "68b6b977",
   "metadata": {},
   "outputs": [
    {
     "data": {
      "text/plain": [
       "(1, 1, 1, 1, 4)"
      ]
     },
     "execution_count": 80,
     "metadata": {},
     "output_type": "execute_result"
    }
   ],
   "source": [
    "fivedarray.shape"
   ]
  },
  {
   "cell_type": "code",
   "execution_count": 81,
   "id": "bafd09a6",
   "metadata": {},
   "outputs": [
    {
     "data": {
      "text/plain": [
       "4"
      ]
     },
     "execution_count": 81,
     "metadata": {},
     "output_type": "execute_result"
    }
   ],
   "source": [
    "fivedarray.size"
   ]
  },
  {
   "cell_type": "markdown",
   "id": "13c39c8d",
   "metadata": {},
   "source": [
    "### Question\n",
    "<li><b>Read the car_details.csv file using csv reader, convert them into lists of lists and then create a numpy array using the lists of list.</b></li>"
   ]
  },
  {
   "cell_type": "code",
   "execution_count": 3,
   "id": "bcc24fb3",
   "metadata": {},
   "outputs": [],
   "source": [
    "from csv import reader\n",
    "file = open('car_details.csv')\n",
    "file_read = reader(file)\n",
    "data = list(file_read)"
   ]
  },
  {
   "cell_type": "code",
   "execution_count": 4,
   "id": "83d89207",
   "metadata": {},
   "outputs": [
    {
     "name": "stdout",
     "output_type": "stream",
     "text": [
      "[['Maruti 800 AC', '2007', '60000', '70000', 'Petrol', 'Individual', 'Manual', 'First Owner'], ['Maruti Wagon R LXI Minor', '2007', '135000', '50000', 'Petrol', 'Individual', 'Manual', 'First Owner'], ['Hyundai Verna 1.6 SX', '2012', '600000', '100000', 'Diesel', 'Individual', 'Manual', 'First Owner'], ['Datsun RediGO T Option', '2017', '250000', '46000', 'Petrol', 'Individual', 'Manual', 'First Owner'], ['Honda Amaze VX i-DTEC', '2014', '450000', '141000', 'Diesel', 'Individual', 'Manual', 'Second Owner']]\n"
     ]
    }
   ],
   "source": [
    "print(data[1:6])"
   ]
  },
  {
   "cell_type": "code",
   "execution_count": 5,
   "id": "bd650a58",
   "metadata": {},
   "outputs": [
    {
     "name": "stdout",
     "output_type": "stream",
     "text": [
      "[['Maruti 800 AC' '2007' '60000' ... 'Individual' 'Manual' 'First Owner']\n",
      " ['Maruti Wagon R LXI Minor' '2007' '135000' ... 'Individual' 'Manual'\n",
      "  'First Owner']\n",
      " ['Hyundai Verna 1.6 SX' '2012' '600000' ... 'Individual' 'Manual'\n",
      "  'First Owner']\n",
      " ...\n",
      " ['Maruti 800 AC BSIII' '2009' '110000' ... 'Individual' 'Manual'\n",
      "  'Second Owner']\n",
      " ['Hyundai Creta 1.6 CRDi SX Option' '2016' '865000' ... 'Individual'\n",
      "  'Manual' 'First Owner']\n",
      " ['Renault KWID RXT' '2016' '225000' ... 'Individual' 'Manual'\n",
      "  'First Owner']]\n"
     ]
    }
   ],
   "source": [
    "csv_array = np.array(data[1:])\n",
    "print(csv_array)"
   ]
  },
  {
   "cell_type": "code",
   "execution_count": 66,
   "id": "a2ca3bc0",
   "metadata": {},
   "outputs": [
    {
     "name": "stdout",
     "output_type": "stream",
     "text": [
      "2\n"
     ]
    }
   ],
   "source": [
    "print(csv_array.ndim)"
   ]
  },
  {
   "cell_type": "code",
   "execution_count": 67,
   "id": "dca3d874",
   "metadata": {},
   "outputs": [
    {
     "name": "stdout",
     "output_type": "stream",
     "text": [
      "(4340, 8)\n"
     ]
    }
   ],
   "source": [
    "print(csv_array.shape)"
   ]
  },
  {
   "cell_type": "code",
   "execution_count": 68,
   "id": "99246f1f",
   "metadata": {},
   "outputs": [
    {
     "name": "stdout",
     "output_type": "stream",
     "text": [
      "34720\n"
     ]
    }
   ],
   "source": [
    "print(csv_array.size)"
   ]
  },
  {
   "cell_type": "code",
   "execution_count": 69,
   "id": "ff568a21",
   "metadata": {},
   "outputs": [
    {
     "name": "stdout",
     "output_type": "stream",
     "text": [
      "4340\n"
     ]
    }
   ],
   "source": [
    "print(len(csv_array))"
   ]
  },
  {
   "cell_type": "markdown",
   "id": "a0141cc1",
   "metadata": {},
   "source": [
    "## Special NumPy Arrays\n",
    "\n",
    "<ol>\n",
    "    <li><b>np.zeros():</b>The zeros() function is used to get a new array of given shape and type, filled with zeros.</li>\n",
    "    <li><b>np.ones():</b>The ones() function is used to get a new array of given shape and type, filled with ones.</li>\n",
    "</ol>"
   ]
  },
  {
   "cell_type": "code",
   "execution_count": 89,
   "id": "a3ae4921",
   "metadata": {},
   "outputs": [
    {
     "name": "stdout",
     "output_type": "stream",
     "text": [
      "[0. 0. 0. 0.]\n",
      "1\n",
      "(4,)\n",
      "4\n"
     ]
    }
   ],
   "source": [
    "zeros_array = np.zeros(4)\n",
    "print(zeros_array)\n",
    "print(zeros_array.ndim)\n",
    "print(zeros_array.shape)\n",
    "print(zeros_array.size)"
   ]
  },
  {
   "cell_type": "code",
   "execution_count": 91,
   "id": "49e671d4",
   "metadata": {},
   "outputs": [
    {
     "name": "stdout",
     "output_type": "stream",
     "text": [
      "[[0. 0. 0. 0. 0.]\n",
      " [0. 0. 0. 0. 0.]\n",
      " [0. 0. 0. 0. 0.]]\n",
      "2\n",
      "(3, 5)\n",
      "15\n"
     ]
    }
   ],
   "source": [
    "zeros_array2d = np.zeros((3,5))\n",
    "print(zeros_array2d)\n",
    "print(zeros_array2d.ndim)\n",
    "print(zeros_array2d.shape)\n",
    "print(zeros_array2d.size)"
   ]
  },
  {
   "cell_type": "code",
   "execution_count": 92,
   "id": "9b4dbf54",
   "metadata": {},
   "outputs": [
    {
     "name": "stdout",
     "output_type": "stream",
     "text": [
      "[[[0. 0.]\n",
      "  [0. 0.]\n",
      "  [0. 0.]\n",
      "  [0. 0.]\n",
      "  [0. 0.]]\n",
      "\n",
      " [[0. 0.]\n",
      "  [0. 0.]\n",
      "  [0. 0.]\n",
      "  [0. 0.]\n",
      "  [0. 0.]]\n",
      "\n",
      " [[0. 0.]\n",
      "  [0. 0.]\n",
      "  [0. 0.]\n",
      "  [0. 0.]\n",
      "  [0. 0.]]]\n",
      "3\n",
      "(3, 5, 2)\n",
      "30\n"
     ]
    }
   ],
   "source": [
    "zeros_array3d = np.zeros((3,5,2))\n",
    "print(zeros_array3d)\n",
    "print(zeros_array3d.ndim)\n",
    "print(zeros_array3d.shape)\n",
    "print(zeros_array3d.size)"
   ]
  },
  {
   "cell_type": "code",
   "execution_count": 93,
   "id": "8017a0c1",
   "metadata": {},
   "outputs": [
    {
     "name": "stdout",
     "output_type": "stream",
     "text": [
      "[[0 0 0 0 0]\n",
      " [0 0 0 0 0]\n",
      " [0 0 0 0 0]]\n",
      "2\n",
      "(3, 5)\n",
      "15\n"
     ]
    }
   ],
   "source": [
    "zeros_array2d = np.zeros((3,5), dtype = 'int')\n",
    "print(zeros_array2d)\n",
    "print(zeros_array2d.ndim)\n",
    "print(zeros_array2d.shape)\n",
    "print(zeros_array2d.size)"
   ]
  },
  {
   "cell_type": "code",
   "execution_count": 94,
   "id": "1e1c7ff7",
   "metadata": {},
   "outputs": [
    {
     "name": "stdout",
     "output_type": "stream",
     "text": [
      "[1. 1. 1. 1.]\n",
      "1\n",
      "(4,)\n",
      "4\n",
      "4\n"
     ]
    }
   ],
   "source": [
    "ones_array = np.ones(4)\n",
    "print(ones_array)\n",
    "print(ones_array.ndim)\n",
    "print(ones_array.shape)\n",
    "print(ones_array.size)\n",
    "print(len(ones_array))"
   ]
  },
  {
   "cell_type": "code",
   "execution_count": 95,
   "id": "90eb794d",
   "metadata": {},
   "outputs": [
    {
     "name": "stdout",
     "output_type": "stream",
     "text": [
      "[[1. 1. 1. 1. 1.]\n",
      " [1. 1. 1. 1. 1.]\n",
      " [1. 1. 1. 1. 1.]\n",
      " [1. 1. 1. 1. 1.]]\n",
      "2\n",
      "(4, 5)\n",
      "20\n",
      "4\n"
     ]
    }
   ],
   "source": [
    "ones_array_2d = np.ones((4, 5))\n",
    "print(ones_array_2d)\n",
    "print(ones_array_2d.ndim)\n",
    "print(ones_array_2d.shape)\n",
    "print(ones_array_2d.size)\n",
    "print(len(ones_array_2d))"
   ]
  },
  {
   "cell_type": "code",
   "execution_count": 96,
   "id": "1e8b6602",
   "metadata": {},
   "outputs": [
    {
     "name": "stdout",
     "output_type": "stream",
     "text": [
      "[[1 1 1 1 1]\n",
      " [1 1 1 1 1]\n",
      " [1 1 1 1 1]\n",
      " [1 1 1 1 1]]\n",
      "2\n",
      "(4, 5)\n",
      "20\n",
      "4\n"
     ]
    }
   ],
   "source": [
    "ones_array_2d = np.ones((4, 5), dtype = 'int')\n",
    "print(ones_array_2d)\n",
    "print(ones_array_2d.ndim)\n",
    "print(ones_array_2d.shape)\n",
    "print(ones_array_2d.size)\n",
    "print(len(ones_array_2d))"
   ]
  },
  {
   "cell_type": "markdown",
   "id": "8f3236b8",
   "metadata": {},
   "source": [
    "<b>3. np.empty():</b>\n",
    "\n",
    "<li>Return a new array of given shape and type, with random values.</li>\n",
    "<li>Note : empty, unlike zeros, does not set the array values to zero, and may therefore be marginally faster.</li>\n",
    "<li>It accepts three parameters. They are as follows:</li>\n",
    "<ol>\n",
    "    <li><b>shape:</b> Shape of the empty array, e.g., (2, 3) or 2.\tRequired</li>\n",
    "    <li><b>dtype:</b> Desired output data-type for the array, e.g, numpy.int8. Default is numpy.float64.\toptional</li>\n",
    "    <li><b>order:</b> Whether to store multi-dimensional data in row-major (C-style) or column-major (Fortran-style) order in memory. optional</li>\n",
    "</ol>"
   ]
  },
  {
   "cell_type": "code",
   "execution_count": 97,
   "id": "7b50ee2f",
   "metadata": {},
   "outputs": [
    {
     "name": "stdout",
     "output_type": "stream",
     "text": [
      "[2.12199579e-314 6.36598737e-314 1.06099790e-313 1.48539705e-313\n",
      " 1.90979621e-313]\n",
      "5\n",
      "1\n",
      "(5,)\n",
      "5\n"
     ]
    }
   ],
   "source": [
    "empty_array1d = np.empty(5)\n",
    "print(empty_array1d)\n",
    "print(empty_array1d.size)\n",
    "print(empty_array1d.ndim)\n",
    "print(empty_array1d.shape)\n",
    "print(len(empty_array1d))"
   ]
  },
  {
   "cell_type": "code",
   "execution_count": 98,
   "id": "f7a780d4",
   "metadata": {},
   "outputs": [
    {
     "name": "stdout",
     "output_type": "stream",
     "text": [
      "[[6.23042070e-307 4.67296746e-307 1.69121096e-306]\n",
      " [1.95821982e-306 1.89146896e-307 7.56571288e-307]]\n",
      "6\n",
      "2\n",
      "(2, 3)\n",
      "2\n"
     ]
    }
   ],
   "source": [
    "empty_array2d = np.empty((2, 3))\n",
    "print(empty_array2d)\n",
    "print(empty_array2d.size)\n",
    "print(empty_array2d.ndim)\n",
    "print(empty_array2d.shape)\n",
    "print(len(empty_array2d))"
   ]
  },
  {
   "cell_type": "code",
   "execution_count": 100,
   "id": "b614f5cb",
   "metadata": {},
   "outputs": [
    {
     "name": "stdout",
     "output_type": "stream",
     "text": [
      "[[  508737360         372   511467904]\n",
      " [        372           0 -2147483648]]\n",
      "6\n",
      "2\n",
      "(2, 3)\n",
      "2\n"
     ]
    }
   ],
   "source": [
    "empty_array2d = np.empty((2, 3),dtype = 'int', order = \"C\")\n",
    "print(empty_array2d)\n",
    "print(empty_array2d.size)\n",
    "print(empty_array2d.ndim)\n",
    "print(empty_array2d.shape)\n",
    "print(len(empty_array2d))"
   ]
  },
  {
   "cell_type": "code",
   "execution_count": 101,
   "id": "92758eb8",
   "metadata": {},
   "outputs": [
    {
     "name": "stdout",
     "output_type": "stream",
     "text": [
      "[[  508737360           0           1]\n",
      " [        372           0 -2147483648]]\n",
      "6\n",
      "2\n",
      "(2, 3)\n",
      "2\n"
     ]
    }
   ],
   "source": [
    "empty_array2d = np.empty((2, 3),dtype = 'int', order = \"F\")\n",
    "print(empty_array2d)\n",
    "print(empty_array2d.size)\n",
    "print(empty_array2d.ndim)\n",
    "print(empty_array2d.shape)\n",
    "print(len(empty_array2d))"
   ]
  },
  {
   "cell_type": "markdown",
   "id": "5a060fd2",
   "metadata": {},
   "source": [
    "<b>4. np.arange()</b>\n",
    "<li>This arange() function is similar like range in Python.</li>\n",
    "<li>np.arange() returns an array with evenly spaced elements as per the interval. The interval mentioned is half-opened i.e. [Start, Stop)</li>\n",
    "<li>It accepts four parameters which are as follows:</li>\n",
    "<ol>\n",
    "    <li>start : [optional] start of interval range. By default start = 0</li>\n",
    "    <li>stop  : end of interval range</li>\n",
    "    <li>step  : [optional] step size of interval. By default step size = 1,</li>  \n",
    "    <li>dtype : type of output array</li>\n",
    "</ol>"
   ]
  },
  {
   "cell_type": "code",
   "execution_count": 103,
   "id": "b4499f74",
   "metadata": {},
   "outputs": [
    {
     "name": "stdout",
     "output_type": "stream",
     "text": [
      "[ 1  2  3  4  5  6  7  8  9 10]\n"
     ]
    }
   ],
   "source": [
    "arrange_array = np.arange(1,11)\n",
    "print(arrange_array)"
   ]
  },
  {
   "cell_type": "code",
   "execution_count": 104,
   "id": "0c154fba",
   "metadata": {},
   "outputs": [
    {
     "name": "stdout",
     "output_type": "stream",
     "text": [
      "[ 1  4  7 10]\n"
     ]
    }
   ],
   "source": [
    "arrange_array = np.arange(1,11, 3)\n",
    "print(arrange_array)"
   ]
  },
  {
   "cell_type": "code",
   "execution_count": 105,
   "id": "e279e21d",
   "metadata": {},
   "outputs": [
    {
     "name": "stdout",
     "output_type": "stream",
     "text": [
      "[ 1.  4.  7. 10.]\n"
     ]
    }
   ],
   "source": [
    "arrange_array = np.arange(1,11, 3, 'float')\n",
    "print(arrange_array)"
   ]
  },
  {
   "cell_type": "code",
   "execution_count": null,
   "id": "ce1fe9e3",
   "metadata": {},
   "outputs": [],
   "source": []
  },
  {
   "cell_type": "markdown",
   "id": "3a1620fe",
   "metadata": {},
   "source": [
    "<b>5.np.eye():</b>\n",
    "<li>An array where diagonal element is filled with 1's.</li>\n",
    "<li>It accepts four parameters which are as follows:</li>\n",
    "<ol>\n",
    "    <li>R: no of rows</li>\n",
    "    <li>C: no of columns</li>\n",
    "    <li>k : [int, optional, 0 by default]\n",
    "          Diagonal we require; k>0 means diagonal above main diagonal or vice versa.</li>\n",
    "    <li>dtype : [optional, float(by Default)] Data type of returned array.</li>\n"
   ]
  },
  {
   "cell_type": "code",
   "execution_count": 108,
   "id": "f3f67b4b",
   "metadata": {},
   "outputs": [
    {
     "name": "stdout",
     "output_type": "stream",
     "text": [
      "[[0. 1. 0. 0. 0. 0.]\n",
      " [0. 0. 1. 0. 0. 0.]\n",
      " [0. 0. 0. 1. 0. 0.]\n",
      " [0. 0. 0. 0. 1. 0.]\n",
      " [0. 0. 0. 0. 0. 1.]]\n"
     ]
    }
   ],
   "source": [
    "diagonal_matrix = np.eye(5,6,k = 1)\n",
    "print(diagonal_matrix)"
   ]
  },
  {
   "cell_type": "code",
   "execution_count": 113,
   "id": "dcbb4f6e",
   "metadata": {},
   "outputs": [
    {
     "name": "stdout",
     "output_type": "stream",
     "text": [
      "[[0. 0. 0. 0. 0. 0.]\n",
      " [0. 0. 0. 0. 0. 0.]\n",
      " [0. 0. 0. 0. 0. 0.]\n",
      " [0. 0. 0. 0. 0. 0.]\n",
      " [1. 0. 0. 0. 0. 0.]]\n"
     ]
    }
   ],
   "source": [
    "diagonal_matrix_2 = np.eye(5,6,k = -4)\n",
    "print(diagonal_matrix_2)"
   ]
  },
  {
   "cell_type": "code",
   "execution_count": 114,
   "id": "2bc693c2",
   "metadata": {},
   "outputs": [
    {
     "name": "stdout",
     "output_type": "stream",
     "text": [
      "[[0 0 0 0 0 0]\n",
      " [0 0 0 0 0 0]\n",
      " [0 0 0 0 0 0]\n",
      " [0 0 0 0 0 0]\n",
      " [1 0 0 0 0 0]]\n"
     ]
    }
   ],
   "source": [
    "diagonal_matrix_3 = np.eye(5,6,k = -4, dtype = 'int')\n",
    "print(diagonal_matrix_3)"
   ]
  },
  {
   "cell_type": "markdown",
   "id": "1ff01241",
   "metadata": {},
   "source": [
    "<b>6. np.linspace():</b> \n",
    "<li>It will create an array with values that are spaced linearly in a specified interval.</li>\n",
    "<li>The numpy.linspace() function returns number spaces evenly w.r.t interval. Similar to numpy.arange() function but instead of step it uses sample number.</li>\n",
    "<li>It accepts 5 parameters. They are as follows:</li>\n",
    "<ol>\n",
    "    <li>start  : [optional] start of interval range. By default start = 0</li>\n",
    "    <li>stop   : end of interval range</li>\n",
    "    <li>retstep : If True, return (samples, step). By default retstep = False</li>\n",
    "    <li>num    : [int, optional] No. of samples to generate; default value is 50</li>\n",
    "    <li>dtype  : type of output array</li>\n",
    "</ol>"
   ]
  },
  {
   "cell_type": "code",
   "execution_count": 2,
   "id": "574d5855",
   "metadata": {},
   "outputs": [],
   "source": [
    "import numpy as np\n",
    "arr1 = np.linspace(1, 32)"
   ]
  },
  {
   "cell_type": "code",
   "execution_count": 3,
   "id": "5a634960",
   "metadata": {},
   "outputs": [
    {
     "data": {
      "text/plain": [
       "array([ 1.        ,  1.63265306,  2.26530612,  2.89795918,  3.53061224,\n",
       "        4.16326531,  4.79591837,  5.42857143,  6.06122449,  6.69387755,\n",
       "        7.32653061,  7.95918367,  8.59183673,  9.2244898 ,  9.85714286,\n",
       "       10.48979592, 11.12244898, 11.75510204, 12.3877551 , 13.02040816,\n",
       "       13.65306122, 14.28571429, 14.91836735, 15.55102041, 16.18367347,\n",
       "       16.81632653, 17.44897959, 18.08163265, 18.71428571, 19.34693878,\n",
       "       19.97959184, 20.6122449 , 21.24489796, 21.87755102, 22.51020408,\n",
       "       23.14285714, 23.7755102 , 24.40816327, 25.04081633, 25.67346939,\n",
       "       26.30612245, 26.93877551, 27.57142857, 28.20408163, 28.83673469,\n",
       "       29.46938776, 30.10204082, 30.73469388, 31.36734694, 32.        ])"
      ]
     },
     "execution_count": 3,
     "metadata": {},
     "output_type": "execute_result"
    }
   ],
   "source": [
    "arr1"
   ]
  },
  {
   "cell_type": "code",
   "execution_count": 10,
   "id": "6d89d777",
   "metadata": {},
   "outputs": [
    {
     "name": "stdout",
     "output_type": "stream",
     "text": [
      "(array([ 1,  5,  9, 13, 17, 21]), 4.0)\n"
     ]
    }
   ],
   "source": [
    "arr2 = np.linspace(1, 21, retstep = True, num = 6, dtype = 'int')\n",
    "print(arr2)"
   ]
  },
  {
   "cell_type": "code",
   "execution_count": 9,
   "id": "19ed3d43",
   "metadata": {},
   "outputs": [
    {
     "name": "stdout",
     "output_type": "stream",
     "text": [
      "(array([ 1.        ,  7.55555556, 14.11111111, 20.66666667, 27.22222222,\n",
      "       33.77777778, 40.33333333, 46.88888889, 53.44444444, 60.        ]), 6.555555555555555)\n"
     ]
    }
   ],
   "source": [
    "arr3 = np.linspace(1, 60, retstep = True, num = 10)\n",
    "print(arr3)"
   ]
  },
  {
   "cell_type": "markdown",
   "id": "d040f7e5",
   "metadata": {},
   "source": [
    "## Create Numpy Arrays With Random Numbers\n",
    "\n",
    "<li>Earlier, we read about some special functions with which we can create special numpy arras.</li>\n",
    "<li>If we want our numpy arrays to have random values, then this can be achived by utilizing three special functions which is capable for generating random values.</li>\n",
    "<li>They are:</li>\n",
    "<ol>\n",
    "    <li>rand()</li>\n",
    "    <li>randn()</li>\n",
    "    <li>randint()</li>\n",
    "</ol>"
   ]
  },
  {
   "cell_type": "markdown",
   "id": "34cdacaf",
   "metadata": {},
   "source": [
    "<b>1. rand():</b>\n",
    "<li>The numpy.random.rand() function creates an array of specified shape and fills it with random values.</li>\n",
    "<li>This function is used to generate a random value between 0 and 1.</li>\n",
    "\n",
    "**Syntax**\n",
    "<code>\n",
    "    np.random.rand(d0, d1, ..., dn)\n",
    "</code>\n",
    "<li>It returns the random values lying between 0 and 1 in a given shape.</li>"
   ]
  },
  {
   "cell_type": "markdown",
   "id": "ba89f1ae",
   "metadata": {},
   "source": [
    "### 1D array"
   ]
  },
  {
   "cell_type": "code",
   "execution_count": 11,
   "id": "0e6bb8bd",
   "metadata": {},
   "outputs": [
    {
     "name": "stdout",
     "output_type": "stream",
     "text": [
      "[0.95463112 0.79351239 0.05302786 0.69651982]\n",
      "1\n",
      "(4,)\n"
     ]
    }
   ],
   "source": [
    "random1 = np.random.rand(4)\n",
    "print(random1)\n",
    "print(random1.ndim)\n",
    "print(random1.shape)"
   ]
  },
  {
   "cell_type": "markdown",
   "id": "2d9ad231",
   "metadata": {},
   "source": [
    "### 2D array"
   ]
  },
  {
   "cell_type": "code",
   "execution_count": 13,
   "id": "700a48e6",
   "metadata": {},
   "outputs": [
    {
     "name": "stdout",
     "output_type": "stream",
     "text": [
      "[[0.02887772 0.15483597 0.58150721]\n",
      " [0.12002761 0.30088594 0.47961064]]\n",
      "2\n",
      "(2, 3)\n"
     ]
    }
   ],
   "source": [
    "random2d = np.random.rand(2,3)\n",
    "print(random2d)\n",
    "print(random2d.ndim)\n",
    "print(random2d.shape)"
   ]
  },
  {
   "cell_type": "markdown",
   "id": "ca80a650",
   "metadata": {},
   "source": [
    "### 3D array"
   ]
  },
  {
   "cell_type": "code",
   "execution_count": 14,
   "id": "147c2379",
   "metadata": {},
   "outputs": [
    {
     "name": "stdout",
     "output_type": "stream",
     "text": [
      "[[[0.95752706 0.17805226 0.71027313 0.70360017]\n",
      "  [0.725773   0.53440217 0.00397417 0.05835542]\n",
      "  [0.38424546 0.55138782 0.67297395 0.86031444]]\n",
      "\n",
      " [[0.48158831 0.307162   0.28908663 0.14625126]\n",
      "  [0.78863658 0.00911609 0.56076632 0.69301797]\n",
      "  [0.80332935 0.97950198 0.08612256 0.79718827]]]\n",
      "3\n",
      "(2, 3, 4)\n"
     ]
    }
   ],
   "source": [
    "random3d = np.random.rand(2,3, 4)\n",
    "print(random3d)\n",
    "print(random3d.ndim)\n",
    "print(random3d.shape)"
   ]
  },
  {
   "cell_type": "markdown",
   "id": "2fe63cfa",
   "metadata": {},
   "source": [
    "<b>2. randn():</b>\n",
    "<li>The numpy.random.randn() function creates an array of specified shape and fills it with random values as per standard normal distribution.</li>\n",
    "<li>This function is used to generate a random value close to zero(0).</li>\n",
    "<li>This function may return positive as well as negative numbers as well.</li>\n",
    "\n",
    "\n",
    "**Syntax**\n",
    "<code>\n",
    "    np.random.randn(d0, d1, ..., dn)\n",
    "</code>\n"
   ]
  },
  {
   "cell_type": "code",
   "execution_count": 16,
   "id": "52b96ee1",
   "metadata": {},
   "outputs": [
    {
     "name": "stdout",
     "output_type": "stream",
     "text": [
      "[ 1.74789855 -0.87751881  1.28696745  1.5763005 ]\n",
      "1\n",
      "(4,)\n"
     ]
    }
   ],
   "source": [
    "radnarray1 = np.random.randn(4)\n",
    "print(radnarray1)\n",
    "print(radnarray1.ndim)\n",
    "print(radnarray1.shape)"
   ]
  },
  {
   "cell_type": "code",
   "execution_count": 17,
   "id": "0f254ead",
   "metadata": {},
   "outputs": [
    {
     "name": "stdout",
     "output_type": "stream",
     "text": [
      "[[ 0.54986252 -0.16773915 -0.11622908  0.30182812  0.18112056]\n",
      " [ 2.6722416   1.87639397 -0.38419009  1.29041412  0.53937962]\n",
      " [ 1.93257508  0.63693674 -1.79050873 -0.00284375  1.19650053]\n",
      " [-0.54113153  0.61806044 -0.85315597  0.75394884  0.52727277]]\n",
      "2\n",
      "(4, 5)\n"
     ]
    }
   ],
   "source": [
    "radnarray2 = np.random.randn(4,5)\n",
    "print(radnarray2)\n",
    "print(radnarray2.ndim)\n",
    "print(radnarray2.shape)"
   ]
  },
  {
   "cell_type": "code",
   "execution_count": 18,
   "id": "e9468dea",
   "metadata": {},
   "outputs": [
    {
     "name": "stdout",
     "output_type": "stream",
     "text": [
      "[[[-0.08755572  0.08033696]\n",
      "  [-2.0364295   1.44252961]\n",
      "  [ 0.07020553 -2.74748178]\n",
      "  [ 0.03369992 -0.36103245]\n",
      "  [-1.4717839   0.8165238 ]]\n",
      "\n",
      " [[ 0.09260011 -0.60485831]\n",
      "  [ 1.5209407   0.51503588]\n",
      "  [ 0.17628288  0.47206873]\n",
      "  [ 1.06594324 -0.45132352]\n",
      "  [-1.82448047 -0.81127458]]\n",
      "\n",
      " [[ 0.40173237 -0.05531126]\n",
      "  [ 0.7642984  -0.42601103]\n",
      "  [-1.21412479  1.43721162]\n",
      "  [-0.09559734  1.09512413]\n",
      "  [ 0.63453368 -1.21112776]]\n",
      "\n",
      " [[-0.62443027  0.17875261]\n",
      "  [ 0.17546503 -0.61542145]\n",
      "  [ 1.99503413 -1.35320111]\n",
      "  [-0.42129052 -1.74956098]\n",
      "  [-0.07132623  0.20879304]]]\n",
      "3\n",
      "(4, 5, 2)\n"
     ]
    }
   ],
   "source": [
    "radnarray3 = np.random.randn(4,5,2)\n",
    "print(radnarray3)\n",
    "print(radnarray3.ndim)\n",
    "print(radnarray3.shape)"
   ]
  },
  {
   "cell_type": "code",
   "execution_count": null,
   "id": "97140f19",
   "metadata": {},
   "outputs": [],
   "source": []
  },
  {
   "cell_type": "markdown",
   "id": "b9cc5244",
   "metadata": {},
   "source": [
    "<b>3. randint()</b>\n",
    "<li>This function is used to generate random numbers between a given range.</li>\n",
    "<li>randint() is an inbuilt function of the random module in Python3.</li>\n",
    "<li>It accepts two parameters. They are:</li>\n",
    "<ol>\n",
    "    <li>start: a starting point which is an integer value.</li>\n",
    "    <li>end: an ending point which is also an integer value.</li>\n",
    "</ol>\n",
    "\n",
    "**Syntax**\n",
    "<code>\n",
    "    random.randint(low, high=None, size=None, dtype=int)\n",
    "</code>"
   ]
  },
  {
   "cell_type": "code",
   "execution_count": 29,
   "id": "c57e77d5",
   "metadata": {},
   "outputs": [
    {
     "name": "stdout",
     "output_type": "stream",
     "text": [
      "19\n"
     ]
    }
   ],
   "source": [
    "randintarr = np.random.randint(5, 23)\n",
    "print(randintarr)"
   ]
  },
  {
   "cell_type": "code",
   "execution_count": 30,
   "id": "7d78c453",
   "metadata": {},
   "outputs": [
    {
     "name": "stdout",
     "output_type": "stream",
     "text": [
      "[ 8 14  6 13 17 12]\n"
     ]
    }
   ],
   "source": [
    "randintarr2 = np.random.randint(5, 23, 6)\n",
    "print(randintarr2)"
   ]
  },
  {
   "cell_type": "code",
   "execution_count": 33,
   "id": "55aeded0",
   "metadata": {},
   "outputs": [
    {
     "name": "stdout",
     "output_type": "stream",
     "text": [
      "[[75 67 44]\n",
      " [52 73 38]]\n"
     ]
    }
   ],
   "source": [
    "randintarr3 = np.random.randint(5, 89, (2,3))\n",
    "print(randintarr3)"
   ]
  },
  {
   "cell_type": "code",
   "execution_count": 34,
   "id": "95da602e",
   "metadata": {},
   "outputs": [
    {
     "name": "stdout",
     "output_type": "stream",
     "text": [
      "[[[60 10]\n",
      "  [86 42]\n",
      "  [21 58]]\n",
      "\n",
      " [[13 52]\n",
      "  [43 59]\n",
      "  [17 84]]]\n"
     ]
    }
   ],
   "source": [
    "randintarr4 = np.random.randint(5, 89, (2,3,2))\n",
    "print(randintarr4)"
   ]
  },
  {
   "cell_type": "code",
   "execution_count": null,
   "id": "05778168",
   "metadata": {},
   "outputs": [],
   "source": []
  },
  {
   "cell_type": "markdown",
   "id": "9e5da5eb",
   "metadata": {},
   "source": [
    "## DataTypes In Numpy\n",
    "\n",
    "<li>Numpy offers several datatypes to work with. Some of the datatypes are listed below:</li>\n",
    "\n",
    "![](images/numpy_datatypes.png)"
   ]
  },
  {
   "cell_type": "code",
   "execution_count": 35,
   "id": "64238a77",
   "metadata": {},
   "outputs": [
    {
     "name": "stdout",
     "output_type": "stream",
     "text": [
      "[   2    3   45 -127  -22   54]\n"
     ]
    }
   ],
   "source": [
    "import warnings\n",
    "warnings.filterwarnings('ignore')\n",
    "\n",
    "nt8dtype = np.array([2,3,45,129,234,54], dtype = 'int8')\n",
    "print(nt8dtype)"
   ]
  },
  {
   "cell_type": "code",
   "execution_count": 36,
   "id": "57638e77",
   "metadata": {},
   "outputs": [
    {
     "name": "stdout",
     "output_type": "stream",
     "text": [
      "[  2   3  45 129 234  54]\n"
     ]
    }
   ],
   "source": [
    "nt16dtype = np.array([2,3,45,129,234,54], dtype = 'int16')\n",
    "print(nt16dtype)"
   ]
  },
  {
   "cell_type": "code",
   "execution_count": null,
   "id": "70a78f50",
   "metadata": {},
   "outputs": [],
   "source": [
    "nt16dtype = np.array([2,3,45,129,234,54], dtype = 'int')\n",
    "print(nt16dtype)"
   ]
  },
  {
   "cell_type": "code",
   "execution_count": 38,
   "id": "073955f6",
   "metadata": {},
   "outputs": [
    {
     "name": "stdout",
     "output_type": "stream",
     "text": [
      "[  2   3  45 129 234  28]\n"
     ]
    }
   ],
   "source": [
    "unt8dtype = np.array([2,3,45,129,234,540], dtype = 'uint8')\n",
    "print(unt8dtype)"
   ]
  },
  {
   "cell_type": "code",
   "execution_count": 39,
   "id": "86422d0d",
   "metadata": {},
   "outputs": [
    {
     "data": {
      "text/plain": [
       "512"
      ]
     },
     "execution_count": 39,
     "metadata": {},
     "output_type": "execute_result"
    }
   ],
   "source": [
    "256*2"
   ]
  },
  {
   "cell_type": "code",
   "execution_count": 45,
   "id": "3d7057e4",
   "metadata": {},
   "outputs": [
    {
     "name": "stdout",
     "output_type": "stream",
     "text": [
      "[  2.   3.  45. 129.  inf  inf]\n"
     ]
    }
   ],
   "source": [
    "float16dtype = np.array([2,3,45,129,238888874,545555], dtype = 'float16')\n",
    "print(float16dtype)"
   ]
  },
  {
   "cell_type": "code",
   "execution_count": 46,
   "id": "26ca2f81",
   "metadata": {},
   "outputs": [
    {
     "name": "stdout",
     "output_type": "stream",
     "text": [
      "[2.0000000e+00 3.0000000e+00 4.5000000e+01 1.2900000e+02 2.3888888e+08\n",
      " 5.4555500e+05]\n"
     ]
    }
   ],
   "source": [
    "float32dtype = np.array([2,3,45,129,238888874,545555], dtype = 'float32')\n",
    "print(float32dtype)"
   ]
  },
  {
   "cell_type": "code",
   "execution_count": 47,
   "id": "db5f0de3",
   "metadata": {},
   "outputs": [
    {
     "name": "stdout",
     "output_type": "stream",
     "text": [
      "[2.00000000e+00 3.00000000e+00 4.50000000e+01 1.29000000e+02\n",
      " 2.38888875e+13 5.45555556e+13]\n"
     ]
    }
   ],
   "source": [
    "float64dtype = np.array([2,3,45,129,23888887455555,54555555555555], dtype = 'float64')\n",
    "print(float64dtype)"
   ]
  },
  {
   "cell_type": "code",
   "execution_count": 53,
   "id": "382f07bc",
   "metadata": {},
   "outputs": [
    {
     "name": "stdout",
     "output_type": "stream",
     "text": [
      "[5.+4.j 3.+2.j 4.+4.j]\n"
     ]
    }
   ],
   "source": [
    "complex1 = np.complex128([5+4j,3+2j, 4+4j])\n",
    "print(complex1)"
   ]
  },
  {
   "cell_type": "code",
   "execution_count": 54,
   "id": "61b8570c",
   "metadata": {},
   "outputs": [
    {
     "data": {
      "text/plain": [
       "dtype('complex128')"
      ]
     },
     "execution_count": 54,
     "metadata": {},
     "output_type": "execute_result"
    }
   ],
   "source": [
    "complex1.dtype"
   ]
  },
  {
   "cell_type": "code",
   "execution_count": 55,
   "id": "6b1ea078",
   "metadata": {},
   "outputs": [
    {
     "data": {
      "text/plain": [
       "array([5., 3., 4.])"
      ]
     },
     "execution_count": 55,
     "metadata": {},
     "output_type": "execute_result"
    }
   ],
   "source": [
    "complex1.real"
   ]
  },
  {
   "cell_type": "code",
   "execution_count": 57,
   "id": "219c60a9",
   "metadata": {},
   "outputs": [
    {
     "data": {
      "text/plain": [
       "array([4., 2., 4.])"
      ]
     },
     "execution_count": 57,
     "metadata": {},
     "output_type": "execute_result"
    }
   ],
   "source": [
    "complex1.imag"
   ]
  },
  {
   "cell_type": "code",
   "execution_count": 58,
   "id": "ffc43137",
   "metadata": {},
   "outputs": [
    {
     "data": {
      "text/plain": [
       "array([5.-4.j, 3.-2.j, 4.-4.j])"
      ]
     },
     "execution_count": 58,
     "metadata": {},
     "output_type": "execute_result"
    }
   ],
   "source": [
    "np.conjugate(complex1)"
   ]
  },
  {
   "cell_type": "code",
   "execution_count": 63,
   "id": "91f2b072",
   "metadata": {},
   "outputs": [
    {
     "name": "stdout",
     "output_type": "stream",
     "text": [
      "['2022-12-01' '2022-12-03' '2022-12-05' '2022-12-07' '2022-12-09'\n",
      " '2022-12-11' '2022-12-13' '2022-12-15' '2022-12-17' '2022-12-19'\n",
      " '2022-12-21' '2022-12-23' '2022-12-25' '2022-12-27' '2022-12-29']\n"
     ]
    }
   ],
   "source": [
    "a = np.arange('2022-12-01', '2022-12-31',2, dtype = 'datetime64')\n",
    "print(a)"
   ]
  },
  {
   "cell_type": "code",
   "execution_count": 64,
   "id": "19df1159",
   "metadata": {},
   "outputs": [
    {
     "name": "stdout",
     "output_type": "stream",
     "text": [
      "datetime64[D]\n"
     ]
    }
   ],
   "source": [
    "print(a.dtype)"
   ]
  },
  {
   "cell_type": "code",
   "execution_count": 68,
   "id": "86bd1e63",
   "metadata": {},
   "outputs": [
    {
     "name": "stdout",
     "output_type": "stream",
     "text": [
      "2022-12-23\n",
      "<class 'numpy.datetime64'>\n"
     ]
    }
   ],
   "source": [
    "datetimedtype = np.datetime64('2022-12-23')\n",
    "print(datetimedtype)\n",
    "print(type(datetimedtype))"
   ]
  },
  {
   "cell_type": "code",
   "execution_count": 85,
   "id": "3f886a70",
   "metadata": {},
   "outputs": [
    {
     "name": "stdout",
     "output_type": "stream",
     "text": [
      "2023-01-01\n",
      "<class 'numpy.datetime64'>\n"
     ]
    }
   ],
   "source": [
    "newdatetime = np.datetime64('2023-01-01')\n",
    "print(newdatetime)\n",
    "print(type(newdatetime))"
   ]
  },
  {
   "cell_type": "code",
   "execution_count": 86,
   "id": "0d7269ee",
   "metadata": {},
   "outputs": [
    {
     "name": "stdout",
     "output_type": "stream",
     "text": [
      "9 days\n"
     ]
    }
   ],
   "source": [
    "days_left_df  = np.subtract(newdatetime, datetimedtype)\n",
    "print(days_left_df)"
   ]
  },
  {
   "cell_type": "code",
   "execution_count": 88,
   "id": "7baea167",
   "metadata": {},
   "outputs": [
    {
     "name": "stdout",
     "output_type": "stream",
     "text": [
      "<class 'numpy.timedelta64'>\n"
     ]
    },
    {
     "data": {
      "text/plain": [
       "dtype('<m8[D]')"
      ]
     },
     "execution_count": 88,
     "metadata": {},
     "output_type": "execute_result"
    }
   ],
   "source": [
    "print(type(days_left_df))\n",
    "days_left_df.dtype"
   ]
  },
  {
   "cell_type": "code",
   "execution_count": 74,
   "id": "797c1f5d",
   "metadata": {},
   "outputs": [],
   "source": [
    "timedeltadtype = np.timedelta64('5','D')"
   ]
  },
  {
   "cell_type": "code",
   "execution_count": 82,
   "id": "d66bbd4f",
   "metadata": {},
   "outputs": [
    {
     "name": "stdout",
     "output_type": "stream",
     "text": [
      "2022-12-28\n",
      "datetime64[D]\n"
     ]
    }
   ],
   "source": [
    "adddatetimedelta = np.add(datetimedtype, timedeltadtype)\n",
    "print(adddatetimedelta)\n",
    "print(adddatetimedelta.dtype)"
   ]
  },
  {
   "cell_type": "code",
   "execution_count": 83,
   "id": "f6161af1",
   "metadata": {},
   "outputs": [
    {
     "name": "stdout",
     "output_type": "stream",
     "text": [
      "2022-12-18\n",
      "datetime64[D]\n"
     ]
    }
   ],
   "source": [
    "subdatetimedelta = np.subtract(datetimedtype, timedeltadtype)\n",
    "print(subdatetimedelta)\n",
    "print(subdatetimedelta.dtype)"
   ]
  },
  {
   "cell_type": "code",
   "execution_count": 90,
   "id": "fb01e2f7",
   "metadata": {},
   "outputs": [
    {
     "name": "stdout",
     "output_type": "stream",
     "text": [
      "['bimal' 'sherbahadur' 'solomon' 'asmita']\n",
      "<U11\n"
     ]
    }
   ],
   "source": [
    "stringdtype = np.array(['bimal', 'sherbahadur', 'solomon', \n",
    "                       'asmita'])\n",
    "print(stringdtype)\n",
    "print(stringdtype.dtype)"
   ]
  },
  {
   "cell_type": "code",
   "execution_count": null,
   "id": "d129e7cc",
   "metadata": {},
   "outputs": [],
   "source": []
  },
  {
   "cell_type": "markdown",
   "id": "e5cc3c04",
   "metadata": {},
   "source": [
    "<li>For more info about datetime datatype do visit this link.</li>\n",
    "<li>https://numpy.org/doc/stable/reference/arrays.datetime.html</li>"
   ]
  },
  {
   "cell_type": "markdown",
   "id": "f84c1c01",
   "metadata": {},
   "source": [
    "## Arithmetic Operations In NumPy\n",
    "\n",
    "<b>1. Addition:</b>\n",
    "<li>We can add two numpy arrays of same shape. For adding two numpy arrays, we use <b>np.add(a,b)</b> function where a and b are two numpy arrays.</li>\n",
    "<li>We can perform addition on any dimension arrays if they both are of same shape.</li>\n"
   ]
  },
  {
   "cell_type": "code",
   "execution_count": 94,
   "id": "71c6899a",
   "metadata": {},
   "outputs": [],
   "source": [
    "array1 = np.array([[1,2,3], [4,5,6], [7,8,9]])\n",
    "array2 = np.array([[9,8,7], [3,2,1], [6,5,4]])"
   ]
  },
  {
   "cell_type": "code",
   "execution_count": 97,
   "id": "50c90c92",
   "metadata": {},
   "outputs": [
    {
     "name": "stdout",
     "output_type": "stream",
     "text": [
      "[[10 10 10]\n",
      " [ 7  7  7]\n",
      " [13 13 13]]\n"
     ]
    }
   ],
   "source": [
    "addition1 = np.add(array1 , array2)\n",
    "print(addition1)"
   ]
  },
  {
   "cell_type": "code",
   "execution_count": 96,
   "id": "1cc6bd89",
   "metadata": {},
   "outputs": [],
   "source": [
    "array3 = np.array([1,2,3,4,5,6, 7,8,9])\n",
    "array4 = np.array([9,8,7,3,2,1,6,5,4])"
   ]
  },
  {
   "cell_type": "code",
   "execution_count": 98,
   "id": "87d3dfef",
   "metadata": {},
   "outputs": [
    {
     "name": "stdout",
     "output_type": "stream",
     "text": [
      "[10 10 10  7  7  7 13 13 13]\n"
     ]
    }
   ],
   "source": [
    "addition2 = np.add(array3, array4)\n",
    "print(addition2)"
   ]
  },
  {
   "cell_type": "code",
   "execution_count": 99,
   "id": "4af3df73",
   "metadata": {},
   "outputs": [],
   "source": [
    "array5 = np.random.randint(2, 45, (2,2,2))\n",
    "array6 = np.random.randint(3, 13, (2,2,2))"
   ]
  },
  {
   "cell_type": "code",
   "execution_count": 100,
   "id": "661bee46",
   "metadata": {},
   "outputs": [
    {
     "name": "stdout",
     "output_type": "stream",
     "text": [
      "[[[16 33]\n",
      "  [ 7 29]]\n",
      "\n",
      " [[42 37]\n",
      "  [22 28]]]\n"
     ]
    }
   ],
   "source": [
    "print(array5)"
   ]
  },
  {
   "cell_type": "code",
   "execution_count": 101,
   "id": "bf98d0b6",
   "metadata": {},
   "outputs": [
    {
     "name": "stdout",
     "output_type": "stream",
     "text": [
      "[[[ 4  9]\n",
      "  [ 6 10]]\n",
      "\n",
      " [[ 5  4]\n",
      "  [11  8]]]\n"
     ]
    }
   ],
   "source": [
    "print(array6)"
   ]
  },
  {
   "cell_type": "code",
   "execution_count": 102,
   "id": "7156e39c",
   "metadata": {},
   "outputs": [
    {
     "name": "stdout",
     "output_type": "stream",
     "text": [
      "[[[20 42]\n",
      "  [13 39]]\n",
      "\n",
      " [[47 41]\n",
      "  [33 36]]]\n"
     ]
    }
   ],
   "source": [
    "sum_3d = np.add(array5, array6)\n",
    "print(sum_3d)"
   ]
  },
  {
   "cell_type": "code",
   "execution_count": null,
   "id": "fa8eb2a3",
   "metadata": {},
   "outputs": [],
   "source": []
  },
  {
   "cell_type": "code",
   "execution_count": null,
   "id": "cb3fc141",
   "metadata": {},
   "outputs": [],
   "source": []
  },
  {
   "cell_type": "markdown",
   "id": "c37ca606",
   "metadata": {},
   "source": [
    "<b>2. Subtraction:</b>\n",
    "<li>We can subtract two numpy arrays of same shape. For subtracting two numpy arrays, we use np.subtract(a,b) where a and b are two numpy arrays.</li>\n",
    "<li>We can perform subtraction on any dimension arrays if they both are of same shape.</li>\n"
   ]
  },
  {
   "cell_type": "code",
   "execution_count": 104,
   "id": "5eddcbb9",
   "metadata": {},
   "outputs": [
    {
     "name": "stdout",
     "output_type": "stream",
     "text": [
      "[4 3 2 5]\n",
      "[ 7  8  9 10]\n",
      "[-3 -5 -7 -5]\n"
     ]
    }
   ],
   "source": [
    "array1 = np.random.randint(1, 8, 4)\n",
    "array2 = np.random.randint(5, 12, 4)\n",
    "print(array1)\n",
    "print(array2)\n",
    "sub12 = np.subtract(array1, array2)\n",
    "print(sub12)"
   ]
  },
  {
   "cell_type": "code",
   "execution_count": 106,
   "id": "fa935e0c",
   "metadata": {},
   "outputs": [
    {
     "name": "stdout",
     "output_type": "stream",
     "text": [
      "[[ 5  8  7  8]\n",
      " [ 6  7 10  6]]\n",
      "\n",
      "[[2 3 7 5]\n",
      " [2 5 8 6]]\n",
      "\n",
      "[[3 5 0 3]\n",
      " [4 2 2 0]]\n"
     ]
    }
   ],
   "source": [
    "array3 = np.random.randint(5, 11, (2,4))\n",
    "array4 = np.random.randint(1, 9, (2,4))\n",
    "print(array3)\n",
    "print()\n",
    "print(array4)\n",
    "print()\n",
    "sub34 = np.subtract(array3, array4)\n",
    "print(sub34)"
   ]
  },
  {
   "cell_type": "code",
   "execution_count": 107,
   "id": "b38936e8",
   "metadata": {},
   "outputs": [
    {
     "name": "stdout",
     "output_type": "stream",
     "text": [
      "[[[ 7  6  5]\n",
      "  [10 10  8]\n",
      "  [ 5 10  6]]\n",
      "\n",
      " [[10 10 10]\n",
      "  [10  5  6]\n",
      "  [10  8  7]]\n",
      "\n",
      " [[ 8  9 10]\n",
      "  [ 7 10  8]\n",
      "  [ 5  9  6]]]\n",
      "\n",
      "[[[3 8 4]\n",
      "  [4 6 5]\n",
      "  [5 8 8]]\n",
      "\n",
      " [[6 3 8]\n",
      "  [7 8 2]\n",
      "  [6 1 1]]\n",
      "\n",
      " [[5 8 2]\n",
      "  [4 3 8]\n",
      "  [4 8 3]]]\n",
      "\n",
      "[[[ 4 -2  1]\n",
      "  [ 6  4  3]\n",
      "  [ 0  2 -2]]\n",
      "\n",
      " [[ 4  7  2]\n",
      "  [ 3 -3  4]\n",
      "  [ 4  7  6]]\n",
      "\n",
      " [[ 3  1  8]\n",
      "  [ 3  7  0]\n",
      "  [ 1  1  3]]]\n"
     ]
    }
   ],
   "source": [
    "array5 = np.random.randint(5, 11, (3,3,3))\n",
    "array6 = np.random.randint(1, 9, (3,3,3))\n",
    "print(array5)\n",
    "print()\n",
    "print(array6)\n",
    "print()\n",
    "sub56 = np.subtract(array5, array6)\n",
    "print(sub56)"
   ]
  },
  {
   "cell_type": "code",
   "execution_count": null,
   "id": "55073065",
   "metadata": {},
   "outputs": [],
   "source": []
  },
  {
   "cell_type": "markdown",
   "id": "36088714",
   "metadata": {},
   "source": [
    "<b>3. Multiplication:</b>\n",
    "<li>We can multiply two numpy arrays of same shape. For subtracting two numpy arrays, we use np.multiply(a,b) where a and b are two numpy arrays.</li>\n",
    "<li>We can perform multiplication on any dimension arrays if they both are of same shape.</li>\n"
   ]
  },
  {
   "cell_type": "code",
   "execution_count": 108,
   "id": "8cb9a5ca",
   "metadata": {},
   "outputs": [
    {
     "name": "stdout",
     "output_type": "stream",
     "text": [
      "[6 2 3 5]\n",
      "[ 7 10  8 11]\n",
      "[42 20 24 55]\n"
     ]
    }
   ],
   "source": [
    "array1 = np.random.randint(1, 8, 4)\n",
    "array2 = np.random.randint(5, 12, 4)\n",
    "print(array1)\n",
    "print(array2)\n",
    "mul12 = np.multiply(array1, array2)\n",
    "print(mul12)"
   ]
  },
  {
   "cell_type": "code",
   "execution_count": 109,
   "id": "828c9586",
   "metadata": {},
   "outputs": [
    {
     "name": "stdout",
     "output_type": "stream",
     "text": [
      "[[ 9  8  5  6]\n",
      " [ 5  7 10  5]]\n",
      "\n",
      "[[3 6 3 2]\n",
      " [1 7 4 4]]\n",
      "\n",
      "[[27 48 15 12]\n",
      " [ 5 49 40 20]]\n"
     ]
    }
   ],
   "source": [
    "array3 = np.random.randint(5, 11, (2,4))\n",
    "array4 = np.random.randint(1, 9, (2,4))\n",
    "print(array3)\n",
    "print()\n",
    "print(array4)\n",
    "print()\n",
    "mul34 = np.multiply(array3, array4)\n",
    "print(mul34)"
   ]
  },
  {
   "cell_type": "code",
   "execution_count": 110,
   "id": "6d895fd1",
   "metadata": {},
   "outputs": [
    {
     "name": "stdout",
     "output_type": "stream",
     "text": [
      "[[[ 7  6]\n",
      "  [ 5  9]]\n",
      "\n",
      " [[ 5  5]\n",
      "  [10  5]]]\n",
      "\n",
      "[[[8 5]\n",
      "  [7 7]]\n",
      "\n",
      " [[7 2]\n",
      "  [4 4]]]\n",
      "\n",
      "[[[56 30]\n",
      "  [35 63]]\n",
      "\n",
      " [[35 10]\n",
      "  [40 20]]]\n"
     ]
    }
   ],
   "source": [
    "array5 = np.random.randint(5, 11, (2,2,2))\n",
    "array6 = np.random.randint(1, 9, (2,2,2))\n",
    "print(array5)\n",
    "print()\n",
    "print(array6)\n",
    "print()\n",
    "mul56 = np.multiply(array5, array6)\n",
    "print(mul56)"
   ]
  },
  {
   "cell_type": "markdown",
   "id": "51a0a46c",
   "metadata": {},
   "source": [
    "<b>4. Division:</b>\n",
    "<li>We can divide two numpy arrays of same shape. For dividing two numpy arrays, we can use np.divide(a, b) where a and b are two numpy arrays.</li>\n",
    "<li>We can perform division on any dimension arrays if they both are of same shape.</li>\n"
   ]
  },
  {
   "cell_type": "code",
   "execution_count": 111,
   "id": "6662d710",
   "metadata": {},
   "outputs": [
    {
     "name": "stdout",
     "output_type": "stream",
     "text": [
      "[5 5 3 2]\n",
      "[ 9 11  8  6]\n",
      "[0.55555556 0.45454545 0.375      0.33333333]\n"
     ]
    }
   ],
   "source": [
    "array1 = np.random.randint(1, 8, 4)\n",
    "array2 = np.random.randint(5, 12, 4)\n",
    "print(array1)\n",
    "print(array2)\n",
    "div12 = np.divide(array1, array2)\n",
    "print(div12)"
   ]
  },
  {
   "cell_type": "code",
   "execution_count": 112,
   "id": "fd43488f",
   "metadata": {},
   "outputs": [
    {
     "name": "stdout",
     "output_type": "stream",
     "text": [
      "[[8 6 9 6]\n",
      " [7 7 6 8]]\n",
      "\n",
      "[[8 3 6 5]\n",
      " [4 8 2 6]]\n",
      "\n",
      "[[1.         2.         1.5        1.2       ]\n",
      " [1.75       0.875      3.         1.33333333]]\n"
     ]
    }
   ],
   "source": [
    "array3 = np.random.randint(5, 11, (2,4))\n",
    "array4 = np.random.randint(1, 9, (2,4))\n",
    "print(array3)\n",
    "print()\n",
    "print(array4)\n",
    "print()\n",
    "div34 = np.divide(array3, array4)\n",
    "print(div34)"
   ]
  },
  {
   "cell_type": "code",
   "execution_count": 113,
   "id": "d472c0b4",
   "metadata": {},
   "outputs": [
    {
     "name": "stdout",
     "output_type": "stream",
     "text": [
      "[[[ 9 10]\n",
      "  [ 7  6]]\n",
      "\n",
      " [[ 5  7]\n",
      "  [ 7  8]]]\n",
      "\n",
      "[[[5 4]\n",
      "  [5 6]]\n",
      "\n",
      " [[5 8]\n",
      "  [7 3]]]\n",
      "\n",
      "[[[1.8        2.5       ]\n",
      "  [1.4        1.        ]]\n",
      "\n",
      " [[1.         0.875     ]\n",
      "  [1.         2.66666667]]]\n"
     ]
    }
   ],
   "source": [
    "array5 = np.random.randint(5, 11, (2,2,2))\n",
    "array6 = np.random.randint(1, 9, (2,2,2))\n",
    "print(array5)\n",
    "print()\n",
    "print(array6)\n",
    "print()\n",
    "div56 = np.divide(array5, array6)\n",
    "print(div56)"
   ]
  },
  {
   "cell_type": "code",
   "execution_count": null,
   "id": "6be7c8c8",
   "metadata": {},
   "outputs": [],
   "source": []
  },
  {
   "cell_type": "markdown",
   "id": "619ed676",
   "metadata": {},
   "source": [
    "<b>5. Modulus:</b>\n",
    "<li>If a number is not exactly divisible by a divisor then the residuals is known as remainder.</li>\n",
    "<li>Modulus also gives the remainder value of a number if that number is not excatly divisible by divisor.</li>\n",
    "<li>If 54 is divided by 7, 54 is not excatly divisible by 7. Then in this scenario, 7 is the quotient and 5 is the remainder so is the modulus.</li>\n",
    "<li>We can calculate the modulus of any two numpy arrays of same shape.</li>\n",
    "<li>For calculating modulus, we use np.mod(a,b) where a and b are any two numpy arrays.</li>\n",
    "<li>We can calculate the modulus on any dimension arrays if they both are of same shape.</li>"
   ]
  },
  {
   "cell_type": "code",
   "execution_count": 114,
   "id": "3cb95dc6",
   "metadata": {},
   "outputs": [
    {
     "name": "stdout",
     "output_type": "stream",
     "text": [
      "[7 8 9 2]\n",
      "\n",
      "[1 2 0 2]\n"
     ]
    }
   ],
   "source": [
    "array1 = np.random.randint(2, 12, 4)\n",
    "print(array1)\n",
    "modulus1 = np.mod(array1, 3)\n",
    "print()\n",
    "print(modulus1)"
   ]
  },
  {
   "cell_type": "code",
   "execution_count": 115,
   "id": "f9088211",
   "metadata": {},
   "outputs": [
    {
     "name": "stdout",
     "output_type": "stream",
     "text": [
      "[[ 5  5  9  8]\n",
      " [ 9 10 10 10]]\n",
      "\n",
      "[[8 4 6 5]\n",
      " [1 8 8 7]]\n",
      "\n",
      "[[5 1 3 3]\n",
      " [0 2 2 3]]\n"
     ]
    }
   ],
   "source": [
    "array3 = np.random.randint(5, 11, (2,4))\n",
    "array4 = np.random.randint(1, 9, (2,4))\n",
    "print(array3)\n",
    "print()\n",
    "print(array4)\n",
    "print()\n",
    "mod34 = np.mod(array3, array4)\n",
    "print(mod34)"
   ]
  },
  {
   "cell_type": "code",
   "execution_count": 116,
   "id": "ef6e7e33",
   "metadata": {},
   "outputs": [
    {
     "name": "stdout",
     "output_type": "stream",
     "text": [
      "[[[ 9 10]\n",
      "  [ 7  6]]\n",
      "\n",
      " [[ 9  9]\n",
      "  [10 10]]]\n",
      "\n",
      "[[[8 1]\n",
      "  [4 7]]\n",
      "\n",
      " [[2 4]\n",
      "  [2 4]]]\n",
      "\n",
      "[[[1 0]\n",
      "  [3 6]]\n",
      "\n",
      " [[1 1]\n",
      "  [0 2]]]\n"
     ]
    }
   ],
   "source": [
    "array5 = np.random.randint(5, 11, (2,2,2))\n",
    "array6 = np.random.randint(1, 9, (2,2,2))\n",
    "print(array5)\n",
    "print()\n",
    "print(array6)\n",
    "print()\n",
    "mod56 = np.mod(array5, array6)\n",
    "print(mod56)"
   ]
  },
  {
   "cell_type": "code",
   "execution_count": null,
   "id": "9f34727a",
   "metadata": {},
   "outputs": [],
   "source": []
  },
  {
   "cell_type": "code",
   "execution_count": null,
   "id": "ab30064f",
   "metadata": {},
   "outputs": [],
   "source": []
  },
  {
   "cell_type": "markdown",
   "id": "7e4de9a8",
   "metadata": {},
   "source": [
    "<b>6. Power:</b>\n",
    "<li>We can calculate square, cube and power of any two numbers present in an numpy array.</li>\n",
    "<li>For calculating power, we use np.power(a,b) where a and b are two numpy arrays.</li>"
   ]
  },
  {
   "cell_type": "code",
   "execution_count": 117,
   "id": "d050bea2",
   "metadata": {},
   "outputs": [
    {
     "name": "stdout",
     "output_type": "stream",
     "text": [
      "[3 7 7 6 7]\n",
      "\n",
      "[ 9 49 49 36 49]\n"
     ]
    }
   ],
   "source": [
    "array1 = np.random.randint(3, 9, 5)\n",
    "print(array1)\n",
    "print()\n",
    "print(np.power(array1, 2))\n"
   ]
  },
  {
   "cell_type": "code",
   "execution_count": 118,
   "id": "4ba3d396",
   "metadata": {},
   "outputs": [
    {
     "name": "stdout",
     "output_type": "stream",
     "text": [
      "[[4 3]\n",
      " [8 1]]\n",
      "\n",
      "[[ 64  27]\n",
      " [512   1]]\n"
     ]
    }
   ],
   "source": [
    "array2 = np.random.randint(1, 15, (2,2))\n",
    "print(array2)\n",
    "print()\n",
    "print(np.power(array2, 3))"
   ]
  },
  {
   "cell_type": "code",
   "execution_count": 119,
   "id": "3abba31c",
   "metadata": {},
   "outputs": [
    {
     "name": "stdout",
     "output_type": "stream",
     "text": [
      "[[[2 7]\n",
      "  [7 3]]\n",
      "\n",
      " [[2 7]\n",
      "  [1 4]]]\n",
      "\n",
      "[[[1.41421356 2.64575131]\n",
      "  [2.64575131 1.73205081]]\n",
      "\n",
      " [[1.41421356 2.64575131]\n",
      "  [1.         2.        ]]]\n"
     ]
    }
   ],
   "source": [
    "array3 = np.random.randint(1, 9, (2,2,2))\n",
    "print(array3)\n",
    "print()\n",
    "print(np.power(array3, 0.5))"
   ]
  },
  {
   "cell_type": "markdown",
   "id": "0ec44b48",
   "metadata": {},
   "source": [
    "<b>7. Reciprocal:</b>\n",
    "\n",
    "<li>We can calculate the reciprocal of any given array of any dimension in numpy.</li>\n",
    "<li>For calculating the reciprocal in numpy, we have np.reciprocal(a) where a is the numpy array.</li>"
   ]
  },
  {
   "cell_type": "code",
   "execution_count": 121,
   "id": "9f6d1d3c",
   "metadata": {},
   "outputs": [
    {
     "name": "stdout",
     "output_type": "stream",
     "text": [
      "[4 6 7 4]\n",
      "\n",
      "[0.25       0.16666667 0.14285714 0.25      ]\n"
     ]
    }
   ],
   "source": [
    "onedarray = np.random.randint(2, 8, 4)\n",
    "print(onedarray)\n",
    "print()\n",
    "print(np.reciprocal(onedarray, dtype = 'float'))"
   ]
  },
  {
   "cell_type": "code",
   "execution_count": 122,
   "id": "9585403d",
   "metadata": {},
   "outputs": [
    {
     "name": "stdout",
     "output_type": "stream",
     "text": [
      "[[2 3]\n",
      " [6 4]]\n",
      "\n",
      "[[0.5        0.33333333]\n",
      " [0.16666667 0.25      ]]\n"
     ]
    }
   ],
   "source": [
    "twodarray = np.random.randint(2, 8, (2,2))\n",
    "print(twodarray)\n",
    "print()\n",
    "print(np.reciprocal(twodarray, dtype = 'float'))"
   ]
  },
  {
   "cell_type": "code",
   "execution_count": 123,
   "id": "5bdf59d9",
   "metadata": {},
   "outputs": [
    {
     "name": "stdout",
     "output_type": "stream",
     "text": [
      "[[[7 2]\n",
      "  [6 4]]\n",
      "\n",
      " [[5 5]\n",
      "  [7 5]]]\n",
      "\n",
      "[[[0.14285714 0.5       ]\n",
      "  [0.16666667 0.25      ]]\n",
      "\n",
      " [[0.2        0.2       ]\n",
      "  [0.14285714 0.2       ]]]\n"
     ]
    }
   ],
   "source": [
    "threedarray = np.random.randint(2, 8, (2,2,2))\n",
    "print(threedarray)\n",
    "print()\n",
    "print(np.reciprocal(threedarray, dtype = 'float'))"
   ]
  },
  {
   "cell_type": "code",
   "execution_count": null,
   "id": "dadbbf8e",
   "metadata": {},
   "outputs": [],
   "source": []
  },
  {
   "cell_type": "markdown",
   "id": "2fd285b0",
   "metadata": {},
   "source": [
    "## Statistical Functions In NumPy"
   ]
  },
  {
   "cell_type": "markdown",
   "id": "aed95673",
   "metadata": {},
   "source": [
    "<b>1. np.min(x):</b>\n",
    "<li>We can find the minimum value present in any given array using np.min(x) where x is the given array.</li>\n",
    "<li>In two dimension array, we can also find the minimum value along the axis using axis parameter in np.min(x, axis)</li>\n",
    "<li>np.min(x, axis = 0) calculates the minimum value of an array across the columns.</li>\n",
    "<li>np.min(x, axis = 1) calculates the minimum value of an array across the rows.</li>\n",
    "\n",
    "<b>2. np.argmin(x):</b>\n",
    "<li>We can find the index of the minimum value present in any given array using np.argmin(x) where x is the given array.</li>\n",
    "<li>In two dimension array, we can also find the index of the minimum value along the axis using axis parameter in np.argmin(x, axis)</li>\n",
    "<li>np.argmin(x, axis = 0) calculates the minimum index value of an array across the columns.</li>\n",
    "<li>np.argmin(x, axis = 1) calculates the minimum index value of an array across the rows.</li>\n",
    "\n",
    "\n",
    "<b>3. np.max(x):</b>\n",
    "<li>We can find the maximum value present in any given array using np.max(x) where x is the given array.</li>\n",
    "<li>In two dimension array, we can also find the maximum value along the axis using axis parameter in np.max(x, axis)</li>\n",
    "<li>np.max(x, axis = 0) calculates the maximum value of an array across the columns.</li>\n",
    "<li>np.max(x, axis = 1) calculates the maximum value of an array across the rows.</li>\n",
    "\n",
    "\n",
    "<b>4. np.argmax(x):</b>\n",
    "<li>We can find the index of the maximum value present in any given array using np.argmax(x) where x is the given array.</li>\n",
    "<li>In two dimension array, we can also find the index of the maximum value along the axis using axis parameter in np.argmax(x, axis)</li>\n",
    "<li>np.argmax(x, axis = 0) calculates the maximum index value of an array across the columns.</li>\n",
    "<li>np.argmax(x, axis = 1) calculates the maximum index value of an array across the rows.</li>\n",
    "\n",
    "\n",
    "<b>5. np.sqrt(x):</b>\n",
    "<li>We can find the square root of any value present in any given array using np.sqrt(x) where x is the given array.</li>\n",
    "\n",
    "<b>6. np.sin(x):</b>\n",
    "<li>We can find the sine value of values present in any given array using np.sin(x) where x is the given array.</li>\n",
    "\n",
    "<b>7. np.cos(x):</b>\n",
    "<li>We can find the cos value of values present in any given array using np.cos(x) where x is the given array.</li>\n",
    "\n",
    "<b>8. np.cumsum(x):</b>\n",
    "<li>We can find the cumulative sum of any given array using np.cumsum(x) where x is the given array.</li>\n",
    "<li>In two dimension array, we can also find the cumulative sum along the axis using axis parameter in np.cumsum(x, axis)</li>\n",
    "<li>np.cumsum(x, axis = 0) calculates the cumulative sum of an array across the columns.</li>\n",
    "<li>np.cumsum(x, axis = 1) calculates the cumulative sum of an array across the rows.</li>\n"
   ]
  },
  {
   "cell_type": "markdown",
   "id": "b642d92d",
   "metadata": {},
   "source": [
    "### np.min()"
   ]
  },
  {
   "cell_type": "code",
   "execution_count": 2,
   "id": "7f088965",
   "metadata": {},
   "outputs": [
    {
     "name": "stdout",
     "output_type": "stream",
     "text": [
      "1\n"
     ]
    }
   ],
   "source": [
    "import numpy as np\n",
    "arr1 = np.array([1, 2,3,4,5,6,7,8])\n",
    "print(np.min(arr1))"
   ]
  },
  {
   "cell_type": "code",
   "execution_count": 3,
   "id": "88a1d8c5",
   "metadata": {},
   "outputs": [
    {
     "name": "stdout",
     "output_type": "stream",
     "text": [
      "2\n"
     ]
    }
   ],
   "source": [
    "arr2 = np.array([[1,2,3,4], [5,6,7,8]])\n",
    "print(arr2.ndim)"
   ]
  },
  {
   "cell_type": "code",
   "execution_count": 4,
   "id": "d701c12d",
   "metadata": {},
   "outputs": [
    {
     "name": "stdout",
     "output_type": "stream",
     "text": [
      "1\n"
     ]
    }
   ],
   "source": [
    "print(np.min(arr2))"
   ]
  },
  {
   "cell_type": "code",
   "execution_count": 5,
   "id": "9781772f",
   "metadata": {},
   "outputs": [
    {
     "name": "stdout",
     "output_type": "stream",
     "text": [
      "[1 2 3 4]\n"
     ]
    }
   ],
   "source": [
    "print(np.min(arr2, axis = 0))"
   ]
  },
  {
   "cell_type": "code",
   "execution_count": 6,
   "id": "29068c5d",
   "metadata": {},
   "outputs": [
    {
     "name": "stdout",
     "output_type": "stream",
     "text": [
      "[1 5]\n"
     ]
    }
   ],
   "source": [
    "print(np.min(arr2, axis = 1))"
   ]
  },
  {
   "cell_type": "code",
   "execution_count": 7,
   "id": "ccafbbe1",
   "metadata": {},
   "outputs": [
    {
     "name": "stdout",
     "output_type": "stream",
     "text": [
      "[[[1 2]\n",
      "  [3 4]]\n",
      "\n",
      " [[5 6]\n",
      "  [7 8]]]\n"
     ]
    }
   ],
   "source": [
    "arr3 = np.array([[[1,2], [3,4]], [[5,6], [7,8]]])\n",
    "print(arr3)"
   ]
  },
  {
   "cell_type": "code",
   "execution_count": 8,
   "id": "fb855854",
   "metadata": {},
   "outputs": [
    {
     "data": {
      "text/plain": [
       "1"
      ]
     },
     "execution_count": 8,
     "metadata": {},
     "output_type": "execute_result"
    }
   ],
   "source": [
    "np.min(arr3)"
   ]
  },
  {
   "cell_type": "code",
   "execution_count": 9,
   "id": "ddfa06af",
   "metadata": {},
   "outputs": [
    {
     "data": {
      "text/plain": [
       "array([[1, 2],\n",
       "       [3, 4]])"
      ]
     },
     "execution_count": 9,
     "metadata": {},
     "output_type": "execute_result"
    }
   ],
   "source": [
    "np.min(arr3, axis = 0)"
   ]
  },
  {
   "cell_type": "code",
   "execution_count": 10,
   "id": "d0ed4732",
   "metadata": {},
   "outputs": [
    {
     "data": {
      "text/plain": [
       "array([[1, 2],\n",
       "       [5, 6]])"
      ]
     },
     "execution_count": 10,
     "metadata": {},
     "output_type": "execute_result"
    }
   ],
   "source": [
    "np.min(arr3, axis = 1)"
   ]
  },
  {
   "cell_type": "code",
   "execution_count": 11,
   "id": "371c9438",
   "metadata": {},
   "outputs": [
    {
     "data": {
      "text/plain": [
       "array([[1, 3],\n",
       "       [5, 7]])"
      ]
     },
     "execution_count": 11,
     "metadata": {},
     "output_type": "execute_result"
    }
   ],
   "source": [
    "np.min(arr3, axis = 2)"
   ]
  },
  {
   "cell_type": "markdown",
   "id": "d8eae73e",
   "metadata": {},
   "source": [
    "#### np.argmin()"
   ]
  },
  {
   "cell_type": "code",
   "execution_count": 12,
   "id": "f6a30e16",
   "metadata": {},
   "outputs": [],
   "source": [
    "arr1 = np.array([9,5,2,3,8])"
   ]
  },
  {
   "cell_type": "code",
   "execution_count": 13,
   "id": "330d3067",
   "metadata": {},
   "outputs": [
    {
     "name": "stdout",
     "output_type": "stream",
     "text": [
      "2\n"
     ]
    }
   ],
   "source": [
    "print(np.argmin(arr1))"
   ]
  },
  {
   "cell_type": "code",
   "execution_count": 31,
   "id": "0abd66a6",
   "metadata": {},
   "outputs": [],
   "source": [
    "arr2 = np.array([[5,2],[4,3]])"
   ]
  },
  {
   "cell_type": "code",
   "execution_count": 32,
   "id": "2aa95283",
   "metadata": {},
   "outputs": [
    {
     "name": "stdout",
     "output_type": "stream",
     "text": [
      "[[5 2]\n",
      " [4 3]]\n"
     ]
    }
   ],
   "source": [
    "print(arr2)"
   ]
  },
  {
   "cell_type": "code",
   "execution_count": 33,
   "id": "3cf43770",
   "metadata": {},
   "outputs": [
    {
     "name": "stdout",
     "output_type": "stream",
     "text": [
      "[1 0]\n"
     ]
    }
   ],
   "source": [
    "print(np.argmin(arr2, axis = 0))"
   ]
  },
  {
   "cell_type": "code",
   "execution_count": 17,
   "id": "2c5ba1c6",
   "metadata": {},
   "outputs": [
    {
     "name": "stdout",
     "output_type": "stream",
     "text": [
      "[1 0]\n"
     ]
    }
   ],
   "source": [
    "print(np.argmin(arr2, axis = 1))"
   ]
  },
  {
   "cell_type": "code",
   "execution_count": 22,
   "id": "7d015978",
   "metadata": {},
   "outputs": [
    {
     "name": "stdout",
     "output_type": "stream",
     "text": [
      "[[[4 2]\n",
      "  [6 3]]\n",
      "\n",
      " [[5 8]\n",
      "  [1 7]]]\n",
      "3\n"
     ]
    }
   ],
   "source": [
    "arr3 = np.array([[[4,2], [6,3]], [[5,8], [1,7]]])\n",
    "print(arr3)\n",
    "print(arr3.ndim)"
   ]
  },
  {
   "cell_type": "code",
   "execution_count": 23,
   "id": "5f85f301",
   "metadata": {},
   "outputs": [
    {
     "name": "stdout",
     "output_type": "stream",
     "text": [
      "[[0 0]\n",
      " [1 0]]\n"
     ]
    }
   ],
   "source": [
    "print(np.argmin(arr3, axis = 0))"
   ]
  },
  {
   "cell_type": "markdown",
   "id": "321ef6a8",
   "metadata": {},
   "source": [
    "### np.max()"
   ]
  },
  {
   "cell_type": "code",
   "execution_count": 34,
   "id": "61f26131",
   "metadata": {},
   "outputs": [
    {
     "name": "stdout",
     "output_type": "stream",
     "text": [
      "9\n"
     ]
    }
   ],
   "source": [
    "arr1 = np.array([9,5,2,3,8])\n",
    "print(np.max(arr1))"
   ]
  },
  {
   "cell_type": "code",
   "execution_count": 35,
   "id": "c088a83b",
   "metadata": {},
   "outputs": [
    {
     "name": "stdout",
     "output_type": "stream",
     "text": [
      "5\n"
     ]
    }
   ],
   "source": [
    "arr2 = np.array([[5,2],[4,3]])\n",
    "print(np.max(arr2))"
   ]
  },
  {
   "cell_type": "code",
   "execution_count": 36,
   "id": "07349d6e",
   "metadata": {},
   "outputs": [
    {
     "name": "stdout",
     "output_type": "stream",
     "text": [
      "[5 3]\n"
     ]
    }
   ],
   "source": [
    "print(np.max(arr2, axis = 0))"
   ]
  },
  {
   "cell_type": "code",
   "execution_count": 37,
   "id": "94343f7a",
   "metadata": {},
   "outputs": [
    {
     "name": "stdout",
     "output_type": "stream",
     "text": [
      "[5 4]\n"
     ]
    }
   ],
   "source": [
    "print(np.max(arr2, axis = 1))"
   ]
  },
  {
   "cell_type": "code",
   "execution_count": 38,
   "id": "46a06eab",
   "metadata": {},
   "outputs": [
    {
     "name": "stdout",
     "output_type": "stream",
     "text": [
      "8\n"
     ]
    }
   ],
   "source": [
    "arr3 = np.array([[[4,2], [6,3]], [[5,8], [1,7]]])\n",
    "print(np.max(arr3))"
   ]
  },
  {
   "cell_type": "code",
   "execution_count": 40,
   "id": "dc3519b7",
   "metadata": {},
   "outputs": [
    {
     "data": {
      "text/plain": [
       "array([[5, 8],\n",
       "       [6, 7]])"
      ]
     },
     "execution_count": 40,
     "metadata": {},
     "output_type": "execute_result"
    }
   ],
   "source": [
    "np.max(arr3, axis = 0)"
   ]
  },
  {
   "cell_type": "code",
   "execution_count": 41,
   "id": "1845e544",
   "metadata": {},
   "outputs": [
    {
     "data": {
      "text/plain": [
       "array([[6, 3],\n",
       "       [5, 8]])"
      ]
     },
     "execution_count": 41,
     "metadata": {},
     "output_type": "execute_result"
    }
   ],
   "source": [
    "np.max(arr3, axis = 1)"
   ]
  },
  {
   "cell_type": "code",
   "execution_count": 42,
   "id": "701af106",
   "metadata": {},
   "outputs": [
    {
     "data": {
      "text/plain": [
       "array([[4, 6],\n",
       "       [8, 7]])"
      ]
     },
     "execution_count": 42,
     "metadata": {},
     "output_type": "execute_result"
    }
   ],
   "source": [
    "np.max(arr3, axis = 2)"
   ]
  },
  {
   "cell_type": "markdown",
   "id": "7966b3dd",
   "metadata": {},
   "source": [
    "#### np.argmax()"
   ]
  },
  {
   "cell_type": "code",
   "execution_count": 43,
   "id": "d06ff985",
   "metadata": {},
   "outputs": [
    {
     "name": "stdout",
     "output_type": "stream",
     "text": [
      "0\n"
     ]
    }
   ],
   "source": [
    "arr1 = np.array([9,5,2,3,8])\n",
    "print(np.argmax(arr1))\n",
    "\n"
   ]
  },
  {
   "cell_type": "code",
   "execution_count": 44,
   "id": "8ed8e03d",
   "metadata": {},
   "outputs": [
    {
     "name": "stdout",
     "output_type": "stream",
     "text": [
      "0\n"
     ]
    }
   ],
   "source": [
    "arr2 = np.array([[5,2],[4,3]])\n",
    "print(np.argmax(arr2))"
   ]
  },
  {
   "cell_type": "code",
   "execution_count": 45,
   "id": "de13cb48",
   "metadata": {},
   "outputs": [
    {
     "name": "stdout",
     "output_type": "stream",
     "text": [
      "[0 1]\n"
     ]
    }
   ],
   "source": [
    "print(np.argmax(arr2, axis = 0))"
   ]
  },
  {
   "cell_type": "code",
   "execution_count": 46,
   "id": "42658bb0",
   "metadata": {},
   "outputs": [
    {
     "name": "stdout",
     "output_type": "stream",
     "text": [
      "[0 0]\n"
     ]
    }
   ],
   "source": [
    "print(np.argmax(arr2, axis = 1))"
   ]
  },
  {
   "cell_type": "code",
   "execution_count": 47,
   "id": "46b185ee",
   "metadata": {},
   "outputs": [
    {
     "name": "stdout",
     "output_type": "stream",
     "text": [
      "5\n"
     ]
    }
   ],
   "source": [
    "arr3 = np.array([[[4,2], [6,3]], [[5,8], [1,7]]])\n",
    "print(np.argmax(arr3))"
   ]
  },
  {
   "cell_type": "code",
   "execution_count": 48,
   "id": "3453f076",
   "metadata": {},
   "outputs": [
    {
     "name": "stdout",
     "output_type": "stream",
     "text": [
      "[[1 1]\n",
      " [0 1]]\n"
     ]
    }
   ],
   "source": [
    "print(np.argmax(arr3, axis = 0))"
   ]
  },
  {
   "cell_type": "code",
   "execution_count": 49,
   "id": "f65bc270",
   "metadata": {},
   "outputs": [
    {
     "name": "stdout",
     "output_type": "stream",
     "text": [
      "[[1 1]\n",
      " [0 0]]\n"
     ]
    }
   ],
   "source": [
    "print(np.argmax(arr3, axis = 1))"
   ]
  },
  {
   "cell_type": "code",
   "execution_count": 50,
   "id": "80659644",
   "metadata": {},
   "outputs": [
    {
     "name": "stdout",
     "output_type": "stream",
     "text": [
      "[[0 0]\n",
      " [1 1]]\n"
     ]
    }
   ],
   "source": [
    "print(np.argmax(arr3, axis = 2))"
   ]
  },
  {
   "cell_type": "markdown",
   "id": "25d11cb7",
   "metadata": {},
   "source": [
    "#### np.sqrt()"
   ]
  },
  {
   "cell_type": "code",
   "execution_count": 51,
   "id": "d7f253c1",
   "metadata": {},
   "outputs": [
    {
     "data": {
      "text/plain": [
       "array([1., 2., 3., 4., 5., 6.])"
      ]
     },
     "execution_count": 51,
     "metadata": {},
     "output_type": "execute_result"
    }
   ],
   "source": [
    "arr1 = np.array([1,4,9,16,25,36])\n",
    "np.sqrt(arr1)"
   ]
  },
  {
   "cell_type": "code",
   "execution_count": 52,
   "id": "40af87e8",
   "metadata": {},
   "outputs": [
    {
     "data": {
      "text/plain": [
       "array([[1., 2., 3.],\n",
       "       [4., 5., 6.]])"
      ]
     },
     "execution_count": 52,
     "metadata": {},
     "output_type": "execute_result"
    }
   ],
   "source": [
    "arr2 = np.array([[1,4,9],[16,25,36]])\n",
    "np.sqrt(arr2)"
   ]
  },
  {
   "cell_type": "code",
   "execution_count": 53,
   "id": "80e8b8a1",
   "metadata": {},
   "outputs": [
    {
     "name": "stdout",
     "output_type": "stream",
     "text": [
      "[[[  1   4   9]\n",
      "  [ 16  25  36]]\n",
      "\n",
      " [[ 49  64  81]\n",
      "  [100 121 144]]]\n",
      "3\n"
     ]
    }
   ],
   "source": [
    "arr3 = np.array([[[1,4,9],[16,25,36]], [[49, 64, 81], [100, 121, 144]]])\n",
    "print(arr3)\n",
    "print(arr3.ndim)"
   ]
  },
  {
   "cell_type": "code",
   "execution_count": 54,
   "id": "8107cb8c",
   "metadata": {},
   "outputs": [
    {
     "data": {
      "text/plain": [
       "array([[[ 1.,  2.,  3.],\n",
       "        [ 4.,  5.,  6.]],\n",
       "\n",
       "       [[ 7.,  8.,  9.],\n",
       "        [10., 11., 12.]]])"
      ]
     },
     "execution_count": 54,
     "metadata": {},
     "output_type": "execute_result"
    }
   ],
   "source": [
    "np.sqrt(arr3)"
   ]
  },
  {
   "cell_type": "markdown",
   "id": "5f300c52",
   "metadata": {},
   "source": [
    "#### np.sin()"
   ]
  },
  {
   "cell_type": "code",
   "execution_count": 60,
   "id": "abc9082a",
   "metadata": {},
   "outputs": [
    {
     "data": {
      "text/plain": [
       "array([0.00000000e+00, 5.00000000e-01, 7.07106781e-01, 8.66025404e-01,\n",
       "       1.00000000e+00, 1.22464680e-16])"
      ]
     },
     "execution_count": 60,
     "metadata": {},
     "output_type": "execute_result"
    }
   ],
   "source": [
    "np.sin(np.deg2rad([0,30,45,60,90, 180]))"
   ]
  },
  {
   "cell_type": "markdown",
   "id": "53235957",
   "metadata": {},
   "source": [
    "#### np.cos()"
   ]
  },
  {
   "cell_type": "code",
   "execution_count": 61,
   "id": "c93ac10a",
   "metadata": {},
   "outputs": [
    {
     "data": {
      "text/plain": [
       "array([ 1.00000000e+00,  8.66025404e-01,  7.07106781e-01,  5.00000000e-01,\n",
       "        6.12323400e-17, -1.00000000e+00])"
      ]
     },
     "execution_count": 61,
     "metadata": {},
     "output_type": "execute_result"
    }
   ],
   "source": [
    "np.cos(np.deg2rad([0,30,45,60,90, 180]))"
   ]
  },
  {
   "cell_type": "markdown",
   "id": "a34185a3",
   "metadata": {},
   "source": [
    "### np.cumsum()"
   ]
  },
  {
   "cell_type": "code",
   "execution_count": 62,
   "id": "e352d65a",
   "metadata": {},
   "outputs": [
    {
     "name": "stdout",
     "output_type": "stream",
     "text": [
      "[ 9 14 16 19 27]\n"
     ]
    }
   ],
   "source": [
    "arr1 = np.array([9,5,2,3,8])\n",
    "print(np.cumsum(arr1))\n"
   ]
  },
  {
   "cell_type": "code",
   "execution_count": 63,
   "id": "41090c74",
   "metadata": {},
   "outputs": [
    {
     "name": "stdout",
     "output_type": "stream",
     "text": [
      "[ 5  7 11 14]\n"
     ]
    }
   ],
   "source": [
    "arr2 = np.array([[5,2],[4,3]])\n",
    "print(np.cumsum(arr2))"
   ]
  },
  {
   "cell_type": "code",
   "execution_count": 64,
   "id": "29d6b060",
   "metadata": {},
   "outputs": [
    {
     "name": "stdout",
     "output_type": "stream",
     "text": [
      "[[5 2]\n",
      " [9 5]]\n"
     ]
    }
   ],
   "source": [
    "arr2 = np.array([[5,2],[4,3]])\n",
    "print(np.cumsum(arr2, axis = 0))"
   ]
  },
  {
   "cell_type": "code",
   "execution_count": 65,
   "id": "aea8f051",
   "metadata": {},
   "outputs": [
    {
     "name": "stdout",
     "output_type": "stream",
     "text": [
      "[[5 7]\n",
      " [4 7]]\n"
     ]
    }
   ],
   "source": [
    "arr2 = np.array([[5,2],[4,3]])\n",
    "print(np.cumsum(arr2, axis = 1))"
   ]
  },
  {
   "cell_type": "code",
   "execution_count": 66,
   "id": "727800ce",
   "metadata": {},
   "outputs": [
    {
     "name": "stdout",
     "output_type": "stream",
     "text": [
      "[ 4  6 12 15 20 28 29 36]\n"
     ]
    }
   ],
   "source": [
    "arr3 = np.array([[[4,2], [6,3]], [[5,8], [1,7]]])\n",
    "print(np.cumsum(arr3))"
   ]
  },
  {
   "cell_type": "code",
   "execution_count": 67,
   "id": "18254ed4",
   "metadata": {},
   "outputs": [
    {
     "name": "stdout",
     "output_type": "stream",
     "text": [
      "[[[4 2]\n",
      "  [6 3]]\n",
      "\n",
      " [[5 8]\n",
      "  [1 7]]]\n"
     ]
    }
   ],
   "source": [
    "print(arr3)"
   ]
  },
  {
   "cell_type": "code",
   "execution_count": 68,
   "id": "6d9e9e75",
   "metadata": {},
   "outputs": [
    {
     "data": {
      "text/plain": [
       "array([[[ 4,  2],\n",
       "        [ 6,  3]],\n",
       "\n",
       "       [[ 9, 10],\n",
       "        [ 7, 10]]])"
      ]
     },
     "execution_count": 68,
     "metadata": {},
     "output_type": "execute_result"
    }
   ],
   "source": [
    "np.cumsum(arr3, axis = 0)"
   ]
  },
  {
   "cell_type": "code",
   "execution_count": 69,
   "id": "e9ad55cc",
   "metadata": {},
   "outputs": [
    {
     "data": {
      "text/plain": [
       "array([[[ 4,  2],\n",
       "        [10,  5]],\n",
       "\n",
       "       [[ 5,  8],\n",
       "        [ 6, 15]]])"
      ]
     },
     "execution_count": 69,
     "metadata": {},
     "output_type": "execute_result"
    }
   ],
   "source": [
    "np.cumsum(arr3, axis = 1)"
   ]
  },
  {
   "cell_type": "code",
   "execution_count": 70,
   "id": "b8eedfa0",
   "metadata": {},
   "outputs": [
    {
     "data": {
      "text/plain": [
       "array([[[ 4,  6],\n",
       "        [ 6,  9]],\n",
       "\n",
       "       [[ 5, 13],\n",
       "        [ 1,  8]]])"
      ]
     },
     "execution_count": 70,
     "metadata": {},
     "output_type": "execute_result"
    }
   ],
   "source": [
    "np.cumsum(arr3, axis = 2)"
   ]
  },
  {
   "cell_type": "markdown",
   "id": "db7ea649",
   "metadata": {},
   "source": [
    "## Shape & Reshape In Numpy Arrays\n",
    "\n",
    "<li>The shape gives a tuple of array dimensions and can be used to change the dimensions of an array.</li>\n",
    "<li>If we form a one dimension array of size 4 then the shape of that array is (4,).</li>\n",
    "<li>If we have a two dimension array where there are 4 rows and 3 columns then the shape of the array is (4, 3).</li>\n",
    "<li>The reshape function gives a new shape to an array without changing its data.</li>\n",
    "<li>It creates a new array and does not modify the original array itself.</li>\n",
    "<li>Suppose, we have a one dimensional array of size 12 then we can reshape that array as (2,6), (3,4), (4,3) and (6,2) new numpy arrays of dimension 2.</li>\n",
    "<li>We can check the shape of an array using arr.shape whereas we can reshape an numpy array to another shape using np.reshape(arr, new_shape).</li>\n",
    "\n"
   ]
  },
  {
   "cell_type": "code",
   "execution_count": 71,
   "id": "a485fc1c",
   "metadata": {},
   "outputs": [
    {
     "name": "stdout",
     "output_type": "stream",
     "text": [
      "[ 1  2  3  4  5  6  7  8  9 10 11 12]\n",
      "1\n",
      "(12,)\n"
     ]
    }
   ],
   "source": [
    "array1 = np.array([1,2,3,4,5,6,7,8,9,10,11,12])\n",
    "print(array1)\n",
    "print(array1.ndim)\n",
    "print(array1.shape)"
   ]
  },
  {
   "cell_type": "code",
   "execution_count": 72,
   "id": "e477fce9",
   "metadata": {},
   "outputs": [
    {
     "name": "stdout",
     "output_type": "stream",
     "text": [
      "(12, 1)\n",
      "[[ 1]\n",
      " [ 2]\n",
      " [ 3]\n",
      " [ 4]\n",
      " [ 5]\n",
      " [ 6]\n",
      " [ 7]\n",
      " [ 8]\n",
      " [ 9]\n",
      " [10]\n",
      " [11]\n",
      " [12]]\n"
     ]
    }
   ],
   "source": [
    "array2 = np.reshape(array1, (12,1))\n",
    "print(array2.shape)\n",
    "print(array2)"
   ]
  },
  {
   "cell_type": "code",
   "execution_count": 73,
   "id": "90aaed1f",
   "metadata": {},
   "outputs": [
    {
     "name": "stdout",
     "output_type": "stream",
     "text": [
      "(2, 6)\n",
      "[[ 1  2  3  4  5  6]\n",
      " [ 7  8  9 10 11 12]]\n"
     ]
    }
   ],
   "source": [
    "array3 = np.reshape(array1, (2, 6))\n",
    "print(array3.shape)\n",
    "print(array3)"
   ]
  },
  {
   "cell_type": "code",
   "execution_count": 74,
   "id": "68059c46",
   "metadata": {},
   "outputs": [
    {
     "name": "stdout",
     "output_type": "stream",
     "text": [
      "(4, 3)\n",
      "[[ 1  2  3]\n",
      " [ 4  5  6]\n",
      " [ 7  8  9]\n",
      " [10 11 12]]\n"
     ]
    }
   ],
   "source": [
    "array4 = np.reshape(array1, (4, 3))\n",
    "print(array4.shape)\n",
    "print(array4)"
   ]
  },
  {
   "cell_type": "code",
   "execution_count": null,
   "id": "94c76ddf",
   "metadata": {},
   "outputs": [],
   "source": []
  },
  {
   "cell_type": "markdown",
   "id": "9831d21e",
   "metadata": {},
   "source": [
    "## BroadCasting In NumPy Arrays\n",
    "<li>We all know that we can easily perform any arithmetic operations on two arrays of same dimensions or shape.</li>\n",
    "<li>But we can also perform arithmetic operations on two arrays if they donot have same dimensions as well.</li>\n",
    "<li>The term broadcasting refers to how numpy treats arrays with different Dimension during arithmetic operations.</li>\n",
    "<li>The smaller array is broadcast across the larger array so that they have compatible shapes.</li>\n",
    "<li>But there are some rules that two arrays must follow inorder to be broadcasted.</li>"
   ]
  },
  {
   "cell_type": "markdown",
   "id": "67ce294d",
   "metadata": {},
   "source": [
    "### Broadcasting Rules:\n",
    "\n",
    "**Broadcasting two arrays together follow these rules:**\n",
    "\n",
    "<li>If the arrays don’t have same shape then prepend 1s to the shape of lower rank array until they have same length.</li>\n",
    "<li>The arrays can be broadcast together if they are compatible with all dimensions.</li>\n",
    "<li>The two arrays are compatible in a dimension if they have the same size in the dimension.</li>\n",
    "<li>The two arrays are also compatible in a dimension if one of the arrays has size 1 in that dimension.</li>\n",
    "<li>The broadcasted array behaves as if it had shape equal to the element-wise maximum of shapes of the two input arrays.</li>\n",
    "<li>In any dimension where one array had size 1 and the other array had size greater than 1, the first array behaves as if it were copied along that dimension.</li>"
   ]
  },
  {
   "cell_type": "code",
   "execution_count": null,
   "id": "0b29a6da",
   "metadata": {},
   "outputs": [],
   "source": []
  },
  {
   "cell_type": "code",
   "execution_count": null,
   "id": "f41e876f",
   "metadata": {},
   "outputs": [],
   "source": []
  },
  {
   "cell_type": "markdown",
   "id": "dafcd9bf",
   "metadata": {},
   "source": [
    "### Checking Compatibility For BroadCasting"
   ]
  },
  {
   "cell_type": "markdown",
   "id": "9df8f6a9",
   "metadata": {},
   "source": [
    "#### Example1"
   ]
  },
  {
   "cell_type": "code",
   "execution_count": null,
   "id": "68ca0633",
   "metadata": {},
   "outputs": [],
   "source": [
    "x.shape == (2,3)\n",
    "\n",
    "y.shape == (2,3)\n",
    "y.shape == (3,2)\n",
    "y.shape == (1,3)\n",
    "y.shape == (3,1)\n",
    "y.shape == (3,)\n",
    "y.shape == (2,1)"
   ]
  },
  {
   "cell_type": "code",
   "execution_count": 1,
   "id": "ff05b842",
   "metadata": {},
   "outputs": [],
   "source": [
    "import numpy as np"
   ]
  },
  {
   "cell_type": "code",
   "execution_count": 14,
   "id": "f8d78628",
   "metadata": {},
   "outputs": [],
   "source": [
    "x = np.random.rand(2,3)"
   ]
  },
  {
   "cell_type": "code",
   "execution_count": 17,
   "id": "6b60080a",
   "metadata": {},
   "outputs": [],
   "source": [
    "y = np.random.rand(2, 1)"
   ]
  },
  {
   "cell_type": "code",
   "execution_count": 18,
   "id": "70a5a67d",
   "metadata": {},
   "outputs": [
    {
     "data": {
      "text/plain": [
       "array([[1.23570218, 1.4947771 , 1.16518451],\n",
       "       [1.22590882, 0.52629996, 0.88960987]])"
      ]
     },
     "execution_count": 18,
     "metadata": {},
     "output_type": "execute_result"
    }
   ],
   "source": [
    "x + y"
   ]
  },
  {
   "cell_type": "code",
   "execution_count": null,
   "id": "63271cd2",
   "metadata": {},
   "outputs": [],
   "source": []
  },
  {
   "cell_type": "code",
   "execution_count": null,
   "id": "4db524a3",
   "metadata": {},
   "outputs": [],
   "source": []
  },
  {
   "cell_type": "markdown",
   "id": "206fcd3b",
   "metadata": {},
   "source": [
    "#### Example2"
   ]
  },
  {
   "cell_type": "code",
   "execution_count": null,
   "id": "e27abe69",
   "metadata": {},
   "outputs": [],
   "source": [
    "x.shape == (1000,256,256,256)\n",
    "\n",
    "y.shape == (1000, 256, 256, 256)\n",
    "y.shape == (1, 256, 256, 1)\n",
    "y.shape == (256,256,256)\n",
    "y.shape == (1000, 1, 256, 1)\n",
    "y.shape == (1000,256,256)\n",
    "y.shape == (256,1000,256,256)\n",
    "y.shape == (256,256,256,1000)"
   ]
  },
  {
   "cell_type": "code",
   "execution_count": null,
   "id": "8ab5a938",
   "metadata": {},
   "outputs": [],
   "source": []
  },
  {
   "cell_type": "code",
   "execution_count": null,
   "id": "dfbdc4a5",
   "metadata": {},
   "outputs": [],
   "source": []
  },
  {
   "cell_type": "code",
   "execution_count": null,
   "id": "a3a887f2",
   "metadata": {},
   "outputs": [],
   "source": []
  },
  {
   "cell_type": "markdown",
   "id": "720974bd",
   "metadata": {},
   "source": [
    "#### Example 3"
   ]
  },
  {
   "cell_type": "code",
   "execution_count": null,
   "id": "9e888c68",
   "metadata": {},
   "outputs": [],
   "source": [
    "\n",
    "x.shape == (1,2,3,5,1,11,1,17)\n",
    "y.shape == (1,7,1,1,17)\n",
    "\n",
    "\n",
    "x.shape == (1,2,3,4,5,6,7,1,1)\n",
    "y.shape == (4,5,1,7,3,2)"
   ]
  },
  {
   "cell_type": "code",
   "execution_count": null,
   "id": "ad1ce2f6",
   "metadata": {},
   "outputs": [],
   "source": []
  },
  {
   "cell_type": "code",
   "execution_count": null,
   "id": "a58942e6",
   "metadata": {},
   "outputs": [],
   "source": []
  },
  {
   "cell_type": "code",
   "execution_count": null,
   "id": "d71e292d",
   "metadata": {},
   "outputs": [],
   "source": []
  },
  {
   "cell_type": "code",
   "execution_count": null,
   "id": "907c91b2",
   "metadata": {},
   "outputs": [],
   "source": []
  },
  {
   "cell_type": "markdown",
   "id": "1b1df694",
   "metadata": {},
   "source": [
    "## Indexing & Slicing In NumPy Arrays\n",
    "\n",
    "### Indexing\n",
    "<li>Numpy indexing is used for accessing an element from an array by giving it an index value that starts from 0.</li>\n",
    "<li>We can also use negative indexing in NumPy arrays like in lists and strings.</li>\n",
    "<li>Negative indexing starts from the end of the array. It starts from a negative index value, i.e. -1.</li>\n",
    "\n",
    "### Slicing\n",
    "<li>Slicing NumPy arrays means extracting elements from an array in a specific range.</li>\n",
    "<li>Slicing in python means taking elements from one given index to another given index.</li>\n",
    "<li>We pass slice instead of index like this: [start:end].</li>\n",
    "<li>We can also define the step, like this: [start:end:step].</li>\n",
    "<li>If we don't pass start it is considered 0.</li>\n",
    "<li>If we don't pass end it is considered as length of array in that dimension.</li>\n",
    "<li>If we don't pass step it is considered 1.</li>\n",
    "\n",
    "\n"
   ]
  },
  {
   "cell_type": "markdown",
   "id": "20c8cdf0",
   "metadata": {},
   "source": [
    "### Indexing in 1D"
   ]
  },
  {
   "cell_type": "code",
   "execution_count": 2,
   "id": "5fda39cd",
   "metadata": {},
   "outputs": [
    {
     "name": "stdout",
     "output_type": "stream",
     "text": [
      "[5 6 8 2 9 4]\n"
     ]
    }
   ],
   "source": [
    "import numpy as np\n",
    "arr1 = np.array([5,6,8,2,9,4])\n",
    "print(arr1)"
   ]
  },
  {
   "cell_type": "code",
   "execution_count": 3,
   "id": "097d980d",
   "metadata": {},
   "outputs": [
    {
     "data": {
      "text/plain": [
       "8"
      ]
     },
     "execution_count": 3,
     "metadata": {},
     "output_type": "execute_result"
    }
   ],
   "source": [
    "arr1[2]"
   ]
  },
  {
   "cell_type": "code",
   "execution_count": 4,
   "id": "bf4b5b25",
   "metadata": {},
   "outputs": [
    {
     "data": {
      "text/plain": [
       "array([8, 2, 9])"
      ]
     },
     "execution_count": 4,
     "metadata": {},
     "output_type": "execute_result"
    }
   ],
   "source": [
    "arr1[[2,3,4]]"
   ]
  },
  {
   "cell_type": "markdown",
   "id": "ae96c776",
   "metadata": {},
   "source": [
    "### Indexing in 2D"
   ]
  },
  {
   "cell_type": "code",
   "execution_count": 5,
   "id": "9c7d2d70",
   "metadata": {},
   "outputs": [
    {
     "name": "stdout",
     "output_type": "stream",
     "text": [
      "[[8 3]\n",
      " [5 6]]\n"
     ]
    }
   ],
   "source": [
    "arr2d = np.random.randint(3, 9, (2,2))\n",
    "print(arr2d)"
   ]
  },
  {
   "cell_type": "code",
   "execution_count": 6,
   "id": "4abbafce",
   "metadata": {},
   "outputs": [
    {
     "data": {
      "text/plain": [
       "3"
      ]
     },
     "execution_count": 6,
     "metadata": {},
     "output_type": "execute_result"
    }
   ],
   "source": [
    "arr2d[0][1]"
   ]
  },
  {
   "cell_type": "code",
   "execution_count": 7,
   "id": "5aca04b4",
   "metadata": {},
   "outputs": [
    {
     "data": {
      "text/plain": [
       "5"
      ]
     },
     "execution_count": 7,
     "metadata": {},
     "output_type": "execute_result"
    }
   ],
   "source": [
    "arr2d[1][0]"
   ]
  },
  {
   "cell_type": "markdown",
   "id": "da8899b5",
   "metadata": {},
   "source": [
    "### Indexing in 3D"
   ]
  },
  {
   "cell_type": "code",
   "execution_count": 8,
   "id": "f57e1077",
   "metadata": {},
   "outputs": [
    {
     "name": "stdout",
     "output_type": "stream",
     "text": [
      "[[[12  5  1]\n",
      "  [16  6  3]\n",
      "  [ 4  3 16]]\n",
      "\n",
      " [[15 20 11]\n",
      "  [13  8 11]\n",
      "  [ 3 15  7]]\n",
      "\n",
      " [[11 14 14]\n",
      "  [ 8  8  7]\n",
      "  [11 14 15]]]\n"
     ]
    }
   ],
   "source": [
    "arr3d = np.random.randint(1, 21, (3,3,3))\n",
    "print(arr3d)"
   ]
  },
  {
   "cell_type": "code",
   "execution_count": 23,
   "id": "bd3dd06f",
   "metadata": {},
   "outputs": [
    {
     "data": {
      "text/plain": [
       "8"
      ]
     },
     "execution_count": 23,
     "metadata": {},
     "output_type": "execute_result"
    }
   ],
   "source": [
    "arr3d[1,1,1]"
   ]
  },
  {
   "cell_type": "code",
   "execution_count": 10,
   "id": "2ec9e7fc",
   "metadata": {},
   "outputs": [
    {
     "data": {
      "text/plain": [
       "14"
      ]
     },
     "execution_count": 10,
     "metadata": {},
     "output_type": "execute_result"
    }
   ],
   "source": [
    "arr3d[2][0][2]"
   ]
  },
  {
   "cell_type": "code",
   "execution_count": null,
   "id": "7befd82b",
   "metadata": {},
   "outputs": [],
   "source": [
    "arr3d[3][1]"
   ]
  },
  {
   "cell_type": "markdown",
   "id": "202075d8",
   "metadata": {},
   "source": [
    "### Slicing In 1D"
   ]
  },
  {
   "cell_type": "code",
   "execution_count": 12,
   "id": "15bed765",
   "metadata": {},
   "outputs": [
    {
     "data": {
      "text/plain": [
       "array([5, 6, 8, 2, 9, 4])"
      ]
     },
     "execution_count": 12,
     "metadata": {},
     "output_type": "execute_result"
    }
   ],
   "source": [
    "arr1"
   ]
  },
  {
   "cell_type": "code",
   "execution_count": 13,
   "id": "77b7bf92",
   "metadata": {},
   "outputs": [
    {
     "data": {
      "text/plain": [
       "array([8, 2, 9])"
      ]
     },
     "execution_count": 13,
     "metadata": {},
     "output_type": "execute_result"
    }
   ],
   "source": [
    "arr1[2:5]"
   ]
  },
  {
   "cell_type": "code",
   "execution_count": 14,
   "id": "edf42ac9",
   "metadata": {},
   "outputs": [
    {
     "data": {
      "text/plain": [
       "array([2, 9, 4])"
      ]
     },
     "execution_count": 14,
     "metadata": {},
     "output_type": "execute_result"
    }
   ],
   "source": [
    "arr1[-3:]"
   ]
  },
  {
   "cell_type": "code",
   "execution_count": 15,
   "id": "207c4a91",
   "metadata": {},
   "outputs": [
    {
     "data": {
      "text/plain": [
       "array([5, 6, 8])"
      ]
     },
     "execution_count": 15,
     "metadata": {},
     "output_type": "execute_result"
    }
   ],
   "source": [
    "arr1[:3]"
   ]
  },
  {
   "cell_type": "markdown",
   "id": "4aba538b",
   "metadata": {},
   "source": [
    "### Slicing In 2D"
   ]
  },
  {
   "cell_type": "code",
   "execution_count": 16,
   "id": "e6a0822a",
   "metadata": {},
   "outputs": [
    {
     "name": "stdout",
     "output_type": "stream",
     "text": [
      "[[ 3 17  4 18]\n",
      " [10 10 16 13]\n",
      " [17 15 13 15]\n",
      " [ 7 11 16  1]]\n"
     ]
    }
   ],
   "source": [
    "arr2d = np.random.randint(1,20,(4,4))\n",
    "print(arr2d)"
   ]
  },
  {
   "cell_type": "code",
   "execution_count": 26,
   "id": "e799f681",
   "metadata": {},
   "outputs": [
    {
     "data": {
      "text/plain": [
       "array([[ 3, 18],\n",
       "       [17, 15]])"
      ]
     },
     "execution_count": 26,
     "metadata": {},
     "output_type": "execute_result"
    }
   ],
   "source": [
    "arr2d[0::2, 0::3]"
   ]
  },
  {
   "cell_type": "code",
   "execution_count": 22,
   "id": "11e88255",
   "metadata": {},
   "outputs": [
    {
     "data": {
      "text/plain": [
       "array([[17,  4],\n",
       "       [10, 16],\n",
       "       [15, 13]])"
      ]
     },
     "execution_count": 22,
     "metadata": {},
     "output_type": "execute_result"
    }
   ],
   "source": [
    "arr2d[:3, 1:3]"
   ]
  },
  {
   "cell_type": "code",
   "execution_count": 24,
   "id": "a21bec44",
   "metadata": {},
   "outputs": [
    {
     "data": {
      "text/plain": [
       "array([[17, 18],\n",
       "       [10, 13]])"
      ]
     },
     "execution_count": 24,
     "metadata": {},
     "output_type": "execute_result"
    }
   ],
   "source": [
    "arr2d[:2,1::2]"
   ]
  },
  {
   "cell_type": "markdown",
   "id": "0d833b41",
   "metadata": {},
   "source": [
    "### Slicing In 3D"
   ]
  },
  {
   "cell_type": "code",
   "execution_count": 30,
   "id": "3ccd2980",
   "metadata": {},
   "outputs": [
    {
     "name": "stdout",
     "output_type": "stream",
     "text": [
      "[[[25 40 32  3]\n",
      "  [34 44 16  3]\n",
      "  [16 37 38 22]\n",
      "  [31 49 42 27]]\n",
      "\n",
      " [[23 27 17 10]\n",
      "  [ 5 30  9 41]\n",
      "  [ 3  4  2 47]\n",
      "  [14 12 35 40]]\n",
      "\n",
      " [[41 37 49 28]\n",
      "  [15  1 19 28]\n",
      "  [33 28 10 16]\n",
      "  [ 8 31 19 33]]\n",
      "\n",
      " [[10 10  3 27]\n",
      "  [45 17 20 10]\n",
      "  [48 12  5 16]\n",
      "  [47 40 44 15]]]\n"
     ]
    }
   ],
   "source": [
    "arr3d = np.random.randint(1, 50, (4,4,4))\n",
    "print(arr3d)"
   ]
  },
  {
   "cell_type": "code",
   "execution_count": null,
   "id": "a15ee8db",
   "metadata": {},
   "outputs": [],
   "source": [
    "arr3d[:,1:2,::2]"
   ]
  },
  {
   "cell_type": "code",
   "execution_count": 31,
   "id": "4bf711f0",
   "metadata": {},
   "outputs": [
    {
     "data": {
      "text/plain": [
       "array([[[34, 16],\n",
       "        [31, 42]],\n",
       "\n",
       "       [[ 5,  9],\n",
       "        [14, 35]]])"
      ]
     },
     "execution_count": 31,
     "metadata": {},
     "output_type": "execute_result"
    }
   ],
   "source": [
    "arr3d[:2, 1::2,0:3:2]"
   ]
  },
  {
   "cell_type": "markdown",
   "id": "39402f9b",
   "metadata": {},
   "source": [
    "### Types Of Indexing\n",
    "\n",
    "<li>There are two types of indexing. They are :</li>\n",
    "<ol>\n",
    "    <b><li>Basic Slicing & Indexing</li></b>\n",
    "    <b><li>Advanced Indexing</li></b>\n",
    "</ol>\n",
    "<li>Advanced Indexing is further divided into two types. They are:</li>\n",
    "<ol>\n",
    "    <b><li>Purely integer indexing</li></b>\n",
    "    <b><li>Boolean indexing.</li></b>\n",
    "</ol>"
   ]
  },
  {
   "cell_type": "code",
   "execution_count": 32,
   "id": "b7bf3b1d",
   "metadata": {},
   "outputs": [],
   "source": [
    "a = np.array([4,6,9,12,8])"
   ]
  },
  {
   "cell_type": "code",
   "execution_count": 34,
   "id": "2a2259b4",
   "metadata": {},
   "outputs": [
    {
     "data": {
      "text/plain": [
       "array([ 9, 12])"
      ]
     },
     "execution_count": 34,
     "metadata": {},
     "output_type": "execute_result"
    }
   ],
   "source": [
    "a[a>8]"
   ]
  },
  {
   "cell_type": "code",
   "execution_count": 35,
   "id": "6250db82",
   "metadata": {},
   "outputs": [
    {
     "data": {
      "text/plain": [
       "array([[69, 14, 29],\n",
       "       [37,  2, 84],\n",
       "       [68, 12, 19]])"
      ]
     },
     "execution_count": 35,
     "metadata": {},
     "output_type": "execute_result"
    }
   ],
   "source": [
    "twodarr = np.random.randint(1,90, (3,3))\n",
    "twodarr"
   ]
  },
  {
   "cell_type": "code",
   "execution_count": 37,
   "id": "0482030d",
   "metadata": {},
   "outputs": [
    {
     "data": {
      "text/plain": [
       "array([14,  2, 12, 19])"
      ]
     },
     "execution_count": 37,
     "metadata": {},
     "output_type": "execute_result"
    }
   ],
   "source": [
    "twodarr[twodarr < 20]"
   ]
  },
  {
   "cell_type": "markdown",
   "id": "8d3e1239",
   "metadata": {},
   "source": [
    "#### Question\n",
    "<li>Load <b>car_details.csv</b> file into list of list using csv reader</li> \n",
    "<li>Then create a 2d numpy arrray from the list of list.</li>\n",
    "<li>Extract the <b>first five rows</b> of the numpy array using slicing.</li>\n",
    "<li>Extract the <b>last five rows</b> of the numpy array using slicing.</li>\n",
    "<li>Check the <b>shape</b> and <b>dimension</b> of the dataset.</li>\n",
    "<li>Find some compatible shapes in which we can <b>reshape</b> it.</li>\n",
    "<li>If we have another numpy array of shape (8, 4340). Can we perform any operations on them? Is it <b>broadcastable</b>?</li>\n",
    "<li>Find the <b>selling_prices</b> of all cars.</li>\n",
    "<li>Find the <b>km_driven</b> for all cars.</li>\n",
    "<li>How can we perform <b>boolean indexing</b> in the given data.</li>"
   ]
  },
  {
   "cell_type": "code",
   "execution_count": 4,
   "id": "af6d61f0",
   "metadata": {},
   "outputs": [],
   "source": [
    "import numpy as np"
   ]
  },
  {
   "cell_type": "code",
   "execution_count": 5,
   "id": "122cc428",
   "metadata": {},
   "outputs": [
    {
     "name": "stdout",
     "output_type": "stream",
     "text": [
      "[['name', 'year', 'selling_price', 'km_driven', 'fuel', 'seller_type', 'transmission', 'owner'], ['Maruti 800 AC', '2007', '60000', '70000', 'Petrol', 'Individual', 'Manual', 'First Owner'], ['Maruti Wagon R LXI Minor', '2007', '135000', '50000', 'Petrol', 'Individual', 'Manual', 'First Owner'], ['Hyundai Verna 1.6 SX', '2012', '600000', '100000', 'Diesel', 'Individual', 'Manual', 'First Owner'], ['Datsun RediGO T Option', '2017', '250000', '46000', 'Petrol', 'Individual', 'Manual', 'First Owner']]\n"
     ]
    }
   ],
   "source": [
    "from csv import reader\n",
    "file = open('car_details.csv')\n",
    "file_read = reader(file)\n",
    "data = list(file_read)\n",
    "print(data[:5])"
   ]
  },
  {
   "cell_type": "code",
   "execution_count": 6,
   "id": "db2ec742",
   "metadata": {},
   "outputs": [
    {
     "name": "stdout",
     "output_type": "stream",
     "text": [
      "[['Maruti 800 AC' '2007' '60000' ... 'Individual' 'Manual' 'First Owner']\n",
      " ['Maruti Wagon R LXI Minor' '2007' '135000' ... 'Individual' 'Manual'\n",
      "  'First Owner']\n",
      " ['Hyundai Verna 1.6 SX' '2012' '600000' ... 'Individual' 'Manual'\n",
      "  'First Owner']\n",
      " ...\n",
      " ['Maruti 800 AC BSIII' '2009' '110000' ... 'Individual' 'Manual'\n",
      "  'Second Owner']\n",
      " ['Hyundai Creta 1.6 CRDi SX Option' '2016' '865000' ... 'Individual'\n",
      "  'Manual' 'First Owner']\n",
      " ['Renault KWID RXT' '2016' '225000' ... 'Individual' 'Manual'\n",
      "  'First Owner']]\n",
      "(4340, 8)\n",
      "2\n"
     ]
    }
   ],
   "source": [
    "twodarray = np.array(data[1:])\n",
    "print(twodarray)\n",
    "print(twodarray.shape)\n",
    "print(twodarray.ndim)"
   ]
  },
  {
   "cell_type": "code",
   "execution_count": 7,
   "id": "6f7af965",
   "metadata": {},
   "outputs": [],
   "source": [
    "for item in twodarray:\n",
    "    item[2] = int(item[2])\n",
    "    item[3] = int(item[3])\n",
    "    break"
   ]
  },
  {
   "cell_type": "code",
   "execution_count": 8,
   "id": "e965850d",
   "metadata": {},
   "outputs": [
    {
     "name": "stdout",
     "output_type": "stream",
     "text": [
      "[['Maruti 800 AC' '2007' '60000' ... 'Individual' 'Manual' 'First Owner']\n",
      " ['Maruti Wagon R LXI Minor' '2007' '135000' ... 'Individual' 'Manual'\n",
      "  'First Owner']\n",
      " ['Hyundai Verna 1.6 SX' '2012' '600000' ... 'Individual' 'Manual'\n",
      "  'First Owner']\n",
      " ...\n",
      " ['Maruti 800 AC BSIII' '2009' '110000' ... 'Individual' 'Manual'\n",
      "  'Second Owner']\n",
      " ['Hyundai Creta 1.6 CRDi SX Option' '2016' '865000' ... 'Individual'\n",
      "  'Manual' 'First Owner']\n",
      " ['Renault KWID RXT' '2016' '225000' ... 'Individual' 'Manual'\n",
      "  'First Owner']]\n"
     ]
    }
   ],
   "source": [
    "print(twodarray)"
   ]
  },
  {
   "cell_type": "code",
   "execution_count": 9,
   "id": "9e462a0f",
   "metadata": {},
   "outputs": [
    {
     "data": {
      "text/plain": [
       "array([['Maruti 800 AC', '2007', '60000', '70000', 'Petrol',\n",
       "        'Individual', 'Manual', 'First Owner'],\n",
       "       ['Maruti Wagon R LXI Minor', '2007', '135000', '50000', 'Petrol',\n",
       "        'Individual', 'Manual', 'First Owner'],\n",
       "       ['Hyundai Verna 1.6 SX', '2012', '600000', '100000', 'Diesel',\n",
       "        'Individual', 'Manual', 'First Owner'],\n",
       "       ['Datsun RediGO T Option', '2017', '250000', '46000', 'Petrol',\n",
       "        'Individual', 'Manual', 'First Owner'],\n",
       "       ['Honda Amaze VX i-DTEC', '2014', '450000', '141000', 'Diesel',\n",
       "        'Individual', 'Manual', 'Second Owner']], dtype='<U58')"
      ]
     },
     "execution_count": 9,
     "metadata": {},
     "output_type": "execute_result"
    }
   ],
   "source": [
    "twodarray[:5]"
   ]
  },
  {
   "cell_type": "code",
   "execution_count": 10,
   "id": "596fd59d",
   "metadata": {},
   "outputs": [
    {
     "data": {
      "text/plain": [
       "array([['Hyundai i20 Magna 1.4 CRDi (Diesel)', '2014', '409999', '80000',\n",
       "        'Diesel', 'Individual', 'Manual', 'Second Owner'],\n",
       "       ['Hyundai i20 Magna 1.4 CRDi', '2014', '409999', '80000',\n",
       "        'Diesel', 'Individual', 'Manual', 'Second Owner'],\n",
       "       ['Maruti 800 AC BSIII', '2009', '110000', '83000', 'Petrol',\n",
       "        'Individual', 'Manual', 'Second Owner'],\n",
       "       ['Hyundai Creta 1.6 CRDi SX Option', '2016', '865000', '90000',\n",
       "        'Diesel', 'Individual', 'Manual', 'First Owner'],\n",
       "       ['Renault KWID RXT', '2016', '225000', '40000', 'Petrol',\n",
       "        'Individual', 'Manual', 'First Owner']], dtype='<U58')"
      ]
     },
     "execution_count": 10,
     "metadata": {},
     "output_type": "execute_result"
    }
   ],
   "source": [
    "twodarray[-5:]"
   ]
  },
  {
   "cell_type": "code",
   "execution_count": 11,
   "id": "e8fec7ba",
   "metadata": {},
   "outputs": [
    {
     "data": {
      "text/plain": [
       "34720"
      ]
     },
     "execution_count": 11,
     "metadata": {},
     "output_type": "execute_result"
    }
   ],
   "source": [
    "twodarray.size"
   ]
  },
  {
   "cell_type": "markdown",
   "id": "19f82549",
   "metadata": {},
   "source": [
    "<b><li>(10,3472), (5,6944), (4,8640), (2,17360) are the other shapes where we can reshape our twodarray.</li></b>"
   ]
  },
  {
   "cell_type": "code",
   "execution_count": 12,
   "id": "8512aeb0",
   "metadata": {},
   "outputs": [
    {
     "name": "stdout",
     "output_type": "stream",
     "text": [
      "['60000' '135000' '600000' ... '110000' '865000' '225000']\n"
     ]
    }
   ],
   "source": [
    "prices = twodarray[:,2]\n",
    "print(prices)"
   ]
  },
  {
   "cell_type": "code",
   "execution_count": 13,
   "id": "d501bee8",
   "metadata": {},
   "outputs": [],
   "source": [
    "km_driven = twodarray[:,3]"
   ]
  },
  {
   "cell_type": "code",
   "execution_count": 14,
   "id": "97a9a179",
   "metadata": {},
   "outputs": [
    {
     "data": {
      "text/plain": [
       "array(['135000', '250000', '450000', ..., '409999', '110000', '225000'],\n",
       "      dtype='<U58')"
      ]
     },
     "execution_count": 14,
     "metadata": {},
     "output_type": "execute_result"
    }
   ],
   "source": [
    "prices[prices < '50000']"
   ]
  },
  {
   "cell_type": "code",
   "execution_count": 16,
   "id": "27d706ba",
   "metadata": {},
   "outputs": [
    {
     "data": {
      "text/plain": [
       "array([['Maruti 800 Std', '1998', '40000', '40000', 'Petrol',\n",
       "        'Individual', 'Manual', 'Fourth & Above Owner'],\n",
       "       ['Maruti 800 AC BSII', '2001', '43000', '100000', 'Petrol',\n",
       "        'Individual', 'Manual', 'Second Owner'],\n",
       "       ['Tata Nano Std', '2011', '40000', '19000', 'Petrol',\n",
       "        'Individual', 'Manual', 'First Owner'],\n",
       "       ['Maruti 800 EX', '2001', '40000', '30000', 'Petrol',\n",
       "        'Individual', 'Manual', 'First Owner'],\n",
       "       ['Tata Nano Cx BSIII', '2014', '45000', '7000', 'Petrol',\n",
       "        'Individual', 'Manual', 'Second Owner'],\n",
       "       ['Maruti 800 AC BSII', '2001', '45000', '72539', 'Petrol',\n",
       "        'Individual', 'Manual', 'Second Owner'],\n",
       "       ['Tata Indica DLE', '2006', '45000', '120000', 'Diesel',\n",
       "        'Individual', 'Manual', 'Second Owner'],\n",
       "       ['Tata Nano LX SE', '2012', '35000', '35000', 'Petrol',\n",
       "        'Individual', 'Manual', 'Third Owner'],\n",
       "       ['Maruti 800 EX', '2004', '30000', '60000', 'Petrol',\n",
       "        'Individual', 'Manual', 'Third Owner'],\n",
       "       ['Ford Ikon 1.4 ZXi', '2000', '22000', '42743', 'Petrol',\n",
       "        'Dealer', 'Manual', 'Third Owner'],\n",
       "       ['Ford Ikon 1.6 ZXI NXt', '2005', '20000', '25000', 'Petrol',\n",
       "        'Individual', 'Manual', 'Second Owner'],\n",
       "       ['Tata Nano Lx', '2010', '40000', '90000', 'Petrol', 'Individual',\n",
       "        'Manual', 'First Owner'],\n",
       "       ['Tata Nano Std BSII', '2009', '35000', '50000', 'Petrol',\n",
       "        'Individual', 'Manual', 'Third Owner'],\n",
       "       ['Maruti Omni CNG', '2007', '45000', '100000', 'CNG',\n",
       "        'Individual', 'Manual', 'Fourth & Above Owner'],\n",
       "       ['Tata Nano Lx BSIV', '2012', '45000', '35000', 'Petrol',\n",
       "        'Individual', 'Manual', 'Second Owner'],\n",
       "       ['OpelCorsa 1.4 GL', '2002', '35000', '100000', 'Petrol',\n",
       "        'Individual', 'Manual', 'Third Owner'],\n",
       "       ['Maruti 800 AC', '2004', '40000', '69111', 'Petrol',\n",
       "        'Individual', 'Manual', 'Third Owner'],\n",
       "       ['Maruti 800 Std', '1998', '40000', '40000', 'Petrol',\n",
       "        'Individual', 'Manual', 'Fourth & Above Owner'],\n",
       "       ['Maruti 800 Std', '1999', '45000', '50000', 'Petrol',\n",
       "        'Individual', 'Manual', 'Third Owner'],\n",
       "       ['Hyundai Santro LE zipPlus', '2003', '48000', '50000', 'Petrol',\n",
       "        'Individual', 'Manual', 'Fourth & Above Owner'],\n",
       "       ['Maruti Zen LX', '1998', '42000', '70000', 'Petrol',\n",
       "        'Individual', 'Manual', 'Third Owner'],\n",
       "       ['Maruti Zen LX', '1998', '42000', '70000', 'Petrol',\n",
       "        'Individual', 'Manual', 'Third Owner'],\n",
       "       ['Maruti Esteem Lxi', '2004', '45000', '60000', 'Petrol',\n",
       "        'Individual', 'Manual', 'First Owner'],\n",
       "       ['Tata Nano Cx BSIII', '2014', '45000', '7000', 'Petrol',\n",
       "        'Individual', 'Manual', 'Second Owner'],\n",
       "       ['Maruti 800 Std', '2004', '37500', '90000', 'Petrol',\n",
       "        'Individual', 'Manual', 'Second Owner']], dtype='<U58')"
      ]
     },
     "execution_count": 16,
     "metadata": {},
     "output_type": "execute_result"
    }
   ],
   "source": [
    "twodarray[twodarray[:,2].astype(np.int32) < 50000]"
   ]
  },
  {
   "cell_type": "code",
   "execution_count": null,
   "id": "e8786ab9",
   "metadata": {},
   "outputs": [],
   "source": []
  },
  {
   "cell_type": "markdown",
   "id": "421391dc",
   "metadata": {},
   "source": [
    "## Iterating NumPy Arrays\n",
    "<li>Iterating means going through elements one by one.</li>\n",
    "<li>As we deal with multi-dimensional arrays in numpy, we can do this using basic for loop of python.</li>\n",
    "<li>We can iterate over the items of a numpy array by using a single for loop for 1D array.</li>\n",
    "<li>If we are working with 2D arrays, then we can access the items of 2d numpy array by iterating over 2 times.</li>\n",
    "<li>If we are working with 3D arrays then we can access the items of a 3d numpy array by iterating over 3 times.</li>\n",
    "<li>In basic for loops, iterating through each scalar of an array we need to use n for loops which can be difficult to write for arrays with very high dimensionality.</li>\n",
    "<li>In numpy, we have <b>np.nditer()</b> which is a helping function that can be used from very basic to very advanced iterations.</li>\n",
    "<li>It solves some basic issues which we face in iteration.</li>\n",
    "<li>If we want to access both the index and the items of n-d array, then we can use <b>np.ndenumerate()</b> function.</li>\n"
   ]
  },
  {
   "cell_type": "code",
   "execution_count": 17,
   "id": "5c014591",
   "metadata": {},
   "outputs": [
    {
     "name": "stdout",
     "output_type": "stream",
     "text": [
      "1\n",
      "2\n",
      "3\n",
      "4\n",
      "5\n"
     ]
    }
   ],
   "source": [
    "arr = np.array([1,2,3,4,5])\n",
    "for item in arr:\n",
    "    print(item)"
   ]
  },
  {
   "cell_type": "code",
   "execution_count": 18,
   "id": "01bcf82c",
   "metadata": {},
   "outputs": [
    {
     "name": "stdout",
     "output_type": "stream",
     "text": [
      "[[ 7  1  1]\n",
      " [ 8 11  6]\n",
      " [ 5 10  7]]\n"
     ]
    }
   ],
   "source": [
    "arr2d = np.random.randint(1, 12, (3,3))\n",
    "print(arr2d)"
   ]
  },
  {
   "cell_type": "code",
   "execution_count": 20,
   "id": "1cf3580d",
   "metadata": {},
   "outputs": [
    {
     "name": "stdout",
     "output_type": "stream",
     "text": [
      "7\n",
      "1\n",
      "1\n",
      "8\n",
      "11\n",
      "6\n",
      "5\n",
      "10\n",
      "7\n"
     ]
    }
   ],
   "source": [
    "for item in arr2d:\n",
    "    for subitem in item:\n",
    "        print(subitem)\n"
   ]
  },
  {
   "cell_type": "code",
   "execution_count": 21,
   "id": "4936fd1d",
   "metadata": {},
   "outputs": [
    {
     "name": "stdout",
     "output_type": "stream",
     "text": [
      "[[[18  3]\n",
      "  [ 4 22]]\n",
      "\n",
      " [[ 1 20]\n",
      "  [24 13]]]\n"
     ]
    }
   ],
   "source": [
    "arr3d = np.random.randint(1, 29, (2,2,2))\n",
    "print(arr3d)"
   ]
  },
  {
   "cell_type": "code",
   "execution_count": 24,
   "id": "dc7d686c",
   "metadata": {},
   "outputs": [
    {
     "name": "stdout",
     "output_type": "stream",
     "text": [
      "18\n",
      "3\n",
      "4\n",
      "22\n",
      "1\n",
      "20\n",
      "24\n",
      "13\n"
     ]
    }
   ],
   "source": [
    "for item in arr3d:\n",
    "    for subitem in item:\n",
    "        for sub in subitem:\n",
    "            print(sub)\n"
   ]
  },
  {
   "cell_type": "code",
   "execution_count": 28,
   "id": "706afa78",
   "metadata": {},
   "outputs": [
    {
     "name": "stdout",
     "output_type": "stream",
     "text": [
      "1\n",
      "2\n",
      "3\n",
      "4\n",
      "5\n"
     ]
    }
   ],
   "source": [
    "for item in np.nditer(arr):\n",
    "    print(item)"
   ]
  },
  {
   "cell_type": "code",
   "execution_count": 29,
   "id": "ad63ca90",
   "metadata": {},
   "outputs": [
    {
     "name": "stdout",
     "output_type": "stream",
     "text": [
      "7\n",
      "1\n",
      "1\n",
      "8\n",
      "11\n",
      "6\n",
      "5\n",
      "10\n",
      "7\n"
     ]
    }
   ],
   "source": [
    "for item in np.nditer(arr2d):\n",
    "    print(item)"
   ]
  },
  {
   "cell_type": "code",
   "execution_count": 30,
   "id": "e2641dfb",
   "metadata": {},
   "outputs": [
    {
     "name": "stdout",
     "output_type": "stream",
     "text": [
      "18\n",
      "3\n",
      "4\n",
      "22\n",
      "1\n",
      "20\n",
      "24\n",
      "13\n"
     ]
    }
   ],
   "source": [
    "for item in np.nditer(arr3d):\n",
    "    print(item)"
   ]
  },
  {
   "cell_type": "code",
   "execution_count": 31,
   "id": "9047f99c",
   "metadata": {},
   "outputs": [
    {
     "name": "stdout",
     "output_type": "stream",
     "text": [
      "(0,) 1\n",
      "(1,) 2\n",
      "(2,) 3\n",
      "(3,) 4\n",
      "(4,) 5\n"
     ]
    }
   ],
   "source": [
    "for idx, item in np.ndenumerate(arr):\n",
    "    print(idx, item)\n"
   ]
  },
  {
   "cell_type": "code",
   "execution_count": 32,
   "id": "1b752a3d",
   "metadata": {},
   "outputs": [
    {
     "name": "stdout",
     "output_type": "stream",
     "text": [
      "(0, 0) 7\n",
      "(0, 1) 1\n",
      "(0, 2) 1\n",
      "(1, 0) 8\n",
      "(1, 1) 11\n",
      "(1, 2) 6\n",
      "(2, 0) 5\n",
      "(2, 1) 10\n",
      "(2, 2) 7\n"
     ]
    }
   ],
   "source": [
    "for idx, item in np.ndenumerate(arr2d):\n",
    "    print(idx, item)"
   ]
  },
  {
   "cell_type": "code",
   "execution_count": 33,
   "id": "2c971557",
   "metadata": {},
   "outputs": [
    {
     "name": "stdout",
     "output_type": "stream",
     "text": [
      "(0, 0, 0) 18\n",
      "(0, 0, 1) 3\n",
      "(0, 1, 0) 4\n",
      "(0, 1, 1) 22\n",
      "(1, 0, 0) 1\n",
      "(1, 0, 1) 20\n",
      "(1, 1, 0) 24\n",
      "(1, 1, 1) 13\n"
     ]
    }
   ],
   "source": [
    "for idx, item in np.ndenumerate(arr3d):\n",
    "    print(idx, item)"
   ]
  },
  {
   "cell_type": "markdown",
   "id": "955fc6bb",
   "metadata": {},
   "source": [
    "## Copy Vs View In Numpy Arrays:\n",
    "\n",
    "![](images/copy_vs_view.png)\n",
    "\n",
    "<li>We can use <b>np.copy()</b> function to create a new copy of the existing numpy array.</li>\n",
    "<li>We can use <b>x.view()</b> function to create a view of an existing numpy array where x is an existing numpy array.</li>"
   ]
  },
  {
   "cell_type": "code",
   "execution_count": 34,
   "id": "36b4083f",
   "metadata": {},
   "outputs": [
    {
     "name": "stdout",
     "output_type": "stream",
     "text": [
      "[1 2 3 4]\n"
     ]
    }
   ],
   "source": [
    "arr1 = np.array([1,2,3,4])\n",
    "print(arr1)"
   ]
  },
  {
   "cell_type": "code",
   "execution_count": 35,
   "id": "67299f4c",
   "metadata": {},
   "outputs": [
    {
     "name": "stdout",
     "output_type": "stream",
     "text": [
      "[1 2 3 4]\n"
     ]
    }
   ],
   "source": [
    "arr2 = np.copy(arr1)\n",
    "print(arr2)"
   ]
  },
  {
   "cell_type": "code",
   "execution_count": 37,
   "id": "50ef74a6",
   "metadata": {},
   "outputs": [
    {
     "name": "stdout",
     "output_type": "stream",
     "text": [
      "[1 2 3 4]\n"
     ]
    }
   ],
   "source": [
    "arr3 = arr1.view()\n",
    "print(arr3)"
   ]
  },
  {
   "cell_type": "code",
   "execution_count": 38,
   "id": "2dc42196",
   "metadata": {},
   "outputs": [],
   "source": [
    "arr2[1] = 20"
   ]
  },
  {
   "cell_type": "code",
   "execution_count": 39,
   "id": "1a29cee6",
   "metadata": {},
   "outputs": [
    {
     "name": "stdout",
     "output_type": "stream",
     "text": [
      "[ 1 20  3  4]\n"
     ]
    }
   ],
   "source": [
    "print(arr2)"
   ]
  },
  {
   "cell_type": "code",
   "execution_count": 40,
   "id": "40d3650b",
   "metadata": {},
   "outputs": [
    {
     "name": "stdout",
     "output_type": "stream",
     "text": [
      "[1 2 3 4]\n"
     ]
    }
   ],
   "source": [
    "print(arr1)"
   ]
  },
  {
   "cell_type": "code",
   "execution_count": 41,
   "id": "c1c4c19b",
   "metadata": {},
   "outputs": [],
   "source": [
    "arr3[1] = 30"
   ]
  },
  {
   "cell_type": "code",
   "execution_count": 42,
   "id": "1a9128ea",
   "metadata": {},
   "outputs": [
    {
     "name": "stdout",
     "output_type": "stream",
     "text": [
      "[ 1 30  3  4]\n"
     ]
    }
   ],
   "source": [
    "print(arr3)"
   ]
  },
  {
   "cell_type": "code",
   "execution_count": 43,
   "id": "e6c31cee",
   "metadata": {},
   "outputs": [
    {
     "name": "stdout",
     "output_type": "stream",
     "text": [
      "[ 1 30  3  4]\n"
     ]
    }
   ],
   "source": [
    "print(arr1)"
   ]
  },
  {
   "cell_type": "code",
   "execution_count": 44,
   "id": "5cf09e18",
   "metadata": {},
   "outputs": [],
   "source": [
    "arr1[1] = 12"
   ]
  },
  {
   "cell_type": "code",
   "execution_count": 45,
   "id": "3a5527fa",
   "metadata": {},
   "outputs": [
    {
     "name": "stdout",
     "output_type": "stream",
     "text": [
      "[ 1 12  3  4]\n"
     ]
    }
   ],
   "source": [
    "print(arr1)"
   ]
  },
  {
   "cell_type": "code",
   "execution_count": 46,
   "id": "51477113",
   "metadata": {},
   "outputs": [
    {
     "name": "stdout",
     "output_type": "stream",
     "text": [
      "[ 1 20  3  4]\n"
     ]
    }
   ],
   "source": [
    "print(arr2)"
   ]
  },
  {
   "cell_type": "code",
   "execution_count": 47,
   "id": "f697ed6e",
   "metadata": {},
   "outputs": [
    {
     "name": "stdout",
     "output_type": "stream",
     "text": [
      "[ 1 12  3  4]\n"
     ]
    }
   ],
   "source": [
    "print(arr3)"
   ]
  },
  {
   "cell_type": "markdown",
   "id": "20d82744",
   "metadata": {},
   "source": [
    "## Joining NumPy Arrays\n",
    "<li>Joining means putting contents of two or more arrays in a single array.</li>\n",
    "<li>In SQL we join tables based on a key, whereas in NumPy we join arrays by axes.</li>\n",
    "<li>NumPy provides various functions to combine arrays.</li>\n",
    "<li>Some of the functions that can be used to combined two numpy arrays are as follows:</li>\n",
    "<ol>\n",
    "    <b><li>numpy.concatenate()</li></b>\n",
    "    <b><li>numpy.stack()</li></b>\n",
    "    <b><li>numpy.block()</li></b>\n",
    "</ol>\n"
   ]
  },
  {
   "cell_type": "markdown",
   "id": "3c27b81c",
   "metadata": {},
   "source": [
    "### 1. numpy.concatenate():\n",
    "\n",
    "<li>The concatenate() function in NumPy joins two or more arrays along a specified axis. </li>\n",
    "<li>If axis is not explicitly specified, it is taken as 0.</li>\n",
    "\n",
    "**Syntax**\n",
    "<code>\n",
    "    numpy.concatenate((array1, array2, ...), axis=0)\n",
    "</code>\n",
    "\n",
    "<li>The first argument is a tuple of arrays we intend to join.</li>\n",
    "<li>The second argument is the axis along which we need to join these arrays.</li>\n"
   ]
  },
  {
   "cell_type": "code",
   "execution_count": 50,
   "id": "b8e15b8c",
   "metadata": {},
   "outputs": [
    {
     "name": "stdout",
     "output_type": "stream",
     "text": [
      "[1 3 5 7]\n",
      "\n",
      "[2 4 6]\n"
     ]
    }
   ],
   "source": [
    "onedarray1 = np.array([1,3,5,7])\n",
    "print(onedarray1)\n",
    "onedarray2 = np.array([2,4,6])\n",
    "print()\n",
    "print(onedarray2)"
   ]
  },
  {
   "cell_type": "code",
   "execution_count": 51,
   "id": "3b9b871d",
   "metadata": {},
   "outputs": [
    {
     "name": "stdout",
     "output_type": "stream",
     "text": [
      "[1 3 5 7 2 4 6]\n"
     ]
    }
   ],
   "source": [
    "concat1d = np.concatenate([onedarray1, onedarray2])\n",
    "print(concat1d)"
   ]
  },
  {
   "cell_type": "code",
   "execution_count": 53,
   "id": "77ce1e05",
   "metadata": {},
   "outputs": [
    {
     "name": "stdout",
     "output_type": "stream",
     "text": [
      "[[ 1  1]\n",
      " [12  9]]\n",
      "(2, 2)\n",
      "\n",
      "[[30 22]\n",
      " [36 36]]\n",
      "(2, 2)\n"
     ]
    }
   ],
   "source": [
    "twodarray1 = np.random.randint(1, 19, (2,2))\n",
    "twodarray2 = np.random.randint(21, 39, (2,2))\n",
    "\n",
    "print(twodarray1)\n",
    "print(twodarray1.shape)\n",
    "print()\n",
    "print(twodarray2)\n",
    "print(twodarray2.shape)"
   ]
  },
  {
   "cell_type": "code",
   "execution_count": 57,
   "id": "2837cfed",
   "metadata": {},
   "outputs": [
    {
     "name": "stdout",
     "output_type": "stream",
     "text": [
      "[[ 1  1]\n",
      " [12  9]\n",
      " [30 22]\n",
      " [36 36]]\n",
      "(4, 2)\n"
     ]
    }
   ],
   "source": [
    "concat2d = np.concatenate([twodarray1, twodarray2])\n",
    "print(concat2d)\n",
    "print(concat2d.shape)"
   ]
  },
  {
   "cell_type": "code",
   "execution_count": 58,
   "id": "163a4085",
   "metadata": {},
   "outputs": [
    {
     "name": "stdout",
     "output_type": "stream",
     "text": [
      "[[ 1  1 30 22]\n",
      " [12  9 36 36]]\n",
      "(2, 4)\n"
     ]
    }
   ],
   "source": [
    "concat2d = np.concatenate([twodarray1, twodarray2], axis = 1)\n",
    "print(concat2d)\n",
    "print(concat2d.shape)"
   ]
  },
  {
   "cell_type": "code",
   "execution_count": 59,
   "id": "0e01d70c",
   "metadata": {},
   "outputs": [
    {
     "name": "stdout",
     "output_type": "stream",
     "text": [
      "[[ 1  7  6]\n",
      " [ 2  3 11]\n",
      " [ 5  8  5]]\n"
     ]
    }
   ],
   "source": [
    "arr2d = np.random.randint(1,12, (3,3))\n",
    "print(arr2d)"
   ]
  },
  {
   "cell_type": "code",
   "execution_count": 60,
   "id": "952d80a0",
   "metadata": {},
   "outputs": [],
   "source": [
    "column_vector = np.array([[1,5,7]])"
   ]
  },
  {
   "cell_type": "code",
   "execution_count": 61,
   "id": "4f4cc52f",
   "metadata": {},
   "outputs": [
    {
     "name": "stdout",
     "output_type": "stream",
     "text": [
      "[[ 1  7  6]\n",
      " [ 2  3 11]\n",
      " [ 5  8  5]\n",
      " [ 1  5  7]]\n",
      "(4, 3)\n"
     ]
    }
   ],
   "source": [
    "arr2d_concat = np.concatenate([arr2d, column_vector], axis = 0)\n",
    "print(arr2d_concat)\n",
    "print(arr2d_concat.shape)"
   ]
  },
  {
   "cell_type": "code",
   "execution_count": 63,
   "id": "74d9fa83",
   "metadata": {},
   "outputs": [
    {
     "name": "stdout",
     "output_type": "stream",
     "text": [
      "[[1]\n",
      " [5]\n",
      " [7]]\n"
     ]
    }
   ],
   "source": [
    "column_vector = np.array([[1],[5], [7]])\n",
    "print(column_vector)"
   ]
  },
  {
   "cell_type": "code",
   "execution_count": 64,
   "id": "6eaac0a6",
   "metadata": {},
   "outputs": [
    {
     "name": "stdout",
     "output_type": "stream",
     "text": [
      "[[ 1  7  6  1]\n",
      " [ 2  3 11  5]\n",
      " [ 5  8  5  7]]\n"
     ]
    }
   ],
   "source": [
    "arr2d_concat = np.concatenate([arr2d, column_vector], axis = 1)\n",
    "print(arr2d_concat)"
   ]
  },
  {
   "cell_type": "code",
   "execution_count": 65,
   "id": "82a40ec9",
   "metadata": {},
   "outputs": [
    {
     "name": "stdout",
     "output_type": "stream",
     "text": [
      "[[[16  6]\n",
      "  [10 19]]\n",
      "\n",
      " [[ 5 13]\n",
      "  [19  1]]]\n",
      "\n",
      "[[[50 34]\n",
      "  [52 53]]\n",
      "\n",
      " [[34 59]\n",
      "  [48 42]]]\n"
     ]
    }
   ],
   "source": [
    "arr3d1 = np.random.randint(1,21,(2,2,2))\n",
    "print(arr3d1)\n",
    "\n",
    "\n",
    "arr3d2 = np.random.randint(31, 60, (2,2,2))\n",
    "print()\n",
    "print(arr3d2)"
   ]
  },
  {
   "cell_type": "code",
   "execution_count": 68,
   "id": "ef0263c0",
   "metadata": {},
   "outputs": [
    {
     "name": "stdout",
     "output_type": "stream",
     "text": [
      "[[[16  6]\n",
      "  [10 19]]\n",
      "\n",
      " [[ 5 13]\n",
      "  [19  1]]\n",
      "\n",
      " [[50 34]\n",
      "  [52 53]]\n",
      "\n",
      " [[34 59]\n",
      "  [48 42]]]\n",
      "(4, 2, 2)\n"
     ]
    }
   ],
   "source": [
    "arr_concat0 = np.concatenate([arr3d1, arr3d2], axis= 0)\n",
    "print(arr_concat0)\n",
    "print(arr_concat0.shape)"
   ]
  },
  {
   "cell_type": "code",
   "execution_count": 69,
   "id": "389fb38f",
   "metadata": {},
   "outputs": [
    {
     "name": "stdout",
     "output_type": "stream",
     "text": [
      "[[[16  6]\n",
      "  [10 19]\n",
      "  [50 34]\n",
      "  [52 53]]\n",
      "\n",
      " [[ 5 13]\n",
      "  [19  1]\n",
      "  [34 59]\n",
      "  [48 42]]]\n"
     ]
    }
   ],
   "source": [
    "arr_concat1 = np.concatenate([arr3d1, arr3d2], axis = 1)\n",
    "print(arr_concat1)"
   ]
  },
  {
   "cell_type": "code",
   "execution_count": 70,
   "id": "3dc38e6b",
   "metadata": {},
   "outputs": [
    {
     "name": "stdout",
     "output_type": "stream",
     "text": [
      "[[[16  6 50 34]\n",
      "  [10 19 52 53]]\n",
      "\n",
      " [[ 5 13 34 59]\n",
      "  [19  1 48 42]]]\n"
     ]
    }
   ],
   "source": [
    "arr_concat2 = np.concatenate([arr3d1, arr3d2], axis = 2)\n",
    "print(arr_concat2)"
   ]
  },
  {
   "cell_type": "code",
   "execution_count": null,
   "id": "98456e47",
   "metadata": {},
   "outputs": [],
   "source": []
  },
  {
   "cell_type": "code",
   "execution_count": null,
   "id": "e8e99d7d",
   "metadata": {},
   "outputs": [],
   "source": []
  },
  {
   "cell_type": "code",
   "execution_count": null,
   "id": "422c9144",
   "metadata": {},
   "outputs": [],
   "source": []
  },
  {
   "cell_type": "code",
   "execution_count": null,
   "id": "a0fe8c57",
   "metadata": {},
   "outputs": [],
   "source": []
  },
  {
   "cell_type": "markdown",
   "id": "d52387ce",
   "metadata": {},
   "source": [
    "## 2. numpy.stack():\n",
    "\n",
    "<li>Stacking is same as concatenation, the only difference is that stacking is done along a new axis.</li>\n",
    "<li>stack() creates a new array which has 1 more dimension than the input arrays. If we stack 2 1-D arrays, the resultant array will have 2 dimensions.</li>\n",
    "<li>We can concatenate two 1-D arrays along the second axis which would result in putting them one over the other, ie. stacking.</li>\n",
    "<li>We pass a sequence of arrays that we want to join to the <b>np.stack()</b> method along with the axis. If axis is not explicitly passed it is taken as 0.</li>\n",
    "<li>If we want to join 2 arrays using stacking operation, then they must have the same shape and dimensions. (e.g. both (2,3)–> 2 rows,3 columns)</li>\n"
   ]
  },
  {
   "cell_type": "code",
   "execution_count": 4,
   "id": "71ab2974",
   "metadata": {},
   "outputs": [
    {
     "name": "stdout",
     "output_type": "stream",
     "text": [
      "[16 19  7  8 16]\n"
     ]
    }
   ],
   "source": [
    "import numpy as np\n",
    "arr1d1 = np.random.randint(1, 21, 5)\n",
    "print(arr1d1)"
   ]
  },
  {
   "cell_type": "code",
   "execution_count": 5,
   "id": "03afe3b2",
   "metadata": {},
   "outputs": [
    {
     "name": "stdout",
     "output_type": "stream",
     "text": [
      "[29 28 34 27 23]\n"
     ]
    }
   ],
   "source": [
    "arr1d2 = np.random.randint(22, 41, 5)\n",
    "print(arr1d2)"
   ]
  },
  {
   "cell_type": "code",
   "execution_count": 9,
   "id": "b53f6119",
   "metadata": {},
   "outputs": [
    {
     "name": "stdout",
     "output_type": "stream",
     "text": [
      "[[16 19  7  8 16]\n",
      " [29 28 34 27 23]]\n"
     ]
    }
   ],
   "source": [
    "stack1d1 = np.stack([arr1d1, arr1d2], axis = 0)\n",
    "print(stack1d1)"
   ]
  },
  {
   "cell_type": "code",
   "execution_count": 11,
   "id": "508c8b45",
   "metadata": {},
   "outputs": [
    {
     "data": {
      "text/plain": [
       "array([16, 19,  7,  8, 16, 29, 28, 34, 27, 23])"
      ]
     },
     "execution_count": 11,
     "metadata": {},
     "output_type": "execute_result"
    }
   ],
   "source": [
    "np.concatenate([arr1d1, arr1d2])"
   ]
  },
  {
   "cell_type": "code",
   "execution_count": 12,
   "id": "5369c9ee",
   "metadata": {},
   "outputs": [
    {
     "name": "stdout",
     "output_type": "stream",
     "text": [
      "[[16 29]\n",
      " [19 28]\n",
      " [ 7 34]\n",
      " [ 8 27]\n",
      " [16 23]]\n"
     ]
    }
   ],
   "source": [
    "stack1d2 = np.stack([arr1d1, arr1d2], axis = 1)\n",
    "print(stack1d2)"
   ]
  },
  {
   "cell_type": "code",
   "execution_count": 13,
   "id": "5afd0fd7",
   "metadata": {},
   "outputs": [
    {
     "name": "stdout",
     "output_type": "stream",
     "text": [
      "[[20 33 32]\n",
      " [24  3 14]\n",
      " [32 12 14]]\n"
     ]
    }
   ],
   "source": [
    "arr2d1 = np.random.randint(1, 34, (3,3))\n",
    "print(arr2d1)"
   ]
  },
  {
   "cell_type": "code",
   "execution_count": 14,
   "id": "4cbf1dd5",
   "metadata": {},
   "outputs": [
    {
     "name": "stdout",
     "output_type": "stream",
     "text": [
      "[[53 40 46]\n",
      " [55 53 41]\n",
      " [34 35 45]]\n"
     ]
    }
   ],
   "source": [
    "arr2d2 = np.random.randint(31, 56, (3, 3))\n",
    "print(arr2d2)"
   ]
  },
  {
   "cell_type": "code",
   "execution_count": 15,
   "id": "131892fe",
   "metadata": {},
   "outputs": [
    {
     "name": "stdout",
     "output_type": "stream",
     "text": [
      "[[[20 33 32]\n",
      "  [24  3 14]\n",
      "  [32 12 14]]\n",
      "\n",
      " [[53 40 46]\n",
      "  [55 53 41]\n",
      "  [34 35 45]]]\n",
      "(2, 3, 3)\n"
     ]
    }
   ],
   "source": [
    "stack2d1 = np.stack([arr2d1, arr2d2])\n",
    "print(stack2d1)\n",
    "print(stack2d1.shape)"
   ]
  },
  {
   "cell_type": "code",
   "execution_count": 16,
   "id": "c010e210",
   "metadata": {},
   "outputs": [
    {
     "name": "stdout",
     "output_type": "stream",
     "text": [
      "[[[20 33 32]\n",
      "  [53 40 46]]\n",
      "\n",
      " [[24  3 14]\n",
      "  [55 53 41]]\n",
      "\n",
      " [[32 12 14]\n",
      "  [34 35 45]]]\n",
      "(3, 2, 3)\n"
     ]
    }
   ],
   "source": [
    "stack2d2 = np.stack([arr2d1, arr2d2], axis = 1)\n",
    "print(stack2d2)\n",
    "print(stack2d2.shape)"
   ]
  },
  {
   "cell_type": "code",
   "execution_count": 17,
   "id": "39091069",
   "metadata": {},
   "outputs": [
    {
     "name": "stdout",
     "output_type": "stream",
     "text": [
      "[[[20 53]\n",
      "  [33 40]\n",
      "  [32 46]]\n",
      "\n",
      " [[24 55]\n",
      "  [ 3 53]\n",
      "  [14 41]]\n",
      "\n",
      " [[32 34]\n",
      "  [12 35]\n",
      "  [14 45]]]\n",
      "(3, 3, 2)\n"
     ]
    }
   ],
   "source": [
    "stack2d3 = np.stack([arr2d1, arr2d2], axis = 2)\n",
    "print(stack2d3)\n",
    "print(stack2d3.shape)"
   ]
  },
  {
   "cell_type": "code",
   "execution_count": 18,
   "id": "870b2445",
   "metadata": {},
   "outputs": [
    {
     "name": "stdout",
     "output_type": "stream",
     "text": [
      "[[11 24]\n",
      " [25  6]]\n"
     ]
    }
   ],
   "source": [
    "arr2d1 = np.random.randint(1, 34, (2,2))\n",
    "print(arr2d1)"
   ]
  },
  {
   "cell_type": "code",
   "execution_count": 19,
   "id": "e5f439a5",
   "metadata": {},
   "outputs": [
    {
     "name": "stdout",
     "output_type": "stream",
     "text": [
      "[[55 51]\n",
      " [37 47]]\n"
     ]
    }
   ],
   "source": [
    "arr2d2 = np.random.randint(31, 56, (2, 2))\n",
    "print(arr2d2)"
   ]
  },
  {
   "cell_type": "code",
   "execution_count": 20,
   "id": "00147f38",
   "metadata": {},
   "outputs": [
    {
     "name": "stdout",
     "output_type": "stream",
     "text": [
      "[[[11 24]\n",
      "  [25  6]]\n",
      "\n",
      " [[55 51]\n",
      "  [37 47]]]\n",
      "(2, 2, 2)\n"
     ]
    }
   ],
   "source": [
    "stack2d1 = np.stack([arr2d1, arr2d2])\n",
    "print(stack2d1)\n",
    "print(stack2d1.shape)"
   ]
  },
  {
   "cell_type": "code",
   "execution_count": 21,
   "id": "05b79663",
   "metadata": {},
   "outputs": [
    {
     "name": "stdout",
     "output_type": "stream",
     "text": [
      "[[[11 24]\n",
      "  [55 51]]\n",
      "\n",
      " [[25  6]\n",
      "  [37 47]]]\n",
      "(2, 2, 2)\n"
     ]
    }
   ],
   "source": [
    "stack2d2 = np.stack([arr2d1, arr2d2], axis = 1)\n",
    "print(stack2d2)\n",
    "print(stack2d2.shape)"
   ]
  },
  {
   "cell_type": "code",
   "execution_count": 22,
   "id": "1de47d24",
   "metadata": {},
   "outputs": [
    {
     "name": "stdout",
     "output_type": "stream",
     "text": [
      "[[[11 55]\n",
      "  [24 51]]\n",
      "\n",
      " [[25 37]\n",
      "  [ 6 47]]]\n",
      "(2, 2, 2)\n"
     ]
    }
   ],
   "source": [
    "stack2d2 = np.stack([arr2d1, arr2d2], axis = 2)\n",
    "print(stack2d2)\n",
    "print(stack2d2.shape)"
   ]
  },
  {
   "cell_type": "markdown",
   "id": "3104a5c6",
   "metadata": {},
   "source": [
    "## Types of Stacking\n",
    "<li>There are three types of stacking. They are as follows:</li>\n",
    "<ol>\n",
    "    <li><b>Stacking along rows:</b>NumPy provides a helper function: hstack() to stack along rows.</li>\n",
    "    <li><b>Stcaking along columns:</b>To stack two arrays along columns, Numpy also provides a helper function: vstack().</li>\n",
    "    <li><b>Stacking along depth:</b>Another helper function to stack two numpy arrays along their depth, we have dstack().</li>\n",
    "</ol>"
   ]
  },
  {
   "cell_type": "code",
   "execution_count": 23,
   "id": "bb3a55e8",
   "metadata": {},
   "outputs": [
    {
     "name": "stdout",
     "output_type": "stream",
     "text": [
      "[[ 4  5]\n",
      " [ 1 11]]\n"
     ]
    }
   ],
   "source": [
    "arr2d1 = np.random.randint(1,21,(2,2))\n",
    "print(arr2d1)"
   ]
  },
  {
   "cell_type": "code",
   "execution_count": 24,
   "id": "22262733",
   "metadata": {},
   "outputs": [
    {
     "name": "stdout",
     "output_type": "stream",
     "text": [
      "[[39 38]\n",
      " [25 33]]\n"
     ]
    }
   ],
   "source": [
    "arr2d2 = np.random.randint(22,41,(2,2))\n",
    "print(arr2d2)"
   ]
  },
  {
   "cell_type": "code",
   "execution_count": 29,
   "id": "b5d2d555",
   "metadata": {},
   "outputs": [
    {
     "name": "stdout",
     "output_type": "stream",
     "text": [
      "[[ 4  5 39 38]\n",
      " [ 1 11 25 33]]\n",
      "(2, 4)\n"
     ]
    }
   ],
   "source": [
    "hstack2d = np.hstack([arr2d1, arr2d2])\n",
    "print(hstack2d)\n",
    "print(hstack2d.shape)"
   ]
  },
  {
   "cell_type": "code",
   "execution_count": 27,
   "id": "25515459",
   "metadata": {},
   "outputs": [
    {
     "data": {
      "text/plain": [
       "array([[ 4,  5, 39, 38],\n",
       "       [ 1, 11, 25, 33]])"
      ]
     },
     "execution_count": 27,
     "metadata": {},
     "output_type": "execute_result"
    }
   ],
   "source": [
    "np.concatenate([arr2d1, arr2d2], axis = 1)"
   ]
  },
  {
   "cell_type": "code",
   "execution_count": 30,
   "id": "67c07d64",
   "metadata": {},
   "outputs": [
    {
     "name": "stdout",
     "output_type": "stream",
     "text": [
      "[[ 4  5]\n",
      " [ 1 11]\n",
      " [39 38]\n",
      " [25 33]]\n"
     ]
    }
   ],
   "source": [
    "vstack2d = np.vstack([arr2d1, arr2d2])\n",
    "print(vstack2d)"
   ]
  },
  {
   "cell_type": "code",
   "execution_count": 34,
   "id": "7d012028",
   "metadata": {},
   "outputs": [
    {
     "name": "stdout",
     "output_type": "stream",
     "text": [
      "[[ 4  5]\n",
      " [ 1 11]\n",
      " [39 38]\n",
      " [25 33]]\n"
     ]
    }
   ],
   "source": [
    "print(np.concatenate([arr2d1, arr2d2], axis= 0))"
   ]
  },
  {
   "cell_type": "code",
   "execution_count": 35,
   "id": "65d54598",
   "metadata": {},
   "outputs": [
    {
     "name": "stdout",
     "output_type": "stream",
     "text": [
      "[[[ 4 39]\n",
      "  [ 5 38]]\n",
      "\n",
      " [[ 1 25]\n",
      "  [11 33]]]\n"
     ]
    }
   ],
   "source": [
    "dstack2d = np.dstack([arr2d1, arr2d2])\n",
    "print(dstack2d)"
   ]
  },
  {
   "cell_type": "markdown",
   "id": "23fa2cfe",
   "metadata": {},
   "source": [
    "### 3. numpy.block():\n",
    "\n",
    "<li>numpy.block() function is used to create nd-arrays from nested blocks of lists.</li>\n",
    "<!-- <li>Blocks in the innermost lists are concatenated along the last dimension (-1) first.</li> -->\n",
    "<!-- <li>Then these blocks gets concatenated along the second-last dimension (-2), and so on until the outermost list is reached.</li> -->\n",
    "\n",
    "**Syntax**\n",
    "<code>\n",
    "    numpy.block(arrays)\n",
    "</code>\n",
    "\n",
    "<li>np.block() will raise a value error if:</li>\n",
    "<ol>\n",
    "    <li>If list depths are mismatched - for instance, [[a, b], c] is illegal, and should be spelt [[a, b], [c]]</li>\n",
    "</ol>"
   ]
  },
  {
   "cell_type": "code",
   "execution_count": 40,
   "id": "6f6cdd6d",
   "metadata": {},
   "outputs": [],
   "source": [
    "onedarr1 = np.array([1,2,3,4,5])\n",
    "onedarr2 = np.array([6,7,8,9])"
   ]
  },
  {
   "cell_type": "code",
   "execution_count": 41,
   "id": "362c5e30",
   "metadata": {},
   "outputs": [
    {
     "name": "stdout",
     "output_type": "stream",
     "text": [
      "[1 2 3 4 5 6 7 8 9]\n"
     ]
    }
   ],
   "source": [
    "block1 = np.block([onedarr1, onedarr2])\n",
    "print(block1)"
   ]
  },
  {
   "cell_type": "code",
   "execution_count": null,
   "id": "ec485a4a",
   "metadata": {},
   "outputs": [],
   "source": []
  },
  {
   "cell_type": "code",
   "execution_count": 42,
   "id": "ccb81e20",
   "metadata": {},
   "outputs": [
    {
     "name": "stdout",
     "output_type": "stream",
     "text": [
      "[[ 7 13]\n",
      " [17  8]]\n",
      "\n",
      "[[22 25]\n",
      " [29 32]]\n"
     ]
    }
   ],
   "source": [
    "twodarray1 = np.random.randint(1, 21, (2,2))\n",
    "twodarray2 = np.random.randint(21, 41, (2,2))\n",
    "print(twodarray1)\n",
    "print()\n",
    "print(twodarray2)"
   ]
  },
  {
   "cell_type": "code",
   "execution_count": 44,
   "id": "1918730e",
   "metadata": {},
   "outputs": [
    {
     "name": "stdout",
     "output_type": "stream",
     "text": [
      "[[ 7 13 22 25]\n",
      " [17  8 29 32]]\n",
      "(2, 4)\n"
     ]
    }
   ],
   "source": [
    "block2d = np.block([twodarray1, twodarray2])\n",
    "print(block2d)\n",
    "print(block2d.shape)"
   ]
  },
  {
   "cell_type": "markdown",
   "id": "bbe871d2",
   "metadata": {},
   "source": [
    "## Splitting NumPy Arrays\n",
    "\n",
    "<li>Splitting is reverse operation of Joining.</li>\n",
    "\n",
    "<li>Joining merges multiple arrays into one and Splitting breaks one array into multiple.</li>\n",
    "\n",
    "<li>We use <b>array_split()</b> for splitting arrays, we pass it the array we want to split and the number of splits.</li>\n",
    "\n",
    "<li>np.array_split() accepts two parameters. They are:</li>\n",
    "<ol>\n",
    "    <li>numpy array </li>\n",
    "    <li>no of splits</li>\n",
    "</ol>\n",
    "\n",
    "<code>\n",
    "    np.array_split(arr, 2)\n",
    "</code>\n",
    "\n",
    "<li>This code will divide a numpy array into 2 splits.</li>\n",
    "<li>If the array has less elements than required, it will adjust from the end accordingly.</li>\n",
    "<li>We also have the method split() available but it will not adjust the elements when elements are less in source array for splitting like array_split()</li>\n",
    "\n",
    "<li>We can use <b>np.hsplit(arr2d, 3)</b> method to split the 2-D array into three 2-D arrays along rows.</li>\n",
    "<li>We can use <b>np.vsplit(arr2d, 3)</b> method to split the 2-D array into three 2-D arrays along columns.</li>\n",
    "<li>We can use <b>np.dsplit(arr3d, 3)</b> method to split the 3-D array into three 3-D arrays along depth.</li>\n",
    "\n",
    "\n"
   ]
  },
  {
   "cell_type": "code",
   "execution_count": 45,
   "id": "1dad3f67",
   "metadata": {},
   "outputs": [
    {
     "name": "stdout",
     "output_type": "stream",
     "text": [
      "[19 12 10 10  1  7 10  7 19]\n"
     ]
    }
   ],
   "source": [
    "onedarray = np.random.randint(1, 21, 9)\n",
    "print(onedarray)"
   ]
  },
  {
   "cell_type": "code",
   "execution_count": 47,
   "id": "9c80b8d3",
   "metadata": {},
   "outputs": [
    {
     "data": {
      "text/plain": [
       "[array([19, 12, 10]), array([10,  1,  7]), array([10,  7, 19])]"
      ]
     },
     "execution_count": 47,
     "metadata": {},
     "output_type": "execute_result"
    }
   ],
   "source": [
    "np.array_split(onedarray, 3)"
   ]
  },
  {
   "cell_type": "code",
   "execution_count": 48,
   "id": "88526f26",
   "metadata": {},
   "outputs": [
    {
     "name": "stdout",
     "output_type": "stream",
     "text": [
      "[[50 30 33]\n",
      " [46 22 27]\n",
      " [28 27 37]]\n",
      "(3, 3)\n"
     ]
    }
   ],
   "source": [
    "twodarray = np.random.randint(21, 52, (3,3))\n",
    "print(twodarray)\n",
    "print(twodarray.shape)"
   ]
  },
  {
   "cell_type": "code",
   "execution_count": 49,
   "id": "dab45ef0",
   "metadata": {},
   "outputs": [
    {
     "data": {
      "text/plain": [
       "[array([[50, 30, 33]]), array([[46, 22, 27]]), array([[28, 27, 37]])]"
      ]
     },
     "execution_count": 49,
     "metadata": {},
     "output_type": "execute_result"
    }
   ],
   "source": [
    "np.array_split(twodarray, 3)"
   ]
  },
  {
   "cell_type": "code",
   "execution_count": 55,
   "id": "4a2519ad",
   "metadata": {},
   "outputs": [
    {
     "data": {
      "text/plain": [
       "[array([[50, 30, 33]]), array([[46, 22, 27]]), array([[28, 27, 37]])]"
      ]
     },
     "execution_count": 55,
     "metadata": {},
     "output_type": "execute_result"
    }
   ],
   "source": [
    "np.vsplit(twodarray, 3)"
   ]
  },
  {
   "cell_type": "code",
   "execution_count": 56,
   "id": "32da31db",
   "metadata": {},
   "outputs": [
    {
     "data": {
      "text/plain": [
       "[array([[50],\n",
       "        [46],\n",
       "        [28]]),\n",
       " array([[30],\n",
       "        [22],\n",
       "        [27]]),\n",
       " array([[33],\n",
       "        [27],\n",
       "        [37]])]"
      ]
     },
     "execution_count": 56,
     "metadata": {},
     "output_type": "execute_result"
    }
   ],
   "source": [
    "np.hsplit(twodarray, 3)"
   ]
  },
  {
   "cell_type": "code",
   "execution_count": 58,
   "id": "678c3951",
   "metadata": {},
   "outputs": [
    {
     "name": "stdout",
     "output_type": "stream",
     "text": [
      "(2, 2, 2)\n"
     ]
    }
   ],
   "source": [
    "threedarray = np.random.randint(1,31,(2,2,2))\n",
    "print(threedarray.shape)"
   ]
  },
  {
   "cell_type": "code",
   "execution_count": 59,
   "id": "0e68da5d",
   "metadata": {},
   "outputs": [
    {
     "name": "stdout",
     "output_type": "stream",
     "text": [
      "[[[22 13]\n",
      "  [12 24]]\n",
      "\n",
      " [[18  1]\n",
      "  [29 13]]]\n"
     ]
    }
   ],
   "source": [
    "print(threedarray)"
   ]
  },
  {
   "cell_type": "code",
   "execution_count": 63,
   "id": "5fb7b97a",
   "metadata": {},
   "outputs": [
    {
     "data": {
      "text/plain": [
       "(2, 1, 2)"
      ]
     },
     "execution_count": 63,
     "metadata": {},
     "output_type": "execute_result"
    }
   ],
   "source": [
    "np.hsplit(threedarray, 2)[0].shape"
   ]
  },
  {
   "cell_type": "code",
   "execution_count": 62,
   "id": "6382d0e9",
   "metadata": {},
   "outputs": [
    {
     "data": {
      "text/plain": [
       "(1, 2, 2)"
      ]
     },
     "execution_count": 62,
     "metadata": {},
     "output_type": "execute_result"
    }
   ],
   "source": [
    "np.vsplit(threedarray, 2)[0].shape"
   ]
  },
  {
   "cell_type": "code",
   "execution_count": 64,
   "id": "abb7a897",
   "metadata": {},
   "outputs": [
    {
     "data": {
      "text/plain": [
       "[array([[[22],\n",
       "         [12]],\n",
       " \n",
       "        [[18],\n",
       "         [29]]]),\n",
       " array([[[13],\n",
       "         [24]],\n",
       " \n",
       "        [[ 1],\n",
       "         [13]]])]"
      ]
     },
     "execution_count": 64,
     "metadata": {},
     "output_type": "execute_result"
    }
   ],
   "source": [
    "np.dsplit(threedarray, 2)"
   ]
  },
  {
   "cell_type": "markdown",
   "id": "cc5f6dda",
   "metadata": {},
   "source": [
    "## NumPy Array Functions \n",
    "<ol>\n",
    "    <li><b>Searching</b></li>\n",
    "    <li><b>Sorting</b></li>\n",
    "    <li><b>Filtering</b></li>\n",
    "</ol>"
   ]
  },
  {
   "cell_type": "markdown",
   "id": "95ef7acd",
   "metadata": {},
   "source": [
    "### Search Array:\n",
    "<li>Numpy provides various methods for searching different kinds of numerical values. They are:</li>\n",
    "<ol>\n",
    "    <b><li>numpy.where()</li></b>\n",
    "    <b><li>numpy.searchsorted()</li></b>\n",
    "</ol>\n",
    "\n",
    "#### 1. np.where()\n",
    "<li>To search an array, use the np.where() method.</li>\n",
    "<li>You can search an array for a certain value, and return the indexes that get a match.</li>\n",
    "\n",
    "**Syntax:**\n",
    "\n",
    "<code>\n",
    "    numpy.where(condition[, x, y])\n",
    "</code>\n",
    "\n",
    "**Parameters:**\n",
    "<ol>\n",
    "    <li>condition : When True, yield x, otherwise yield y.</li>\n",
    "    <li>x, y : Values from which to choose.</li>\n",
    "</ol>\n",
    "\n",
    "**Returns:**\n",
    "<li>[ndarray or tuple of ndarrays] If both x and y are specified, the output array contains elements of x where condition is True, and elements from y elsewhere.</li>\n",
    "\n",
    "\n",
    "\n",
    "\n"
   ]
  },
  {
   "cell_type": "code",
   "execution_count": 69,
   "id": "3748954c",
   "metadata": {},
   "outputs": [
    {
     "name": "stdout",
     "output_type": "stream",
     "text": [
      "[ 2  6 10 17 11 10]\n"
     ]
    }
   ],
   "source": [
    "arr1d = np.random.randint(1, 21, 6)\n",
    "print(arr1d)"
   ]
  },
  {
   "cell_type": "code",
   "execution_count": 66,
   "id": "1606755d",
   "metadata": {},
   "outputs": [
    {
     "data": {
      "text/plain": [
       "(array([2, 5], dtype=int64),)"
      ]
     },
     "execution_count": 66,
     "metadata": {},
     "output_type": "execute_result"
    }
   ],
   "source": [
    "np.where(arr1d < 12)"
   ]
  },
  {
   "cell_type": "code",
   "execution_count": 67,
   "id": "f101c720",
   "metadata": {},
   "outputs": [
    {
     "data": {
      "text/plain": [
       "array([1, 1, 0, 1, 1, 0])"
      ]
     },
     "execution_count": 67,
     "metadata": {},
     "output_type": "execute_result"
    }
   ],
   "source": [
    "np.where(arr1d < 12, 0, 1)"
   ]
  },
  {
   "cell_type": "code",
   "execution_count": 72,
   "id": "1eb270e1",
   "metadata": {},
   "outputs": [
    {
     "data": {
      "text/plain": [
       "(array([0], dtype=int64),)"
      ]
     },
     "execution_count": 72,
     "metadata": {},
     "output_type": "execute_result"
    }
   ],
   "source": [
    "np.where(arr1d == 2)"
   ]
  },
  {
   "cell_type": "markdown",
   "id": "918d67e7",
   "metadata": {},
   "source": [
    "#### Question\n",
    "<ol>\n",
    "    <li>Find the indexes where the values are even from the given numpy array.</li>\n",
    "    <li>Find the indexes where the values are odd from the given numpy array.</li>\n",
    "</ol>\n",
    "\n",
    "arr1 = np.array([1,2,3,4,5,6,7,8,9,10])"
   ]
  },
  {
   "cell_type": "code",
   "execution_count": 74,
   "id": "d624c640",
   "metadata": {},
   "outputs": [
    {
     "name": "stdout",
     "output_type": "stream",
     "text": [
      "[ 1  2  3  4  5  6  7  8  9 10]\n"
     ]
    }
   ],
   "source": [
    "arr1 = np.array([1,2,3,4,5,6,7,8,9,10])\n",
    "print(arr1)"
   ]
  },
  {
   "cell_type": "code",
   "execution_count": 77,
   "id": "7f998a41",
   "metadata": {},
   "outputs": [
    {
     "data": {
      "text/plain": [
       "array(['odd', 'even', 'odd', 'even', 'odd', 'even', 'odd', 'even', 'odd',\n",
       "       'even'], dtype='<U4')"
      ]
     },
     "execution_count": 77,
     "metadata": {},
     "output_type": "execute_result"
    }
   ],
   "source": [
    "np.where(arr1 % 2 == 0, \"even\", \"odd\")"
   ]
  },
  {
   "cell_type": "code",
   "execution_count": 76,
   "id": "bf27348c",
   "metadata": {},
   "outputs": [
    {
     "data": {
      "text/plain": [
       "(array([0, 2, 4, 6, 8], dtype=int64),)"
      ]
     },
     "execution_count": 76,
     "metadata": {},
     "output_type": "execute_result"
    }
   ],
   "source": [
    "np.where(arr1 % 2 == 1)"
   ]
  },
  {
   "cell_type": "markdown",
   "id": "480af318",
   "metadata": {},
   "source": [
    "#### 2. np.searchsorted()\n",
    "\n",
    "<li>The function performs a binary search in an array and returns the index where the specified value would be inserted to maintain the search order.</li>\n",
    "<li>It is different from np.where() in a way it returns an index such that it maintain the sorted order.</li>\n",
    "\n",
    "**Syntax :**\n",
    "<code>\n",
    "    numpy.searchsorted(arr, num, side=’left’, sorter=None)\n",
    "</code>\n",
    "\n",
    "**Parameters :**\n",
    "numpy.searchsorted(a, v, side='left', sorter=None)\n",
    "\n",
    "\n",
    "\n",
    "<li>a : [array_like] Input array. If sorter is None, then it must be sorted in ascending order, otherwise sorter must be an array of indices that sort it.</li>\n",
    "\n",
    "<li>v : [array_like]The Values which we want to insert into arr.</li>\n",
    "<li>side : [‘left’, ‘right’], optional.</li>\n",
    "<ol>\n",
    "<li>If ‘left’, the index of the first suitable location found is given.</li>\n",
    "<li>If ‘right’, return the last such index.</li>\n",
    "<li>If there is no suitable index, return either 0 or N (where N is the length of a).</li>\n",
    "</ol>\n",
    "<li>sorter: Optional array of integer indices that sort array a into ascending order. They are typically the result of argsort.\n",
    "np.argsort(arr)</li>\n",
    "\n",
    "**Return :**\n",
    "<li>indices, Array of insertion points with the same shape as num.</li>\n",
    "\n"
   ]
  },
  {
   "cell_type": "code",
   "execution_count": 78,
   "id": "71fddb2b",
   "metadata": {},
   "outputs": [
    {
     "name": "stdout",
     "output_type": "stream",
     "text": [
      "[9 2 5 2 7 3 5 6 2 6]\n"
     ]
    }
   ],
   "source": [
    "arr1d = np.array([9,2,5,2,7,3,5,6,2,6])\n",
    "print(arr1d)"
   ]
  },
  {
   "cell_type": "code",
   "execution_count": 80,
   "id": "48a449f3",
   "metadata": {},
   "outputs": [
    {
     "data": {
      "text/plain": [
       "0"
      ]
     },
     "execution_count": 80,
     "metadata": {},
     "output_type": "execute_result"
    }
   ],
   "source": [
    "np.searchsorted(arr1d, 2, side='left', sorter=np.argsort(arr1d))"
   ]
  },
  {
   "cell_type": "code",
   "execution_count": 81,
   "id": "5a27e82e",
   "metadata": {},
   "outputs": [
    {
     "data": {
      "text/plain": [
       "3"
      ]
     },
     "execution_count": 81,
     "metadata": {},
     "output_type": "execute_result"
    }
   ],
   "source": [
    "np.searchsorted(arr1d, 2, side='right', sorter=np.argsort(arr1d))"
   ]
  },
  {
   "cell_type": "code",
   "execution_count": 82,
   "id": "f21b9b4b",
   "metadata": {},
   "outputs": [
    {
     "data": {
      "text/plain": [
       "9"
      ]
     },
     "execution_count": 82,
     "metadata": {},
     "output_type": "execute_result"
    }
   ],
   "source": [
    "np.searchsorted(arr1d, 7, side='right', sorter=np.argsort(arr1d))"
   ]
  },
  {
   "cell_type": "code",
   "execution_count": 83,
   "id": "65082516",
   "metadata": {},
   "outputs": [
    {
     "data": {
      "text/plain": [
       "8"
      ]
     },
     "execution_count": 83,
     "metadata": {},
     "output_type": "execute_result"
    }
   ],
   "source": [
    "np.searchsorted(arr1d, 7, side='left', sorter=np.argsort(arr1d))"
   ]
  },
  {
   "cell_type": "code",
   "execution_count": 87,
   "id": "0eec0467",
   "metadata": {},
   "outputs": [
    {
     "data": {
      "text/plain": [
       "2"
      ]
     },
     "execution_count": 87,
     "metadata": {},
     "output_type": "execute_result"
    }
   ],
   "source": [
    "# np.searchsorted(arr1d, 2, side='right')"
   ]
  },
  {
   "cell_type": "markdown",
   "id": "0d15f709",
   "metadata": {},
   "source": [
    "## Sorting NumPy Arrays\n",
    "\n",
    "<li>Sorting means arranging elements in an ordered sequence either in increasing order or a decreasing order.</li>\n",
    "<li>Ordered sequence is any sequence that has an order corresponding to elements, like numeric or alphabetical, ascending or descending.</li>\n",
    "<li>The NumPy ndarray object has a function called <b>sort()</b>, that will sort a specified array.</li>\n",
    "<li>We can also sort the boolean values using the <b>np.sort()</b> function.</li>\n",
    "<li>We can also get the indexes of the sorted array using the function <b>np.argsort()</b>.</li>"
   ]
  },
  {
   "cell_type": "code",
   "execution_count": 2,
   "id": "d20db372",
   "metadata": {},
   "outputs": [
    {
     "name": "stdout",
     "output_type": "stream",
     "text": [
      "[4 2 7 3 9 1 6]\n"
     ]
    }
   ],
   "source": [
    "import numpy as np\n",
    "arr = np.array([4,2,7,3,9,1,6])\n",
    "print(arr)"
   ]
  },
  {
   "cell_type": "code",
   "execution_count": 3,
   "id": "48ccdd81",
   "metadata": {},
   "outputs": [
    {
     "name": "stdout",
     "output_type": "stream",
     "text": [
      "[1 2 3 4 6 7 9]\n"
     ]
    }
   ],
   "source": [
    "sorted_arr = np.sort(arr)\n",
    "print(sorted_arr)"
   ]
  },
  {
   "cell_type": "code",
   "execution_count": 4,
   "id": "4f413bb6",
   "metadata": {},
   "outputs": [
    {
     "name": "stdout",
     "output_type": "stream",
     "text": [
      "[5 1 3 0 6 2 4]\n"
     ]
    }
   ],
   "source": [
    "index_sorted_arr = np.argsort(arr)\n",
    "print(index_sorted_arr)"
   ]
  },
  {
   "cell_type": "markdown",
   "id": "331a6342",
   "metadata": {},
   "source": [
    "#### Question\n",
    "array = [9,3,1,6,2,8,4,5]\n",
    "**<li>Sort the following array in a descending order.</li>**"
   ]
  },
  {
   "cell_type": "code",
   "execution_count": 5,
   "id": "af45e7ec",
   "metadata": {},
   "outputs": [
    {
     "name": "stdout",
     "output_type": "stream",
     "text": [
      "[9 3 1 6 2 8 4 5]\n"
     ]
    }
   ],
   "source": [
    "array = np.array([9, 3, 1, 6, 2, 8, 4, 5])\n",
    "print(array)"
   ]
  },
  {
   "cell_type": "code",
   "execution_count": 6,
   "id": "0859e06a",
   "metadata": {},
   "outputs": [
    {
     "name": "stdout",
     "output_type": "stream",
     "text": [
      "[1 2 3 4 5 6 8 9]\n"
     ]
    }
   ],
   "source": [
    "asc_array = np.sort(array)\n",
    "print(asc_array)"
   ]
  },
  {
   "cell_type": "code",
   "execution_count": 9,
   "id": "8547b2e8",
   "metadata": {},
   "outputs": [
    {
     "name": "stdout",
     "output_type": "stream",
     "text": [
      "[9 8 6 5 4 3 2 1]\n"
     ]
    }
   ],
   "source": [
    "desc_array = - np.sort(-array)\n",
    "print(desc_array)"
   ]
  },
  {
   "cell_type": "markdown",
   "id": "367533c9",
   "metadata": {},
   "source": [
    "#### Filtering NumPy Array\n",
    "\n",
    "<li>Getting some elements out of an existing array and creating a new array out of them is called filtering.</li>\n",
    "<li>In NumPy, you filter an array using a boolean index list.</li>\n",
    "<li>A boolean index list is a list of booleans corresponding to indexes in the array.</li>\n",
    "<li>If the value at an index is True then that element is contained in the filtered array.</li>\n",
    "<li>If the value at that index is False that element is excluded from the filtered array.</li>\n",
    "<li>We can use these comparision operators also to filter the numpy array.</li>\n",
    "<ol>\n",
    "    <li>Greater than (>) Or numpy.greater()</li>\n",
    "    <li>Less Than (<) numpy.less().</li>\n",
    "    <li>Equal(==) or numpy.equal()</li>\n",
    "    <li>Not Equal(!=) or numpy.not_equal().</li>\n",
    "    <li>Greater than and equal to(>=).</li>\n",
    "    <li>Less than Equal to(<=).</li>\n"
   ]
  },
  {
   "cell_type": "code",
   "execution_count": 10,
   "id": "19829ae4",
   "metadata": {},
   "outputs": [],
   "source": [
    "array1 = np.array([4, 5, 3, 2])\n"
   ]
  },
  {
   "cell_type": "code",
   "execution_count": 11,
   "id": "af2d6428",
   "metadata": {},
   "outputs": [
    {
     "data": {
      "text/plain": [
       "array([False, False,  True,  True])"
      ]
     },
     "execution_count": 11,
     "metadata": {},
     "output_type": "execute_result"
    }
   ],
   "source": [
    "array1 < 4"
   ]
  },
  {
   "cell_type": "code",
   "execution_count": 12,
   "id": "3d3a31d2",
   "metadata": {},
   "outputs": [
    {
     "data": {
      "text/plain": [
       "array([3, 2])"
      ]
     },
     "execution_count": 12,
     "metadata": {},
     "output_type": "execute_result"
    }
   ],
   "source": [
    "array1[array1 < 4]"
   ]
  },
  {
   "cell_type": "code",
   "execution_count": 13,
   "id": "98529dbf",
   "metadata": {},
   "outputs": [],
   "source": [
    "array2 = np.array(['Ram', 'Shiva', 'Hari', 'Nirmala'])\n",
    "bool2 = np.array([True, False, True, False])"
   ]
  },
  {
   "cell_type": "code",
   "execution_count": 14,
   "id": "996543fe",
   "metadata": {},
   "outputs": [
    {
     "data": {
      "text/plain": [
       "array(['Ram', 'Hari'], dtype='<U7')"
      ]
     },
     "execution_count": 14,
     "metadata": {},
     "output_type": "execute_result"
    }
   ],
   "source": [
    "array2[bool2]"
   ]
  },
  {
   "cell_type": "code",
   "execution_count": 27,
   "id": "1d0baf40",
   "metadata": {},
   "outputs": [
    {
     "name": "stdout",
     "output_type": "stream",
     "text": [
      "[[ 7 27 18]\n",
      " [ 8 13  8]\n",
      " [12  3  6]]\n"
     ]
    }
   ],
   "source": [
    "array3 = np.random.randint(1, 31, (3,3))\n",
    "print(array3)"
   ]
  },
  {
   "cell_type": "code",
   "execution_count": 28,
   "id": "ca0b2158",
   "metadata": {},
   "outputs": [
    {
     "data": {
      "text/plain": [
       "array([27, 18])"
      ]
     },
     "execution_count": 28,
     "metadata": {},
     "output_type": "execute_result"
    }
   ],
   "source": [
    "array3[array3 > 15]"
   ]
  },
  {
   "cell_type": "markdown",
   "id": "c3971c58",
   "metadata": {},
   "source": [
    "#### Filter Values Using “OR” Condition"
   ]
  },
  {
   "cell_type": "code",
   "execution_count": 29,
   "id": "3b6dcd08",
   "metadata": {},
   "outputs": [
    {
     "data": {
      "text/plain": [
       "array([[False,  True, False],\n",
       "       [False, False, False],\n",
       "       [False, False, False]])"
      ]
     },
     "execution_count": 29,
     "metadata": {},
     "output_type": "execute_result"
    }
   ],
   "source": [
    "array3 > 20"
   ]
  },
  {
   "cell_type": "code",
   "execution_count": 30,
   "id": "edea8dcf",
   "metadata": {},
   "outputs": [
    {
     "data": {
      "text/plain": [
       "array([[ True, False, False],\n",
       "       [ True, False,  True],\n",
       "       [False,  True,  True]])"
      ]
     },
     "execution_count": 30,
     "metadata": {},
     "output_type": "execute_result"
    }
   ],
   "source": [
    "array3 < 10"
   ]
  },
  {
   "cell_type": "code",
   "execution_count": 31,
   "id": "48307e0c",
   "metadata": {},
   "outputs": [
    {
     "data": {
      "text/plain": [
       "array([ 7, 27,  8,  8,  3,  6])"
      ]
     },
     "execution_count": 31,
     "metadata": {},
     "output_type": "execute_result"
    }
   ],
   "source": [
    "array3[(array3 < 10) | (array3 > 20)]"
   ]
  },
  {
   "cell_type": "markdown",
   "id": "1be45bd8",
   "metadata": {},
   "source": [
    "#### Filter Values Using \"AND\" condition"
   ]
  },
  {
   "cell_type": "code",
   "execution_count": 34,
   "id": "42f9d51d",
   "metadata": {},
   "outputs": [
    {
     "name": "stdout",
     "output_type": "stream",
     "text": [
      "[[ 7 27 18]\n",
      " [ 8 13  8]\n",
      " [12  3  6]]\n"
     ]
    }
   ],
   "source": [
    "array4 = np.array([[7,27,18], [8,13,8], [12,3,6]])\n",
    "print(array4)"
   ]
  },
  {
   "cell_type": "code",
   "execution_count": 38,
   "id": "da934191",
   "metadata": {},
   "outputs": [
    {
     "data": {
      "text/plain": [
       "array([[ True, False, False],\n",
       "       [ True, False,  True],\n",
       "       [False,  True,  True]])"
      ]
     },
     "execution_count": 38,
     "metadata": {},
     "output_type": "execute_result"
    }
   ],
   "source": [
    "(array4 < 10)"
   ]
  },
  {
   "cell_type": "code",
   "execution_count": 39,
   "id": "588c0484",
   "metadata": {},
   "outputs": [
    {
     "data": {
      "text/plain": [
       "array([[False, False,  True],\n",
       "       [ True, False,  True],\n",
       "       [ True, False,  True]])"
      ]
     },
     "execution_count": 39,
     "metadata": {},
     "output_type": "execute_result"
    }
   ],
   "source": [
    "(array4 %2 == 0)"
   ]
  },
  {
   "cell_type": "code",
   "execution_count": 40,
   "id": "4df149fa",
   "metadata": {},
   "outputs": [
    {
     "data": {
      "text/plain": [
       "array([8, 8, 6])"
      ]
     },
     "execution_count": 40,
     "metadata": {},
     "output_type": "execute_result"
    }
   ],
   "source": [
    "array4[(array4 < 10) & (array4 %2 == 0)]"
   ]
  },
  {
   "cell_type": "code",
   "execution_count": null,
   "id": "f1f0c488",
   "metadata": {},
   "outputs": [],
   "source": []
  },
  {
   "cell_type": "code",
   "execution_count": null,
   "id": "0552b82a",
   "metadata": {},
   "outputs": [],
   "source": []
  },
  {
   "cell_type": "markdown",
   "id": "ecda6562",
   "metadata": {},
   "source": [
    "#### NumPy Functions\n",
    "\n",
    "<li>Shuffle</li>\n",
    "<li>Unique</li>\n",
    "<li>Resize</li>\n",
    "<li>Flatten</li>\n",
    "<li>Ravel</li>"
   ]
  },
  {
   "cell_type": "markdown",
   "id": "b8205382",
   "metadata": {},
   "source": [
    "<b>1. Shuffle:</b>\n",
    "<li>We can get the random positioning of different integer values in the numpy array with the help of numpy.random.shuffle() method</li>\n",
    "<li>All the values in an array will be shuffled randomly by np.random.suffle() method.</li>\n",
    "\n",
    "**Syntax :**\n",
    "<code>\n",
    "    numpy.random.suffle(x)\n",
    "</code>\n",
    "<li>It returns the reshuffled numpy array.</li>"
   ]
  },
  {
   "cell_type": "code",
   "execution_count": 46,
   "id": "1133bb18",
   "metadata": {},
   "outputs": [
    {
     "name": "stdout",
     "output_type": "stream",
     "text": [
      "[1 5 8 2 9]\n"
     ]
    }
   ],
   "source": [
    "array1d = np.array([1,5,8,2,9])\n",
    "print(array1d)"
   ]
  },
  {
   "cell_type": "code",
   "execution_count": 47,
   "id": "d4e7a13e",
   "metadata": {},
   "outputs": [],
   "source": [
    "np.random.shuffle(array1d)"
   ]
  },
  {
   "cell_type": "code",
   "execution_count": 48,
   "id": "c435770a",
   "metadata": {},
   "outputs": [
    {
     "data": {
      "text/plain": [
       "array([8, 1, 9, 2, 5])"
      ]
     },
     "execution_count": 48,
     "metadata": {},
     "output_type": "execute_result"
    }
   ],
   "source": [
    "array1d"
   ]
  },
  {
   "cell_type": "code",
   "execution_count": null,
   "id": "1fa41069",
   "metadata": {},
   "outputs": [],
   "source": []
  },
  {
   "cell_type": "markdown",
   "id": "1da0c43f",
   "metadata": {},
   "source": [
    "<b>2. Unique:</b>\n",
    "\n",
    "<li>The unique() function is used to find the unique elements of an array.</li>\n",
    "<li>It Returns the sorted unique elements of an array.</li>\n",
    "\n",
    "**Syntax:**\n",
    "<code>\n",
    "    np.unique(arr, return_index=False, return_counts=False)"
   ]
  },
  {
   "cell_type": "code",
   "execution_count": 49,
   "id": "7ad2fc4d",
   "metadata": {},
   "outputs": [],
   "source": [
    "array2 = np.array([4,5,5,6,2,2,7,3,3])"
   ]
  },
  {
   "cell_type": "code",
   "execution_count": 50,
   "id": "384d940f",
   "metadata": {},
   "outputs": [
    {
     "data": {
      "text/plain": [
       "array([2, 3, 4, 5, 6, 7])"
      ]
     },
     "execution_count": 50,
     "metadata": {},
     "output_type": "execute_result"
    }
   ],
   "source": [
    "np.unique(array2)"
   ]
  },
  {
   "cell_type": "code",
   "execution_count": 51,
   "id": "8f04ac36",
   "metadata": {},
   "outputs": [
    {
     "data": {
      "text/plain": [
       "(array([2, 3, 4, 5, 6, 7]), array([4, 7, 0, 1, 3, 6], dtype=int64))"
      ]
     },
     "execution_count": 51,
     "metadata": {},
     "output_type": "execute_result"
    }
   ],
   "source": [
    "np.unique(array2, return_index = True)"
   ]
  },
  {
   "cell_type": "code",
   "execution_count": 52,
   "id": "bc92fec9",
   "metadata": {},
   "outputs": [
    {
     "data": {
      "text/plain": [
       "(array([2, 3, 4, 5, 6, 7]), array([2, 2, 1, 2, 1, 1], dtype=int64))"
      ]
     },
     "execution_count": 52,
     "metadata": {},
     "output_type": "execute_result"
    }
   ],
   "source": [
    "np.unique(array2, return_counts = True)"
   ]
  },
  {
   "cell_type": "markdown",
   "id": "7226be47",
   "metadata": {},
   "source": [
    "<b>3. Resize:</b>\n",
    "<li>The resize() function is used to create a new array with the specified shape.</li>\n",
    "<li>If the new array is larger than the original array, then the new array is filled with repeated copies of a.</li>\n",
    "<li>np.reshape() does not changes the original array but only returns the changed array</li>\n",
    "<li>However, the resize() method returns nothing and directly changes the original array.</li>"
   ]
  },
  {
   "cell_type": "code",
   "execution_count": 61,
   "id": "cdf5d222",
   "metadata": {},
   "outputs": [],
   "source": [
    "array4 = np.array([1,2,3,4,5,6])"
   ]
  },
  {
   "cell_type": "code",
   "execution_count": 62,
   "id": "f2ea5cc7",
   "metadata": {},
   "outputs": [
    {
     "name": "stdout",
     "output_type": "stream",
     "text": [
      "[[1 2]\n",
      " [3 4]\n",
      " [5 6]\n",
      " [1 2]\n",
      " [3 4]\n",
      " [5 6]]\n"
     ]
    }
   ],
   "source": [
    "array5 = np.resize(array4, (6,2))\n",
    "print(array5)"
   ]
  },
  {
   "cell_type": "code",
   "execution_count": 59,
   "id": "aa61e049",
   "metadata": {},
   "outputs": [
    {
     "name": "stdout",
     "output_type": "stream",
     "text": [
      "[1 2 3 4 5 6]\n"
     ]
    }
   ],
   "source": [
    "print(array4)"
   ]
  },
  {
   "cell_type": "markdown",
   "id": "3452eb37",
   "metadata": {},
   "source": [
    "<b>Flatten Vs Ravel:</b>\n",
    "<li>The flatten() function is used to get a copy of an given array collapsed into one dimension.</li>\n",
    "<li>We use arr.flatten() to collapse ndarray to one-d array.</li>\n",
    "<li>The ravel() function is used to get a view of the original array collapsed into one dimension.</li>\n",
    "<li>We use np.ravel() to collapse ndarray to one-d array.</li>\n",
    "<li>The ravel method returns merely a reference/view of the original array, whereas flattening returns an array's copy.</li>\n",
    "<li>Ravel requires less time than flatten() to squish NumPy arrays down to 1 Dimension.</li>\n",
    "<li>The ravel method may be applied to any object that can be effectively parsed, whereas flatten is only applicable to ndarray objects.</li>\n"
   ]
  },
  {
   "cell_type": "code",
   "execution_count": 64,
   "id": "aafcd851",
   "metadata": {},
   "outputs": [
    {
     "name": "stdout",
     "output_type": "stream",
     "text": [
      "[[18 25 21]\n",
      " [35 28 24]\n",
      " [39 21 18]]\n",
      "(3, 3)\n"
     ]
    }
   ],
   "source": [
    "array2d = np.random.randint(12, 45, (3,3))\n",
    "print(array2d)\n",
    "print(array2d.shape)"
   ]
  },
  {
   "cell_type": "code",
   "execution_count": 67,
   "id": "12c0eeaa",
   "metadata": {},
   "outputs": [
    {
     "data": {
      "text/plain": [
       "array([18, 25, 21, 35, 28, 24, 39, 21, 18])"
      ]
     },
     "execution_count": 67,
     "metadata": {},
     "output_type": "execute_result"
    }
   ],
   "source": [
    "array2d.flatten()"
   ]
  },
  {
   "cell_type": "code",
   "execution_count": 69,
   "id": "c31d060f",
   "metadata": {},
   "outputs": [
    {
     "data": {
      "text/plain": [
       "array([18, 25, 21, 35, 28, 24, 39, 21, 18])"
      ]
     },
     "execution_count": 69,
     "metadata": {},
     "output_type": "execute_result"
    }
   ],
   "source": [
    "np.ravel(array2d)"
   ]
  },
  {
   "cell_type": "code",
   "execution_count": 70,
   "id": "bbb0ee62",
   "metadata": {},
   "outputs": [],
   "source": [
    "list_of_list = [[1,2,3], [4,5,6], [7,8,9]]"
   ]
  },
  {
   "cell_type": "code",
   "execution_count": 72,
   "id": "7115abe5",
   "metadata": {},
   "outputs": [
    {
     "data": {
      "text/plain": [
       "array([1, 2, 3, 4, 5, 6, 7, 8, 9])"
      ]
     },
     "execution_count": 72,
     "metadata": {},
     "output_type": "execute_result"
    }
   ],
   "source": [
    "np.ravel(list_of_list)"
   ]
  },
  {
   "cell_type": "code",
   "execution_count": 73,
   "id": "73f1b2a0",
   "metadata": {},
   "outputs": [
    {
     "ename": "AttributeError",
     "evalue": "'list' object has no attribute 'flatten'",
     "output_type": "error",
     "traceback": [
      "\u001b[1;31m---------------------------------------------------------------------------\u001b[0m",
      "\u001b[1;31mAttributeError\u001b[0m                            Traceback (most recent call last)",
      "Cell \u001b[1;32mIn[73], line 1\u001b[0m\n\u001b[1;32m----> 1\u001b[0m \u001b[43mlist_of_list\u001b[49m\u001b[38;5;241;43m.\u001b[39;49m\u001b[43mflatten\u001b[49m()\n",
      "\u001b[1;31mAttributeError\u001b[0m: 'list' object has no attribute 'flatten'"
     ]
    }
   ],
   "source": [
    "list_of_list.flatten()"
   ]
  },
  {
   "cell_type": "markdown",
   "id": "71e1a71c",
   "metadata": {},
   "source": []
  },
  {
   "cell_type": "code",
   "execution_count": null,
   "id": "fa9c3a7f",
   "metadata": {},
   "outputs": [],
   "source": []
  },
  {
   "cell_type": "markdown",
   "id": "14caab2b",
   "metadata": {},
   "source": [
    "#### Insert\n",
    "<li>We can insert/add elements in a numpy array.</li>\n",
    "<li>This can be achieved by using a function np.insert()</li>\n",
    "<li>np.insert() accepts three parameters.</li>\n",
    "<li>They are as follows:</li>\n",
    "<ol>\n",
    "    <li>Numpy arrays</li>\n",
    "    <li>index position</li>\n",
    "    <li>values to be inserted</li>\n",
    "</li>"
   ]
  },
  {
   "cell_type": "code",
   "execution_count": 97,
   "id": "4cad57b3",
   "metadata": {},
   "outputs": [
    {
     "name": "stdout",
     "output_type": "stream",
     "text": [
      "[1 3 5 7 9]\n"
     ]
    }
   ],
   "source": [
    "onedarray = np.array([1,3,5,7,9])\n",
    "print(onedarray)"
   ]
  },
  {
   "cell_type": "code",
   "execution_count": 98,
   "id": "ac5aa810",
   "metadata": {},
   "outputs": [],
   "source": [
    "onedarray = np.insert(onedarray, 1, 2)"
   ]
  },
  {
   "cell_type": "code",
   "execution_count": 99,
   "id": "243a279a",
   "metadata": {},
   "outputs": [
    {
     "data": {
      "text/plain": [
       "array([1, 2, 3, 5, 7, 9])"
      ]
     },
     "execution_count": 99,
     "metadata": {},
     "output_type": "execute_result"
    }
   ],
   "source": [
    "onedarray"
   ]
  },
  {
   "cell_type": "code",
   "execution_count": 100,
   "id": "51433b01",
   "metadata": {},
   "outputs": [],
   "source": [
    "finalonedarray = np.insert(onedarray, [3,4,5], [4,6,8])"
   ]
  },
  {
   "cell_type": "code",
   "execution_count": 101,
   "id": "f604116a",
   "metadata": {},
   "outputs": [
    {
     "data": {
      "text/plain": [
       "array([1, 2, 3, 4, 5, 6, 7, 8, 9])"
      ]
     },
     "execution_count": 101,
     "metadata": {},
     "output_type": "execute_result"
    }
   ],
   "source": [
    "finalonedarray"
   ]
  },
  {
   "cell_type": "code",
   "execution_count": null,
   "id": "f9f00e24",
   "metadata": {},
   "outputs": [],
   "source": [
    "[1,10,2,3,11,4,5,6,12,7,8,13,9]"
   ]
  },
  {
   "cell_type": "code",
   "execution_count": 102,
   "id": "6f6e4857",
   "metadata": {},
   "outputs": [
    {
     "data": {
      "text/plain": [
       "array([ 1, 10,  2,  3, 11,  4,  5,  6, 12,  7,  8, 13,  9])"
      ]
     },
     "execution_count": 102,
     "metadata": {},
     "output_type": "execute_result"
    }
   ],
   "source": [
    "np.insert(finalonedarray, [1,3,6,8], [10,11,12,13])"
   ]
  },
  {
   "cell_type": "markdown",
   "id": "27eaf9b4",
   "metadata": {},
   "source": [
    "#### Matrix In A Numpy Array\n",
    "<li>Matrix is an array of numbers arranged in rows and columns.</li>\n",
    "<li>We can create a matrix by using np.matrix() method.</li>\n",
    "\n",
    "**How to create a matrix in numpy?**\n",
    "\n",
    "<li>For creating a matrix in a numpy array, we can use the following code:</li>\n",
    "<code>\n",
    "    matrix1 = np.matrix(numpy_array1)\n",
    "</code>"
   ]
  },
  {
   "cell_type": "code",
   "execution_count": 104,
   "id": "cb677bc0",
   "metadata": {},
   "outputs": [],
   "source": [
    "matrix1 = np.matrix([[1,2,3,4,5], [6,7,8,9,10]])"
   ]
  },
  {
   "cell_type": "code",
   "execution_count": 108,
   "id": "3519aa79",
   "metadata": {},
   "outputs": [
    {
     "name": "stdout",
     "output_type": "stream",
     "text": [
      "[[ 1  2  3  4  5]\n",
      " [ 6  7  8  9 10]]\n",
      "2\n",
      "(2, 5)\n",
      "<class 'numpy.matrix'>\n"
     ]
    }
   ],
   "source": [
    "print(matrix1)\n",
    "print(matrix1.ndim)\n",
    "print(matrix1.shape)\n",
    "print(type(matrix1))"
   ]
  },
  {
   "cell_type": "markdown",
   "id": "0554e21d",
   "metadata": {},
   "source": [
    "#### Arithmetic Operations In Matrix\n",
    "\n",
    "<b>1. Addition</b>\n",
    "<li>We can add two matrices by using '+' operator.</li>\n",
    "<li>If m1 and m2 are two numpy matrices then we can calculate the sum of these two matrices using m1 + m2.</li>"
   ]
  },
  {
   "cell_type": "code",
   "execution_count": 109,
   "id": "261c5607",
   "metadata": {},
   "outputs": [
    {
     "name": "stdout",
     "output_type": "stream",
     "text": [
      "[[1 2]\n",
      " [3 4]]\n",
      "(2, 2)\n",
      "\n",
      "[[5 6]\n",
      " [7 8]]\n",
      "(2, 2)\n"
     ]
    }
   ],
   "source": [
    "m1 = np.matrix([[1,2], [3,4]])\n",
    "print(m1)\n",
    "print(m1.shape)\n",
    "\n",
    "m2 = np.matrix([[5,6], [7,8]])\n",
    "print()\n",
    "print(m2)\n",
    "print(m2.shape)"
   ]
  },
  {
   "cell_type": "code",
   "execution_count": 111,
   "id": "584b09ed",
   "metadata": {},
   "outputs": [
    {
     "name": "stdout",
     "output_type": "stream",
     "text": [
      "[[ 6  8]\n",
      " [10 12]]\n",
      "(2, 2)\n"
     ]
    }
   ],
   "source": [
    "addition_matrix = m1 + m2\n",
    "print(addition_matrix)\n",
    "print(addition_matrix.shape)"
   ]
  },
  {
   "cell_type": "code",
   "execution_count": null,
   "id": "8b229383",
   "metadata": {},
   "outputs": [],
   "source": []
  },
  {
   "cell_type": "markdown",
   "id": "0de80db1",
   "metadata": {},
   "source": [
    "<b>2. Subtraction</b>\n",
    "<li>We can subtract two matrices by using '-' operator.</li>\n",
    "<li>If m1 and m2 are two numpy matrices then we can calculate the difference of these two matrices using m1 - m2.</li>"
   ]
  },
  {
   "cell_type": "code",
   "execution_count": 112,
   "id": "02daf3ee",
   "metadata": {},
   "outputs": [
    {
     "name": "stdout",
     "output_type": "stream",
     "text": [
      "[[1 2]\n",
      " [3 4]]\n",
      "(2, 2)\n",
      "\n",
      "[[5 6]\n",
      " [7 8]]\n",
      "(2, 2)\n"
     ]
    }
   ],
   "source": [
    "m1 = np.matrix([[1,2], [3,4]])\n",
    "print(m1)\n",
    "print(m1.shape)\n",
    "\n",
    "m2 = np.matrix([[5,6], [7,8]])\n",
    "print()\n",
    "print(m2)\n",
    "print(m2.shape)"
   ]
  },
  {
   "cell_type": "code",
   "execution_count": 113,
   "id": "d634bc24",
   "metadata": {},
   "outputs": [
    {
     "data": {
      "text/plain": [
       "matrix([[-4, -4],\n",
       "        [-4, -4]])"
      ]
     },
     "execution_count": 113,
     "metadata": {},
     "output_type": "execute_result"
    }
   ],
   "source": [
    "m1 - m2 "
   ]
  },
  {
   "cell_type": "code",
   "execution_count": null,
   "id": "04272f38",
   "metadata": {},
   "outputs": [],
   "source": []
  },
  {
   "cell_type": "markdown",
   "id": "2f0f2f88",
   "metadata": {},
   "source": [
    "<b>3. Matrix Multiplication</b>\n",
    "<li>We can multiply two matrices by using '*' operator.</li>\n",
    "<li>If m1 and m2 are two numpy matrices then we can perform matrix multiplication by using m1 * m2.</li>\n",
    "\n",
    "<li>There are three main ways to perform NumPy matrix multiplication:</li>\n",
    "<ol>\n",
    "    <li>np.dot(array a, array b): returns the scalar or dot product of two arrays.</li>\n",
    "    <li>np.matmul(array a, array b): returns the matrix product of two arrays.</li>\n",
    "</ol>"
   ]
  },
  {
   "cell_type": "code",
   "execution_count": 114,
   "id": "ec395b8e",
   "metadata": {},
   "outputs": [
    {
     "name": "stdout",
     "output_type": "stream",
     "text": [
      "[[1 2]\n",
      " [3 4]]\n",
      "(2, 2)\n",
      "\n",
      "[[5 6]\n",
      " [7 8]]\n",
      "(2, 2)\n"
     ]
    }
   ],
   "source": [
    "m1 = np.matrix([[1,2], [3,4]])\n",
    "print(m1)\n",
    "print(m1.shape)\n",
    "\n",
    "m2 = np.matrix([[5,6], [7,8]])\n",
    "print()\n",
    "print(m2)\n",
    "print(m2.shape)"
   ]
  },
  {
   "cell_type": "code",
   "execution_count": 115,
   "id": "d22e3941",
   "metadata": {},
   "outputs": [
    {
     "data": {
      "text/plain": [
       "matrix([[19, 22],\n",
       "        [43, 50]])"
      ]
     },
     "execution_count": 115,
     "metadata": {},
     "output_type": "execute_result"
    }
   ],
   "source": [
    "m1 * m2"
   ]
  },
  {
   "cell_type": "code",
   "execution_count": 116,
   "id": "5a739ab8",
   "metadata": {},
   "outputs": [
    {
     "data": {
      "text/plain": [
       "matrix([[19, 22],\n",
       "        [43, 50]])"
      ]
     },
     "execution_count": 116,
     "metadata": {},
     "output_type": "execute_result"
    }
   ],
   "source": [
    "np.matmul(m1, m2)"
   ]
  },
  {
   "cell_type": "code",
   "execution_count": 117,
   "id": "60556604",
   "metadata": {},
   "outputs": [
    {
     "data": {
      "text/plain": [
       "matrix([[19, 22],\n",
       "        [43, 50]])"
      ]
     },
     "execution_count": 117,
     "metadata": {},
     "output_type": "execute_result"
    }
   ],
   "source": [
    "np.dot(m1, m2)"
   ]
  },
  {
   "cell_type": "code",
   "execution_count": 118,
   "id": "22bb865a",
   "metadata": {},
   "outputs": [
    {
     "data": {
      "text/plain": [
       "matrix([[ 5, 12],\n",
       "        [21, 32]])"
      ]
     },
     "execution_count": 118,
     "metadata": {},
     "output_type": "execute_result"
    }
   ],
   "source": [
    "np.multiply(m1, m2)"
   ]
  },
  {
   "cell_type": "markdown",
   "id": "382e77fa",
   "metadata": {},
   "source": [
    "#### Matrix Functions In NumPy\n",
    "<ol>\n",
    "    <b><li>Transpose</li></b>\n",
    "    <b><li>Swapaxes</li></b>\n",
    "    <b><li>Inverse</li></b>\n",
    "    <b><li>Power</li></b>\n",
    "    <b><li>Determinate</li></b>\n",
    "</ol>"
   ]
  },
  {
   "cell_type": "markdown",
   "id": "389a158d",
   "metadata": {},
   "source": [
    "<b>1. Transpose:</b>\n",
    "<li>The transpose of a matrix arranges rows into columns and columns into rows.</li>\n",
    "<li>If the shape of a matrix is 2*3 before transpose then the shape after transpose will be 3 * 2. Rows are converted into columns and columns into rows.</li>\n",
    "\n",
    "<li>We can transpose a given matrix by using np.transpose() method.</li>"
   ]
  },
  {
   "cell_type": "code",
   "execution_count": 119,
   "id": "b6eab6cc",
   "metadata": {},
   "outputs": [
    {
     "name": "stdout",
     "output_type": "stream",
     "text": [
      "[[2 3 4]\n",
      " [5 6 7]]\n",
      "(2, 3)\n"
     ]
    }
   ],
   "source": [
    "matrix1 = np.matrix([[2, 3, 4], [5,6,7]])\n",
    "print(matrix1)\n",
    "print(matrix1.shape)"
   ]
  },
  {
   "cell_type": "code",
   "execution_count": 120,
   "id": "46814bf1",
   "metadata": {},
   "outputs": [
    {
     "name": "stdout",
     "output_type": "stream",
     "text": [
      "[[2 5]\n",
      " [3 6]\n",
      " [4 7]]\n",
      "(3, 2)\n"
     ]
    }
   ],
   "source": [
    "transpose_matrix = np.transpose(matrix1)\n",
    "print(transpose_matrix)\n",
    "print(transpose_matrix.shape)"
   ]
  },
  {
   "cell_type": "markdown",
   "id": "d64750a7",
   "metadata": {},
   "source": [
    "<b>2. Swapaxes:</b>\n",
    "<li>The swapaxes() function is used to interchange two axes of an array.</li>\n",
    "<li>We can use np.swapaxes() method to swap the axes of an array.</li>\n",
    "\n",
    "**Syntax**\n",
    "<code>\n",
    "    np.swapaxes(matrix, source, destination)\n",
    "</code>"
   ]
  },
  {
   "cell_type": "code",
   "execution_count": 122,
   "id": "813fe810",
   "metadata": {},
   "outputs": [
    {
     "name": "stdout",
     "output_type": "stream",
     "text": [
      "[[2 3 4]\n",
      " [5 6 7]]\n",
      "(2, 3)\n"
     ]
    }
   ],
   "source": [
    "print(matrix1)\n",
    "print(matrix1.shape)"
   ]
  },
  {
   "cell_type": "code",
   "execution_count": 123,
   "id": "6e7d7648",
   "metadata": {},
   "outputs": [
    {
     "name": "stdout",
     "output_type": "stream",
     "text": [
      "[[2 5]\n",
      " [3 6]\n",
      " [4 7]]\n",
      "(3, 2)\n"
     ]
    }
   ],
   "source": [
    "swaped_matrix = np.swapaxes(matrix1, 0, 1)\n",
    "print(swaped_matrix)\n",
    "print(swaped_matrix.shape)"
   ]
  },
  {
   "cell_type": "code",
   "execution_count": null,
   "id": "62367bb4",
   "metadata": {},
   "outputs": [],
   "source": []
  },
  {
   "cell_type": "markdown",
   "id": "32f2a474",
   "metadata": {},
   "source": [
    "<b>3. Matrix Inverse:</b>\n",
    "<li>The inverse of matrix is another matrix, which on multiplying with the given matrix gives the multiplicative identity.</li>\n",
    "<li>Inverse of Matrix for a matrix A is denoted by A-1.</li>\n",
    "<li>The inverse of a 2 × 2 matrix can be calculated using a simple formula.</li>\n",
    "<li>Further, to find the inverse of a matrix of order 3 or higher, we need to know about the determinant and adjoint of the matrix.</li>\n",
    "<li>Matrix Inverse (A-1) = 1/det(A) * Adj(A)</li>\n",
    "<li>We can only calculate the inverse of a square matrix.</li>\n",
    "<li>In numpy, we can calculate the inverse of a matrix by using np.linalg.inv() method.</li>\n"
   ]
  },
  {
   "cell_type": "code",
   "execution_count": 124,
   "id": "bd7fbb8b",
   "metadata": {},
   "outputs": [
    {
     "name": "stdout",
     "output_type": "stream",
     "text": [
      "[[1 2]\n",
      " [7 8]]\n",
      "(2, 2)\n"
     ]
    }
   ],
   "source": [
    "matrix1 = np.matrix([[1,2], [7,8]])\n",
    "print(matrix1)\n",
    "print(matrix1.shape)"
   ]
  },
  {
   "cell_type": "code",
   "execution_count": 125,
   "id": "6ad2c29e",
   "metadata": {},
   "outputs": [
    {
     "name": "stdout",
     "output_type": "stream",
     "text": [
      "[[-1.33333333  0.33333333]\n",
      " [ 1.16666667 -0.16666667]]\n",
      "(2, 2)\n"
     ]
    }
   ],
   "source": [
    "inverse_matrix1 = np.linalg.inv(matrix1)\n",
    "print(inverse_matrix1)\n",
    "print(inverse_matrix1.shape)"
   ]
  },
  {
   "cell_type": "markdown",
   "id": "349e16ac",
   "metadata": {},
   "source": [
    "<b>4. Power in Matrix</b>\n",
    "\n",
    "<li>We can calculate the power of a matrix by using np.linalg.matrix_power() method.</li>\n",
    "<li>It accepts two parameters :</li>\n",
    "<ol>\n",
    "    <li>matrix</li>\n",
    "    <li>n ->power</li>\n",
    "</ol>\n",
    "<li>If value of n equals 0 then the matrix power 0 always equal identity matrix.</li>\n",
    "<li>If value of n > 0 then the matrix multiplication is performed for n times.</li>\n",
    "<li>If value of n < 0 then the matrix multiplication is done for n times with its inverse.</li>"
   ]
  },
  {
   "cell_type": "code",
   "execution_count": 130,
   "id": "9878508d",
   "metadata": {},
   "outputs": [
    {
     "name": "stdout",
     "output_type": "stream",
     "text": [
      "[[ 1  2  3]\n",
      " [ 4  5  6]\n",
      " [ 7  8 11]]\n"
     ]
    }
   ],
   "source": [
    "matrix_order3 = np.matrix([[1,2,3], [4,5,6], [7,8,11]])\n",
    "print(matrix_order3)"
   ]
  },
  {
   "cell_type": "code",
   "execution_count": 131,
   "id": "9793f284",
   "metadata": {},
   "outputs": [
    {
     "data": {
      "text/plain": [
       "matrix([[1, 0, 0],\n",
       "        [0, 1, 0],\n",
       "        [0, 0, 1]])"
      ]
     },
     "execution_count": 131,
     "metadata": {},
     "output_type": "execute_result"
    }
   ],
   "source": [
    "np.linalg.matrix_power(matrix_order3, 0)"
   ]
  },
  {
   "cell_type": "code",
   "execution_count": 132,
   "id": "bdaaf634",
   "metadata": {},
   "outputs": [
    {
     "data": {
      "text/plain": [
       "matrix([[ 30,  36,  48],\n",
       "        [ 66,  81, 108],\n",
       "        [116, 142, 190]])"
      ]
     },
     "execution_count": 132,
     "metadata": {},
     "output_type": "execute_result"
    }
   ],
   "source": [
    "np.linalg.matrix_power(matrix_order3, 2)"
   ]
  },
  {
   "cell_type": "code",
   "execution_count": 133,
   "id": "5ff530a7",
   "metadata": {},
   "outputs": [
    {
     "data": {
      "text/plain": [
       "matrix([[ 1.50000000e+00, -6.66666667e-01, -5.55111512e-17],\n",
       "        [-3.33333333e-01,  3.66666667e+00, -2.00000000e+00],\n",
       "        [-6.66666667e-01, -2.33333333e+00,  1.50000000e+00]])"
      ]
     },
     "execution_count": 133,
     "metadata": {},
     "output_type": "execute_result"
    }
   ],
   "source": [
    "np.linalg.matrix_power(matrix_order3, -2)"
   ]
  },
  {
   "cell_type": "markdown",
   "id": "03c3435f",
   "metadata": {},
   "source": [
    "<b>5. Determinant</b>\n",
    "<li>For a 2×2 matrix (2 rows and 2 columns):</li>\n",
    "\n",
    "**A = [[a b] [c d]]**\n",
    "\n",
    "<li>The determinant is:</li>\n",
    "<code>\n",
    "    |A| = ad − bc\n",
    "</code>\n",
    "\n",
    "**\"The determinant of A equals a times d minus b times c\"**\n",
    "\n",
    "<li>In numpy, we can calculate the determinant of a matrix by using np.linalg.det() method.</li>"
   ]
  },
  {
   "cell_type": "code",
   "execution_count": 134,
   "id": "f0f368bd",
   "metadata": {},
   "outputs": [
    {
     "data": {
      "text/plain": [
       "-6.0"
      ]
     },
     "execution_count": 134,
     "metadata": {},
     "output_type": "execute_result"
    }
   ],
   "source": [
    "np.linalg.det(matrix_order3)"
   ]
  },
  {
   "cell_type": "code",
   "execution_count": 135,
   "id": "583f936a",
   "metadata": {},
   "outputs": [
    {
     "name": "stdout",
     "output_type": "stream",
     "text": [
      "[[1 2 3]\n",
      " [4 5 6]\n",
      " [7 8 9]]\n"
     ]
    }
   ],
   "source": [
    "matrix_order3s = np.matrix([[1,2,3], [4,5,6], [7,8,9]])\n",
    "print(matrix_order3s)"
   ]
  },
  {
   "cell_type": "code",
   "execution_count": 136,
   "id": "ce0e559c",
   "metadata": {},
   "outputs": [
    {
     "data": {
      "text/plain": [
       "0.0"
      ]
     },
     "execution_count": 136,
     "metadata": {},
     "output_type": "execute_result"
    }
   ],
   "source": [
    "np.linalg.det(matrix_order3s)"
   ]
  },
  {
   "cell_type": "code",
   "execution_count": null,
   "id": "97281fdc",
   "metadata": {},
   "outputs": [],
   "source": []
  }
 ],
 "metadata": {
  "kernelspec": {
   "display_name": "Python 3 (ipykernel)",
   "language": "python",
   "name": "python3"
  },
  "language_info": {
   "codemirror_mode": {
    "name": "ipython",
    "version": 3
   },
   "file_extension": ".py",
   "mimetype": "text/x-python",
   "name": "python",
   "nbconvert_exporter": "python",
   "pygments_lexer": "ipython3",
   "version": "3.9.13"
  }
 },
 "nbformat": 4,
 "nbformat_minor": 5
}
