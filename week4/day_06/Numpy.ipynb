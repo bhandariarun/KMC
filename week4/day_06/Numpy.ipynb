{
 "cells": [
  {
   "cell_type": "code",
   "execution_count": 2,
   "id": "acf07516-af6d-4e5c-88e0-e1f53b4e59a3",
   "metadata": {},
   "outputs": [],
   "source": [
    "import numpy as np"
   ]
  },
  {
   "cell_type": "markdown",
   "id": "64663e05-cd80-433d-b88f-159828ec6f42",
   "metadata": {},
   "source": [
    "**Array Creation**"
   ]
  },
  {
   "cell_type": "markdown",
   "id": "68512a1f-4cb1-4e35-82c1-cfa9b966f782",
   "metadata": {},
   "source": [
    "**Numpy Data Types**\n",
    "**Create numpy array via 1D list**"
   ]
  },
  {
   "cell_type": "code",
   "execution_count": 3,
   "id": "ed1cc5e7-c80b-4af6-9df4-84c17b868e94",
   "metadata": {},
   "outputs": [
    {
     "name": "stdout",
     "output_type": "stream",
     "text": [
      "[1 1 2 3 4 5 6]\n"
     ]
    }
   ],
   "source": [
    "list1 = [1,1,2,3,4,5,6]\n",
    "arr1 = np.array(list1)\n",
    "print(arr1)"
   ]
  },
  {
   "cell_type": "code",
   "execution_count": 4,
   "id": "68628b78-568b-419a-9c41-4bb1f77e3908",
   "metadata": {},
   "outputs": [
    {
     "name": "stdout",
     "output_type": "stream",
     "text": [
      "[1 1 2 3 4 5 6]\n"
     ]
    }
   ],
   "source": [
    "list6 = [1,2,1.0,2.0,'Arun','Lokesh']\n",
    "arr6 = np.array(list1)\n",
    "print(arr6)"
   ]
  },
  {
   "cell_type": "code",
   "execution_count": 3,
   "id": "c4a5f45c-e5f0-4912-92d4-b6a9eb29fe96",
   "metadata": {},
   "outputs": [
    {
     "data": {
      "text/plain": [
       "numpy.ndarray"
      ]
     },
     "execution_count": 3,
     "metadata": {},
     "output_type": "execute_result"
    }
   ],
   "source": [
    "type(arr1)"
   ]
  },
  {
   "cell_type": "markdown",
   "id": "f4def11e-0231-43e1-853e-5f6b61ed155d",
   "metadata": {},
   "source": [
    "**Create numpy array via 2D list**"
   ]
  },
  {
   "cell_type": "code",
   "execution_count": 9,
   "id": "1fab937f-7549-4e25-b126-253529a86a0c",
   "metadata": {},
   "outputs": [
    {
     "name": "stdout",
     "output_type": "stream",
     "text": [
      "[[1. 2. 3.]\n",
      " [4. 5. 6.]]\n"
     ]
    }
   ],
   "source": [
    "list2 = [\n",
    "    [1,2,3],\n",
    "    [4,5,6]\n",
    "]\n",
    "arr2 = np.array(list2, dtype='float32')\n",
    "print(arr2)"
   ]
  },
  {
   "cell_type": "code",
   "execution_count": 10,
   "id": "46bc8578-32d0-4d56-882f-d5896ef31f81",
   "metadata": {
    "scrolled": true
   },
   "outputs": [
    {
     "data": {
      "text/plain": [
       "numpy.ndarray"
      ]
     },
     "execution_count": 10,
     "metadata": {},
     "output_type": "execute_result"
    }
   ],
   "source": [
    "type(arr2)"
   ]
  },
  {
   "cell_type": "markdown",
   "id": "fca7693f-ddde-4dc7-9cc1-f897ef34d875",
   "metadata": {},
   "source": [
    "**Create numpy array via built-in array creation functions**"
   ]
  },
  {
   "cell_type": "code",
   "execution_count": 11,
   "id": "98c34ac7-bd1c-457e-994d-313b9deba255",
   "metadata": {},
   "outputs": [
    {
     "data": {
      "text/plain": [
       "array([0, 0, 0, 0, 0, 0, 0, 0, 0, 0])"
      ]
     },
     "execution_count": 11,
     "metadata": {},
     "output_type": "execute_result"
    }
   ],
   "source": [
    "np.zeros(10, dtype='int')"
   ]
  },
  {
   "cell_type": "code",
   "execution_count": 14,
   "id": "4cef4f14-fdef-4416-9aaa-a15ae7be45ca",
   "metadata": {},
   "outputs": [
    {
     "data": {
      "text/plain": [
       "array([[0, 0, 0, 0, 0],\n",
       "       [0, 0, 0, 0, 0],\n",
       "       [0, 0, 0, 0, 0]])"
      ]
     },
     "execution_count": 14,
     "metadata": {},
     "output_type": "execute_result"
    }
   ],
   "source": [
    "np.zeros((3,5), dtype='int')"
   ]
  },
  {
   "cell_type": "code",
   "execution_count": 13,
   "id": "ff43a7f7-f13b-472a-9df5-f1a08238a5d4",
   "metadata": {},
   "outputs": [
    {
     "data": {
      "text/plain": [
       "array([[1., 1., 1., 1., 1.],\n",
       "       [1., 1., 1., 1., 1.],\n",
       "       [1., 1., 1., 1., 1.]])"
      ]
     },
     "execution_count": 13,
     "metadata": {},
     "output_type": "execute_result"
    }
   ],
   "source": [
    "np.ones((3,5), dtype='float')"
   ]
  },
  {
   "cell_type": "code",
   "execution_count": 17,
   "id": "c341a96e-e5f8-4785-b6e0-4f1f5016d05d",
   "metadata": {},
   "outputs": [
    {
     "data": {
      "text/plain": [
       "array([[3.14, 3.14, 3.14, 3.14, 3.14],\n",
       "       [3.14, 3.14, 3.14, 3.14, 3.14],\n",
       "       [3.14, 3.14, 3.14, 3.14, 3.14]])"
      ]
     },
     "execution_count": 17,
     "metadata": {},
     "output_type": "execute_result"
    }
   ],
   "source": [
    "np.full((3,5), 3.14)"
   ]
  },
  {
   "cell_type": "code",
   "execution_count": 21,
   "id": "a9512592-77fa-4e74-b54d-0f2a2e606e1b",
   "metadata": {},
   "outputs": [
    {
     "data": {
      "text/plain": [
       "array([ 0,  2,  4,  6,  8, 10, 12, 14, 16, 18])"
      ]
     },
     "execution_count": 21,
     "metadata": {},
     "output_type": "execute_result"
    }
   ],
   "source": [
    "np.arange(0,20,2)  #using in for loop also"
   ]
  },
  {
   "cell_type": "code",
   "execution_count": 24,
   "id": "e0cfcfe8-a04a-493d-91c6-eea7637f2332",
   "metadata": {},
   "outputs": [
    {
     "data": {
      "text/plain": [
       "array([[0.98617231, 0.99738925, 0.52443566],\n",
       "       [0.46700495, 0.63112404, 0.10755224],\n",
       "       [0.71126284, 0.8053554 , 0.53634787]])"
      ]
     },
     "execution_count": 24,
     "metadata": {},
     "output_type": "execute_result"
    }
   ],
   "source": [
    "np.random.random((3,3))"
   ]
  },
  {
   "cell_type": "code",
   "execution_count": 26,
   "id": "05f1cbb5-44a7-47b4-8260-013a5b3c72a3",
   "metadata": {},
   "outputs": [
    {
     "data": {
      "text/plain": [
       "array([[ 0.39924335, -0.00632535, -0.93348318],\n",
       "       [ 0.61997831,  0.23571489, -0.10406598],\n",
       "       [ 0.89449241,  0.17543883, -0.57304172]])"
      ]
     },
     "execution_count": 26,
     "metadata": {},
     "output_type": "execute_result"
    }
   ],
   "source": [
    "np.random.normal(0,1,(3,3))"
   ]
  },
  {
   "cell_type": "code",
   "execution_count": 27,
   "id": "2ca56258-c6ee-47be-8a85-3a05c70e7418",
   "metadata": {},
   "outputs": [
    {
     "data": {
      "text/plain": [
       "array([[ 1.18242204, -2.1243227 ,  2.97898055],\n",
       "       [ 1.51242898, -0.72700295,  0.55018023],\n",
       "       [-0.85621711,  1.88767791,  2.66951284]])"
      ]
     },
     "execution_count": 27,
     "metadata": {},
     "output_type": "execute_result"
    }
   ],
   "source": [
    "np.random.normal(0,2,(3,3)) #mean=0 and standard deviantion=2 if we use normal"
   ]
  },
  {
   "cell_type": "code",
   "execution_count": 29,
   "id": "511036e0-057e-423f-a338-144b9cdeb32e",
   "metadata": {},
   "outputs": [
    {
     "data": {
      "text/plain": [
       "array([[0, 9, 2],\n",
       "       [9, 4, 3],\n",
       "       [8, 8, 7]])"
      ]
     },
     "execution_count": 29,
     "metadata": {},
     "output_type": "execute_result"
    }
   ],
   "source": [
    "np.random.randint(0,10,(3,3)) #range if we use randit"
   ]
  },
  {
   "cell_type": "code",
   "execution_count": 35,
   "id": "96573c5a-2fa7-46b3-89ee-a3a42d973147",
   "metadata": {},
   "outputs": [],
   "source": [
    "sample_array = np.array([\n",
    "    [1,2,3],\n",
    "    [4,5,6],\n",
    "    [7,8,9]\n",
    "])"
   ]
  },
  {
   "cell_type": "code",
   "execution_count": 36,
   "id": "90fd37bd-10eb-4a8b-9cf2-0034784ecbbf",
   "metadata": {},
   "outputs": [
    {
     "name": "stdout",
     "output_type": "stream",
     "text": [
      "The dimension of sample array is: 2\n"
     ]
    }
   ],
   "source": [
    "print(f'The dimension of sample array is: {sample_array.ndim}')"
   ]
  },
  {
   "cell_type": "code",
   "execution_count": 39,
   "id": "968394b4-6c04-4166-9539-e68adbaa8a23",
   "metadata": {},
   "outputs": [],
   "source": [
    "sample_array = np.array([[\n",
    "    [1,2,3],\n",
    "    [4,5,6],\n",
    "    [7,8,9]\n",
    "]])"
   ]
  },
  {
   "cell_type": "code",
   "execution_count": 40,
   "id": "40965413-babd-4335-a08f-706f9aa749fe",
   "metadata": {},
   "outputs": [
    {
     "name": "stdout",
     "output_type": "stream",
     "text": [
      "The dimension of sample array is: 3\n"
     ]
    }
   ],
   "source": [
    "print(f'The dimension of sample array is: {sample_array.ndim}')"
   ]
  },
  {
   "cell_type": "code",
   "execution_count": 41,
   "id": "a4884fb2-52df-4b2b-bbc9-c2f8858be9cb",
   "metadata": {},
   "outputs": [
    {
     "name": "stdout",
     "output_type": "stream",
     "text": [
      "The dimension of sample array is: (1, 3, 3)\n"
     ]
    }
   ],
   "source": [
    "print(f'The dimension of sample array is: {sample_array.shape}')"
   ]
  },
  {
   "cell_type": "code",
   "execution_count": 42,
   "id": "b1940f14-5866-4b6c-85c4-a58d41f02a6e",
   "metadata": {},
   "outputs": [
    {
     "name": "stdout",
     "output_type": "stream",
     "text": [
      "The dimension of sample array is: 9\n"
     ]
    }
   ],
   "source": [
    "print(f'The dimension of sample array is: {sample_array.size}')"
   ]
  },
  {
   "cell_type": "code",
   "execution_count": 43,
   "id": "ed20a126-ccab-456d-8a83-55222be5629b",
   "metadata": {},
   "outputs": [
    {
     "name": "stdout",
     "output_type": "stream",
     "text": [
      "The dimension of sample array is: int32\n"
     ]
    }
   ],
   "source": [
    "print(f'The dimension of sample array is: {sample_array.dtype}')"
   ]
  },
  {
   "cell_type": "code",
   "execution_count": 46,
   "id": "b15336a4-f0b4-4790-8b16-f844069ef767",
   "metadata": {},
   "outputs": [
    {
     "name": "stdout",
     "output_type": "stream",
     "text": [
      "The dimension of sample array is: <built-in method item of numpy.ndarray object at 0x000001718F762C90>\n"
     ]
    }
   ],
   "source": [
    "print(f'The dimension of sample array is: {sample_array.item}')"
   ]
  },
  {
   "cell_type": "code",
   "execution_count": null,
   "id": "acca14f8-fe0d-45d1-bc50-2846355634c8",
   "metadata": {},
   "outputs": [],
   "source": []
  }
 ],
 "metadata": {
  "kernelspec": {
   "display_name": "Python 3 (ipykernel)",
   "language": "python",
   "name": "python3"
  },
  "language_info": {
   "codemirror_mode": {
    "name": "ipython",
    "version": 3
   },
   "file_extension": ".py",
   "mimetype": "text/x-python",
   "name": "python",
   "nbconvert_exporter": "python",
   "pygments_lexer": "ipython3",
   "version": "3.9.13"
  }
 },
 "nbformat": 4,
 "nbformat_minor": 5
}
