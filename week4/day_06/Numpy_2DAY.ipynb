{
 "cells": [
  {
   "cell_type": "code",
   "execution_count": 2,
   "id": "3a328a10-06c4-4bfb-adfc-35356b0f3f6f",
   "metadata": {},
   "outputs": [],
   "source": [
    "import numpy as np"
   ]
  },
  {
   "cell_type": "code",
   "execution_count": 3,
   "id": "4711457b-8884-4ac6-aa26-264a24c2edd6",
   "metadata": {},
   "outputs": [
    {
     "name": "stdout",
     "output_type": "stream",
     "text": [
      "[1 2 3 4]\n"
     ]
    }
   ],
   "source": [
    "arr01 = np.array([1,2,3,4])\n",
    "print(arr01)"
   ]
  },
  {
   "cell_type": "code",
   "execution_count": 4,
   "id": "68e94ecb-5ae9-4191-8fc7-d6ae79e6234f",
   "metadata": {},
   "outputs": [
    {
     "name": "stdout",
     "output_type": "stream",
     "text": [
      "['1' '2' '3' '4' 'Sunil']\n"
     ]
    }
   ],
   "source": [
    "arr02 = np.array([1,2,3,4,'Sunil'])\n",
    "print(arr02)"
   ]
  },
  {
   "cell_type": "code",
   "execution_count": 5,
   "id": "c3d69e17-4a65-438a-aa1d-de86d19ff9e1",
   "metadata": {},
   "outputs": [
    {
     "name": "stdout",
     "output_type": "stream",
     "text": [
      "[1 2 3 4 1 3]\n"
     ]
    }
   ],
   "source": [
    "arr03 = np.array([1,2,3,4,1.0,3.0], dtype=int)\n",
    "print(arr03)"
   ]
  },
  {
   "cell_type": "code",
   "execution_count": 6,
   "id": "6dff90cf-6dab-4d12-b765-fb4b674b4d52",
   "metadata": {},
   "outputs": [
    {
     "name": "stdout",
     "output_type": "stream",
     "text": [
      "[1 2 3 4 'Sunil' 'Arun']\n"
     ]
    }
   ],
   "source": [
    "arr04 = np.array([1,2,3,4,'Sunil','Arun'], dtype=object)\n",
    "print(arr04)"
   ]
  },
  {
   "cell_type": "code",
   "execution_count": 7,
   "id": "92804f6e-da64-49bc-803a-670f9fd93190",
   "metadata": {},
   "outputs": [
    {
     "name": "stdout",
     "output_type": "stream",
     "text": [
      "1st item: 0\n",
      "2nd item: 1\n",
      "3rd item: 2\n",
      "4th item: 3\n"
     ]
    }
   ],
   "source": [
    "a = np.array([0,1,2,3,4])\n",
    "print(f'1st item: {a[0]}')\n",
    "print(f'2nd item: {a[1]}')\n",
    "print(f'3rd item: {a[2]}')\n",
    "print(f'4th item: {a[3]}')"
   ]
  },
  {
   "cell_type": "code",
   "execution_count": 22,
   "id": "27cb5ab4-9c2a-4890-a9f6-931b65711117",
   "metadata": {},
   "outputs": [
    {
     "name": "stdout",
     "output_type": "stream",
     "text": [
      "11\n",
      "12\n",
      "13\n",
      "21\n",
      "22\n",
      "23\n",
      "31\n",
      "32\n",
      "33\n"
     ]
    }
   ],
   "source": [
    "arr_idx_2d = np.array([\n",
    "    [11,12,13],\n",
    "    [21,22,23],\n",
    "    [31,32,33]\n",
    "])\n",
    "print(arr_idx_2d[0,0])\n",
    "print(arr_idx_2d[0,1])\n",
    "print(arr_idx_2d[0,2])\n",
    "print(arr_idx_2d[1,0])\n",
    "print(arr_idx_2d[1,1])\n",
    "print(arr_idx_2d[1,2])\n",
    "print(arr_idx_2d[2,0])\n",
    "print(arr_idx_2d[2,1])\n",
    "print(arr_idx_2d[2,2])"
   ]
  },
  {
   "cell_type": "markdown",
   "id": "e5a93ffc-567a-493e-92de-2fb1392da1b6",
   "metadata": {},
   "source": [
    "**Array Slicing: Accessing Subarrays**\n",
    "\n",
    "**-Slicing means taling elements from one given index to another**\n",
    "\n",
    "**-Syntax: array[start_index:end_index:step]**\n",
    "\n",
    "**-conditions:**\n",
    "\n",
    "**If we don't pass start its consider as 0**\n",
    "\n",
    "**If we don't pass end its considered length of array in that dimension**\n",
    "\n",
    "**If we don't pass step its considered as 1**\n",
    "\n",
    "**-case:**\n",
    "\n",
    "**step is positive:left to right indexing**\n",
    "\n",
    "**step is negative: right to left indexing**\n",
    "\n",
    "**Note:end index is exclusive**"
   ]
  },
  {
   "cell_type": "code",
   "execution_count": 27,
   "id": "549a6d34-0f69-4361-b383-359e0712b866",
   "metadata": {},
   "outputs": [
    {
     "name": "stdout",
     "output_type": "stream",
     "text": [
      "[2 3 4]\n"
     ]
    }
   ],
   "source": [
    "arr6 = np.array([1,2,3,4,5,6,7])\n",
    "arr1_slice = arr6[1:4]\n",
    "print(arr1_slice)"
   ]
  },
  {
   "cell_type": "code",
   "execution_count": 28,
   "id": "f864d94f-d148-4292-9b76-2468700220eb",
   "metadata": {},
   "outputs": [
    {
     "data": {
      "text/plain": [
       "array([5, 6, 7])"
      ]
     },
     "execution_count": 28,
     "metadata": {},
     "output_type": "execute_result"
    }
   ],
   "source": [
    "arr6[4:]"
   ]
  },
  {
   "cell_type": "code",
   "execution_count": 29,
   "id": "0fe7b28c-f353-4bbd-9e18-e120b701827a",
   "metadata": {},
   "outputs": [
    {
     "data": {
      "text/plain": [
       "array([1, 3, 5, 7])"
      ]
     },
     "execution_count": 29,
     "metadata": {},
     "output_type": "execute_result"
    }
   ],
   "source": [
    "arr6[::2]"
   ]
  },
  {
   "cell_type": "code",
   "execution_count": 30,
   "id": "a261bd7b-ca22-4fb6-ac9a-f55396ca0d24",
   "metadata": {},
   "outputs": [
    {
     "data": {
      "text/plain": [
       "array([5, 6])"
      ]
     },
     "execution_count": 30,
     "metadata": {},
     "output_type": "execute_result"
    }
   ],
   "source": [
    "arr6[-3:-1]"
   ]
  },
  {
   "cell_type": "code",
   "execution_count": 31,
   "id": "5e0cf1f1-4329-487d-84bb-a42615bd20ab",
   "metadata": {},
   "outputs": [
    {
     "data": {
      "text/plain": [
       "array([7, 6, 5, 4, 3, 2, 1])"
      ]
     },
     "execution_count": 31,
     "metadata": {},
     "output_type": "execute_result"
    }
   ],
   "source": [
    "arr6[::-1]"
   ]
  },
  {
   "cell_type": "markdown",
   "id": "d2f5888e-b033-4e3a-8b8a-269b3f0111af",
   "metadata": {},
   "source": [
    "**Slicing 2D Array**"
   ]
  },
  {
   "cell_type": "code",
   "execution_count": 33,
   "id": "1757fd84-5912-4f63-8343-39f539d6117d",
   "metadata": {},
   "outputs": [],
   "source": [
    "arr7 = np.array([\n",
    "    [11,12,13],\n",
    "    [21,22,23],\n",
    "    [31,32,33]\n",
    "])\n"
   ]
  },
  {
   "cell_type": "code",
   "execution_count": 34,
   "id": "545ae703-23c3-47f7-8649-24e3f3e157b6",
   "metadata": {},
   "outputs": [
    {
     "data": {
      "text/plain": [
       "array([22, 23])"
      ]
     },
     "execution_count": 34,
     "metadata": {},
     "output_type": "execute_result"
    }
   ],
   "source": [
    "arr7[1,1:]"
   ]
  },
  {
   "cell_type": "markdown",
   "id": "30caab60-6e82-4f58-b890-7a042bcc45d0",
   "metadata": {},
   "source": [
    "**Copy & View**\n",
    "\n",
    "**-Copy means copy of an original array**\n",
    "\n",
    "**-view means just an view of an original array.**\n",
    "\n",
    "**-When new array is created via copying array, newly created doesn't shares the memory with original array**\n",
    "\n",
    "**-When new array is created via view of an array, newly created array shares the memory with original array**"
   ]
  },
  {
   "cell_type": "code",
   "execution_count": 42,
   "id": "20aaf5bb-5069-4654-8d4d-cc2d6159a23c",
   "metadata": {},
   "outputs": [
    {
     "name": "stdout",
     "output_type": "stream",
     "text": [
      "[1 2 3 4 5 6]\n"
     ]
    }
   ],
   "source": [
    "base_arr = np.array([1,2,3,4,5,6])\n",
    "print(base_arr)"
   ]
  },
  {
   "cell_type": "code",
   "execution_count": 43,
   "id": "b7ca5973-7acc-4e6f-a1f5-97b76a6c4736",
   "metadata": {},
   "outputs": [
    {
     "data": {
      "text/plain": [
       "array([1, 2, 3, 4, 5, 6])"
      ]
     },
     "execution_count": 43,
     "metadata": {},
     "output_type": "execute_result"
    }
   ],
   "source": [
    "base_arr.copy()"
   ]
  },
  {
   "cell_type": "code",
   "execution_count": 44,
   "id": "947b678a-1b5b-44a8-a236-82730e3ac618",
   "metadata": {},
   "outputs": [
    {
     "name": "stdout",
     "output_type": "stream",
     "text": [
      "[1 2 3 4 5 6]\n"
     ]
    }
   ],
   "source": [
    "copy_arr = base_arr.copy()\n",
    "print(copy_arr)"
   ]
  },
  {
   "cell_type": "code",
   "execution_count": 46,
   "id": "72ee345c-c51e-4962-ab20-3de337e9d7eb",
   "metadata": {},
   "outputs": [
    {
     "name": "stdout",
     "output_type": "stream",
     "text": [
      "[1 2 3 4 5 6]\n"
     ]
    }
   ],
   "source": [
    "copy_arr = base_arr\n",
    "print(copy_arr)"
   ]
  },
  {
   "cell_type": "code",
   "execution_count": 47,
   "id": "aa6ee9b7-f8c5-42b3-ab21-06c6f14dad2e",
   "metadata": {},
   "outputs": [
    {
     "name": "stdout",
     "output_type": "stream",
     "text": [
      "Do original array and copy array shares a memory?\n",
      "Ans: True\n"
     ]
    }
   ],
   "source": [
    "print(f'''Do original array and copy array shares a memory?\n",
    "Ans: {np.shares_memory(base_arr, copy_arr)}''')"
   ]
  },
  {
   "cell_type": "code",
   "execution_count": 48,
   "id": "2ffe87f0-9d25-4617-927f-1bddc3666749",
   "metadata": {},
   "outputs": [
    {
     "name": "stdout",
     "output_type": "stream",
     "text": [
      "[1 2 3 4 5 6]\n"
     ]
    }
   ],
   "source": [
    "copy_arr2 = base_arr.copy()\n",
    "print(copy_arr2)"
   ]
  },
  {
   "cell_type": "code",
   "execution_count": 49,
   "id": "bfe98a3e-766a-4919-898b-a15833c906c7",
   "metadata": {},
   "outputs": [
    {
     "name": "stdout",
     "output_type": "stream",
     "text": [
      "Do original array and copy array shares a memory?\n",
      "Ans: False\n"
     ]
    }
   ],
   "source": [
    "print(f'''Do original array and copy array shares a memory?\n",
    "Ans: {np.shares_memory(base_arr, copy_arr2)}''')"
   ]
  },
  {
   "cell_type": "code",
   "execution_count": null,
   "id": "70365c92-4b03-4755-95bd-42f53a571d20",
   "metadata": {},
   "outputs": [],
   "source": [
    "#Task upto 3D\n",
    "#Time Complexity and Space Complexity and  what was the factor of minimizing time complexity and space complexity"
   ]
  }
 ],
 "metadata": {
  "kernelspec": {
   "display_name": "Python 3 (ipykernel)",
   "language": "python",
   "name": "python3"
  },
  "language_info": {
   "codemirror_mode": {
    "name": "ipython",
    "version": 3
   },
   "file_extension": ".py",
   "mimetype": "text/x-python",
   "name": "python",
   "nbconvert_exporter": "python",
   "pygments_lexer": "ipython3",
   "version": "3.9.13"
  }
 },
 "nbformat": 4,
 "nbformat_minor": 5
}
